{
 "cells": [
  {
   "cell_type": "markdown",
   "metadata": {},
   "source": [
    "# Sharing Data between processes\n",
    "\n",
    "**SHARED MEMORY:** using values, using arrays <br>\n",
    "**ITC:** using pipes, using queues\n",
    "\n",
    "## Using Array"
   ]
  },
  {
   "cell_type": "code",
   "execution_count": 1,
   "metadata": {},
   "outputs": [
    {
     "name": "stdout",
     "output_type": "stream",
     "text": [
      "outside process:  [0, 0, 0]\n",
      "Done!\n"
     ]
    }
   ],
   "source": [
    "import time\n",
    "import multiprocessing\n",
    "\n",
    "\n",
    "def calc_square(nums, res):\n",
    "    for idx,n in enumerate(nums):\n",
    "        res[idx] = (n*n)\n",
    "\n",
    "\n",
    "if __name__ == '__main__':\n",
    "    arr = [2,3,5]\n",
    "\n",
    "    # Creating shared memory\n",
    "    result = multiprocessing.Array('i',3)\n",
    "\n",
    "    p1 = multiprocessing.Process(target=calc_square, args=(arr,result))\n",
    "\n",
    "    p1.start()\n",
    "    p1.join()\n",
    "\n",
    "    print('outside process: ', result[:])\n",
    "    print('Done!')"
   ]
  },
  {
   "cell_type": "markdown",
   "metadata": {},
   "source": [
    "## Using Value"
   ]
  },
  {
   "cell_type": "code",
   "execution_count": 2,
   "metadata": {},
   "outputs": [
    {
     "name": "stdout",
     "output_type": "stream",
     "text": [
      "outside process:  [0, 0, 0]\n",
      "Value:  0.0\n",
      "Done!\n"
     ]
    }
   ],
   "source": [
    "import time\n",
    "import multiprocessing\n",
    "\n",
    "\n",
    "def calc_square(nums, res, value):\n",
    "    value.value = 5.67\n",
    "    for idx,n in enumerate(nums):\n",
    "        res[idx] = (n*n)\n",
    "\n",
    "\n",
    "if __name__ == '__main__':\n",
    "    arr = [2,3,5]\n",
    "\n",
    "    # Creating shared memory\n",
    "    result = multiprocessing.Array('i',3)\n",
    "    value = multiprocessing.Value('d',0.0)\n",
    "\n",
    "    p1 = multiprocessing.Process(target=calc_square, args=(arr,result,value))\n",
    "\n",
    "    p1.start()\n",
    "    p1.join()\n",
    "\n",
    "    print('outside process: ', result[:])\n",
    "    print('Value: ', value.value)\n",
    "    print('Done!')"
   ]
  },
  {
   "cell_type": "markdown",
   "metadata": {},
   "source": [
    "| **MULTIPROCESSING QUEUE**            | **QUEUE MODULE**                   |\n",
    "| ------------------------------------ | ---------------------------------- |\n",
    "| import multiprocessing               | import queue                       |\n",
    "| q = multiprocessing.Queue()          | q = queue.Queue()                  |\n",
    "| lives in shared memory               | lives in in-process memory         |\n",
    "| used to share data between processes | used to share data between threads |\n",
    "\n",
    "## Using Queue"
   ]
  },
  {
   "cell_type": "code",
   "execution_count": 3,
   "metadata": {},
   "outputs": [
    {
     "name": "stdout",
     "output_type": "stream",
     "text": [
      "Done!\n"
     ]
    }
   ],
   "source": [
    "import multiprocessing\n",
    "\n",
    "\n",
    "def calc_square(nums, q):\n",
    "    for n in nums:\n",
    "        q.put(n*n)\n",
    "\n",
    "\n",
    "if __name__ == '__main__':\n",
    "    arr = [2,3,5]\n",
    "\n",
    "    # Creating shared memory\n",
    "    queue = multiprocessing.Queue()\n",
    "\n",
    "    p1 = multiprocessing.Process(target=calc_square, args=(arr,queue))\n",
    "\n",
    "    p1.start()\n",
    "    p1.join()\n",
    "\n",
    "    while queue.empty() is False:\n",
    "        print(queue.get())\n",
    "    print('Done!')"
   ]
  },
  {
   "cell_type": "code",
   "execution_count": null,
   "metadata": {},
   "outputs": [],
   "source": []
  }
 ],
 "metadata": {
  "kernelspec": {
   "display_name": "Python 3",
   "language": "python",
   "name": "python3"
  },
  "language_info": {
   "codemirror_mode": {
    "name": "ipython",
    "version": 3
   },
   "file_extension": ".py",
   "mimetype": "text/x-python",
   "name": "python",
   "nbconvert_exporter": "python",
   "pygments_lexer": "ipython3",
   "version": "3.7.3"
  }
 },
 "nbformat": 4,
 "nbformat_minor": 2
}
