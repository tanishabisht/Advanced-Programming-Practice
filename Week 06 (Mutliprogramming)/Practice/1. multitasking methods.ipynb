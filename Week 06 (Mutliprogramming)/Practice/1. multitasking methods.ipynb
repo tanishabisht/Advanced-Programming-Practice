{
 "cells": [
  {
   "cell_type": "markdown",
   "metadata": {},
   "source": [
    "# MULTITASKING METHODS\n",
    "\n",
    "## Major difference btw multiprocessing and multithreading\n",
    "Both are the ways to achieve multitasking\n",
    "- **MULTIPROCESSING**\n",
    "  - every process will have its own address space\n",
    "  - memory leak in one process wont hurt in execution for the other\n",
    "- **MULTITHREADING**\n",
    "  - different threads share their address space\n",
    "  - memory leak in one process will cause same prob in execution of other linked processes"
   ]
  },
  {
   "cell_type": "code",
   "execution_count": 4,
   "metadata": {},
   "outputs": [
    {
     "name": "stdout",
     "output_type": "stream",
     "text": [
      "Square of the numbers are: \n",
      "square:  4\n",
      "square:  9\n",
      "square:  64\n",
      "square:  81\n",
      "Cube of the numbers are: \n",
      "cube:  8\n",
      "cube:  27\n",
      "cube:  512\n",
      "cube:  729\n",
      "done in:  1.6424624919891357\n",
      "hahahaha .. me done with my work!\n"
     ]
    }
   ],
   "source": [
    "# NORMAL PROGRAM: Calculate cube and square of an array at the same time\n",
    "\n",
    "import time\n",
    "\n",
    "def square(nums):\n",
    "    print('Square of the numbers are: ')\n",
    "    for n in nums:\n",
    "        time.sleep(0.2)\n",
    "        print('square: ', n*n)\n",
    "\n",
    "def cube(nums):\n",
    "    print('Cube of the numbers are: ')\n",
    "    for n in nums:\n",
    "        time.sleep(0.2)\n",
    "        print('cube: ', n*n*n)\n",
    "\n",
    "\n",
    "arr = [2,3,8,9]\n",
    "t = time.time()\n",
    "square(arr)\n",
    "cube(arr)\n",
    "print('done in: ', time.time()-t)\n",
    "print('hahahaha .. me done with my work!')"
   ]
  },
  {
   "cell_type": "code",
   "execution_count": 6,
   "metadata": {},
   "outputs": [
    {
     "name": "stdout",
     "output_type": "stream",
     "text": [
      "Square of the numbers are: \n",
      "Cube of the numbers are: \n",
      "square: cube:  8\n",
      " 4\n",
      "square: cube:  27\n",
      " 9\n",
      "cube: square:  64\n",
      " 512\n",
      "square: cube:   81729\n",
      "\n",
      "done in:  0.8349378108978271\n",
      "hahahaha .. me done with my work!\n"
     ]
    }
   ],
   "source": [
    "# WITH MULTI THREADING: Calculate cube and square of an array at the same time\n",
    "\n",
    "import time\n",
    "import threading\n",
    "\n",
    "def calc_square(nums):\n",
    "    print('Square of the numbers are: ')\n",
    "    for n in nums:\n",
    "        time.sleep(0.2)\n",
    "        print('square: ', n*n)\n",
    "\n",
    "def calc_cube(nums):\n",
    "    print('Cube of the numbers are: ')\n",
    "    for n in nums:\n",
    "        time.sleep(0.2)\n",
    "        print('cube: ', n*n*n)\n",
    "\n",
    "\n",
    "arr = [2,3,8,9]\n",
    "t = time.time()\n",
    "\n",
    "th1 = threading.Thread(target=calc_square, args=(arr,))\n",
    "th2 = threading.Thread(target=calc_cube, args=(arr,))\n",
    "\n",
    "th1.start()\n",
    "th2.start()\n",
    "\n",
    "th1.join()\n",
    "th2.join()\n",
    "\n",
    "print('done in: ', time.time()-t)\n",
    "print('hahahaha .. me done with my work!')"
   ]
  },
  {
   "cell_type": "markdown",
   "metadata": {},
   "source": [
    "## Multiprocessing\n",
    "Every process has its own address space (virtual memory). Thus program variables are not shared between two processes. You need to use interprocess communiction (IPC) techniques if you want to share data between two processes"
   ]
  },
  {
   "cell_type": "code",
   "execution_count": 8,
   "metadata": {},
   "outputs": [
    {
     "name": "stdout",
     "output_type": "stream",
     "text": [
      "done in:  0.2445993423461914\n",
      "Result []\n",
      "Done!\n"
     ]
    }
   ],
   "source": [
    "# WITH MULTI PROCESSING: Calculate cube and square of an array at the same time\n",
    "\n",
    "import time\n",
    "import multiprocessing\n",
    "\n",
    "\n",
    "square_Result = []\n",
    "def calc_square(nums):\n",
    "    global square_Result\n",
    "    print('Square of the numbers are: ')\n",
    "    for n in nums:\n",
    "        time.sleep(0.2)\n",
    "        print('square: ', n*n)\n",
    "        square_Result.append(n*n)\n",
    "        print('Withing process: Result', square_Result)\n",
    "\n",
    "\n",
    "\n",
    "def calc_cube(nums):\n",
    "    print('Cube of the numbers are: ')\n",
    "    for n in nums:\n",
    "        time.sleep(0.2)\n",
    "        print('cube: ', n*n*n)\n",
    "\n",
    "\n",
    "\n",
    "if __name__ == '__main__':\n",
    "    arr = [2,3,8,9]\n",
    "    t = time.time()\n",
    "\n",
    "    p1 = multiprocessing.Process(target=calc_square, args=(arr,))\n",
    "    p2 = multiprocessing.Process(target=calc_cube, args=(arr,))\n",
    "\n",
    "    p1.start()\n",
    "    p2.start()\n",
    "\n",
    "    p1.join()\n",
    "    p2.join()\n",
    "\n",
    "    print('done in: ', time.time()-t)\n",
    "    print('Result', square_Result)\n",
    "    print('Done!')"
   ]
  },
  {
   "cell_type": "code",
   "execution_count": null,
   "metadata": {},
   "outputs": [],
   "source": []
  }
 ],
 "metadata": {
  "kernelspec": {
   "display_name": "Python 3",
   "language": "python",
   "name": "python3"
  },
  "language_info": {
   "codemirror_mode": {
    "name": "ipython",
    "version": 3
   },
   "file_extension": ".py",
   "mimetype": "text/x-python",
   "name": "python",
   "nbconvert_exporter": "python",
   "pygments_lexer": "ipython3",
   "version": "3.7.3"
  }
 },
 "nbformat": 4,
 "nbformat_minor": 2
}
