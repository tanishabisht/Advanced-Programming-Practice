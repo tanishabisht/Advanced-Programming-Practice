{
 "cells": [
  {
   "cell_type": "markdown",
   "metadata": {},
   "source": [
    "# Week8 : Automata\n",
    "TANISHA BISHT<br>\n",
    "RA1911003010259\n",
    "\n",
    "## Q1\n",
    "Construction of a minimal NFA accepting a set of strings over {a, b} in which each string of the language starts with ‘ab’."
   ]
  },
  {
   "cell_type": "code",
   "execution_count": 9,
   "metadata": {},
   "outputs": [
    {
     "name": "stdout",
     "output_type": "stream",
     "text": [
      "Enter the string :ababababab\n",
      "Accepted :: as the string starts with 'ab'\n",
      "Enter the string :bbbbb\n",
      "Rejected :: as the string does not start with 'ab'\n"
     ]
    }
   ],
   "source": [
    "from automata.fa.nfa import NFA\n",
    "nfa = NFA(\n",
    "    states={'A', 'B', 'C'},\n",
    "    input_symbols={'a', 'b'},\n",
    "    transitions={\n",
    "        'A': {'a': {'B'}},\n",
    "        'B': {'b': {'C'}},\n",
    "        'C': {'a':{'C'}, 'b':{'C'}}\n",
    "    },\n",
    "    initial_state='A',\n",
    "    final_states={'C'}\n",
    ")\n",
    "\n",
    "for i in range(2):\n",
    "    num = input(\"Enter the string :\")\n",
    "    if(nfa.accepts_input(num)):\n",
    "        print(\"Accepted :: as the string starts with 'ab'\")\n",
    "    else:\n",
    "        print(\"Rejected :: as the string does not start with 'ab'\")"
   ]
  },
  {
   "cell_type": "markdown",
   "metadata": {},
   "source": [
    "## Q2\n",
    "Construction of a minimal NFA accepting a set of strings over {a, b} in which each string of the language does not start with 'ab'"
   ]
  },
  {
   "cell_type": "code",
   "execution_count": 10,
   "metadata": {},
   "outputs": [
    {
     "name": "stdout",
     "output_type": "stream",
     "text": [
      "Enter the string :bbbb\n",
      "Accepted :: as the string does not start with 'ab'\n",
      "Enter the string :ababa\n",
      "Rejected :: as the string starts with 'ab'\n"
     ]
    }
   ],
   "source": [
    "from automata.fa.nfa import NFA\n",
    "nfa = NFA(\n",
    "    states={'A', 'B', 'C'},\n",
    "    input_symbols={'a', 'b'},\n",
    "    transitions={\n",
    "        'A': {'a': {'B'}},\n",
    "        'B': {'b': {'C'}},\n",
    "        'C': {'a':{'C'}, 'b':{'C'}}\n",
    "    },\n",
    "    initial_state='A',\n",
    "    final_states={'C'}\n",
    ")\n",
    "\n",
    "for i in range(2):\n",
    "    num = input(\"Enter the string :\")\n",
    "    if nfa.accepts_input(num):\n",
    "        print(\"Rejected :: as the string starts with 'ab'\")\n",
    "    else:\n",
    "        print(\"Accepted :: as the string does not start with 'ab'\")"
   ]
  },
  {
   "cell_type": "markdown",
   "metadata": {},
   "source": [
    "## Q3\n",
    "Construct a DFA for the set of string over {a, b} such that length of the string |w|&lt;=2 i.e, length of the string"
   ]
  },
  {
   "cell_type": "code",
   "execution_count": 11,
   "metadata": {},
   "outputs": [
    {
     "name": "stdout",
     "output_type": "stream",
     "text": [
      "Enter the string :ababababababbbbbb\n",
      "Accepted :: as the string is greater than or equal to 2\n",
      "Enter the string :a\n",
      "Rejected :: as the string is less than 2\n"
     ]
    }
   ],
   "source": [
    "from automata.fa.nfa import NFA\n",
    "nfa = NFA(\n",
    "    states={'A', 'B', 'C'},\n",
    "    input_symbols={'a', 'b'},\n",
    "    transitions={\n",
    "        'A': {'a':{'B'}, 'b':{'B'}},\n",
    "        'B': {'a':{'C'}, 'b':{'C'}},\n",
    "        'C': {'a':{'C'}, 'b':{'C'}}\n",
    "    },\n",
    "    initial_state='A',\n",
    "    final_states={'C'}\n",
    ")\n",
    "\n",
    "for i in range(2):\n",
    "    num = input(\"Enter the string :\")\n",
    "    if nfa.accepts_input(num):\n",
    "        print(\"Accepted :: as the string is greater than or equal to 2\")\n",
    "    else:\n",
    "        print(\"Rejected :: as the string is less than 2\")"
   ]
  },
  {
   "cell_type": "code",
   "execution_count": null,
   "metadata": {},
   "outputs": [],
   "source": []
  }
 ],
 "metadata": {
  "kernelspec": {
   "display_name": "Python 3",
   "language": "python",
   "name": "python3"
  },
  "language_info": {
   "codemirror_mode": {
    "name": "ipython",
    "version": 3
   },
   "file_extension": ".py",
   "mimetype": "text/x-python",
   "name": "python",
   "nbconvert_exporter": "python",
   "pygments_lexer": "ipython3",
   "version": "3.7.3"
  }
 },
 "nbformat": 4,
 "nbformat_minor": 2
}
