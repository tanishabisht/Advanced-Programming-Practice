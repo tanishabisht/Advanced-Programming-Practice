{
 "cells": [
  {
   "cell_type": "markdown",
   "metadata": {},
   "source": [
    "# Week3 Set15\n",
    "\n",
    "## Q1\n",
    "Aditya is the Strategist of the company. He just gives the skeleton of the process ideas and his team will have to implement it wherever applicable. One such idea is to give bonus of 10% for all along with hike based on the performance index. Create an interface and implement salary calculation method for Employees."
   ]
  },
  {
   "cell_type": "code",
   "execution_count": 1,
   "metadata": {},
   "outputs": [
    {
     "name": "stdout",
     "output_type": "stream",
     "text": [
      "Employee name: Ram\n",
      "Employee age: 36\n",
      "Employee Salary: 23000.0\n"
     ]
    }
   ],
   "source": [
    "class Employee:\n",
    "    def __init__(self, name, age, basic, grade):\n",
    "        self.name = name\n",
    "        self.age = age\n",
    "        self.basic = basic\n",
    "        self.hike = 1000\n",
    "        self.grade = grade\n",
    "    def salary(self):\n",
    "        if self.grade > 6:\n",
    "            self.salary = 1.1*self.basic + self.hike\n",
    "        else:\n",
    "            self.salary = self.basic\n",
    "    def display(self):\n",
    "        print('Employee name: ' + self.name)\n",
    "        print('Employee age: ' + str(self.age))\n",
    "        print('Employee Salary: ' + str(self.salary))\n",
    "        \n",
    "emp = Employee('Ram', 36, 20000, 7)\n",
    "emp.salary()\n",
    "emp.display()"
   ]
  },
  {
   "cell_type": "markdown",
   "metadata": {},
   "source": [
    "## Q2\n",
    "Write a Python class to find a pair of elements (indices of the two numbers) from a given array whose sum equals a specific target number. \n",
    "\n",
    "**Input:** numbers= [10,20,10,40,50,60,70], target=50 <br>\n",
    "**Output:** 3, 4"
   ]
  },
  {
   "cell_type": "code",
   "execution_count": 3,
   "metadata": {},
   "outputs": [
    {
     "name": "stdout",
     "output_type": "stream",
     "text": [
      "(30, 20)\n"
     ]
    }
   ],
   "source": [
    "class sumTarget:\n",
    "    def twoSum(self, nums, target):\n",
    "        arr = []\n",
    "        for num in nums:\n",
    "            if target-num in arr:\n",
    "                return (num, target-num)\n",
    "            else:\n",
    "                arr.append(num)\n",
    "print(sumTarget().twoSum([10,20,30,40,50,60,70], 50))"
   ]
  },
  {
   "cell_type": "markdown",
   "metadata": {},
   "source": [
    "## Q3. \n",
    "Write a program suppose, it is required to build a project consisting of a number of classes, possibly using a large number of programmers. It is necessary to make sure that every class from which all other classes in the project will be inherited. Since any new classes in the project must inherit from the base class, programmers are not free to create a different interface. Therefore, it can be guaranteed that all the classes in the project will respond to the same debugging commands."
   ]
  },
  {
   "cell_type": "code",
   "execution_count": 8,
   "metadata": {},
   "outputs": [
    {
     "name": "stdout",
     "output_type": "stream",
     "text": [
      "Salary of the employee is: 182000\n"
     ]
    }
   ],
   "source": [
    "# IMPLEMENTING INTERFACE\n",
    "class Salary:\n",
    "    def __init__(self, pay, bonus):\n",
    "        self.pay = pay\n",
    "        self.bonus = bonus\n",
    "    def annualSalary(self):\n",
    "        return (self.pay*12) + self.bonus\n",
    "    \n",
    "\n",
    "class Employee:\n",
    "    def __init__(self, name, age, pay, bonus):\n",
    "        self.name = name\n",
    "        self.age= age\n",
    "        self.objSalary = Salary(pay, bonus)        \n",
    "    def totalSalary(self):\n",
    "        return self.objSalary.annualSalary()\n",
    "    \n",
    "    \n",
    "emp = Employee('Max', 20, 15000, 2000)\n",
    "print('Salary of the employee is: ' + str(emp.totalSalary()))"
   ]
  },
  {
   "cell_type": "markdown",
   "metadata": {},
   "source": [
    "## Q4\n",
    "Write a Python class to reverse a string word by word. \n",
    "\n",
    "**Input string :** 'hello .py' <br>\n",
    "**Expected Output :** '.py hello'"
   ]
  },
  {
   "cell_type": "code",
   "execution_count": 6,
   "metadata": {},
   "outputs": [
    {
     "name": "stdout",
     "output_type": "stream",
     "text": [
      "Enter a valid string: python .py\n",
      ".py python\n"
     ]
    }
   ],
   "source": [
    "class solution:\n",
    "    def reverseWords(self, s):\n",
    "        return ' '.join(reversed(s.split()))\n",
    "    \n",
    "string = input('Enter a valid string: ')\n",
    "print(solution().reverseWords(string))"
   ]
  },
  {
   "cell_type": "markdown",
   "metadata": {},
   "source": [
    "## Q5\n",
    "Define an interface using Python that contains method to calculate the perimeter of an object. Define two classes circle and rectangle with suitable fields and methods. Implement the interface “perimeter” in these classes. Write the appropriate main() method to create object of each class and test all the methods."
   ]
  },
  {
   "cell_type": "code",
   "execution_count": 7,
   "metadata": {},
   "outputs": [
    {
     "name": "stdout",
     "output_type": "stream",
     "text": [
      "The perimeter of the circle is: 157.0\n",
      "The perimeter of the rectangle is: 60\n"
     ]
    }
   ],
   "source": [
    "class Circle:\n",
    "    def perimeter(self, r):\n",
    "        print('The perimeter of the circle is: ' + str(2*3.14*r)) \n",
    "\n",
    "class Rectangle:\n",
    "    def perimeter(self, l, b):\n",
    "        print('The perimeter of the rectangle is: ' + str(2*(l+b)))\n",
    "\n",
    "Circle().perimeter(25)\n",
    "Rectangle().perimeter(10, 20)"
   ]
  }
 ],
 "metadata": {
  "kernelspec": {
   "display_name": "Python 3",
   "language": "python",
   "name": "python3"
  },
  "language_info": {
   "codemirror_mode": {
    "name": "ipython",
    "version": 3
   },
   "file_extension": ".py",
   "mimetype": "text/x-python",
   "name": "python",
   "nbconvert_exporter": "python",
   "pygments_lexer": "ipython3",
   "version": "3.7.3"
  }
 },
 "nbformat": 4,
 "nbformat_minor": 2
}
