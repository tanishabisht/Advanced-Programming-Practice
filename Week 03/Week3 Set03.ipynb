{
 "cells": [
  {
   "cell_type": "markdown",
   "metadata": {},
   "source": [
    "# Week3 Set3\n",
    "\n",
    "## Q1\n",
    "Design a program of class Car with some attributes and its object to print its attributes."
   ]
  },
  {
   "cell_type": "code",
   "execution_count": 2,
   "metadata": {},
   "outputs": [
    {
     "name": "stdout",
     "output_type": "stream",
     "text": [
      "The name of the car's company is Honda\n",
      "The color of the car is royal blue\n",
      "The size of the car is large\n",
      "\n",
      "The name of the car's company is Mercedes\n",
      "The color of the car is white\n",
      "The size of the car is small\n"
     ]
    }
   ],
   "source": [
    "class Car:\n",
    "    def __init__(self, company, color, size):\n",
    "        self.company = company\n",
    "        self.color = color\n",
    "        self.size = size\n",
    "    def display(self):\n",
    "        print('The name of the car\\'s company is ' + self.company)\n",
    "        print('The color of the car is ' + self.color)\n",
    "        print('The size of the car is ' + self.size)\n",
    "        \n",
    "car1 = Car('Honda', 'royal blue', 'large')\n",
    "car2 = Car('Mercedes', 'white', 'small')\n",
    "\n",
    "car1.display()\n",
    "print()\n",
    "car2.display()"
   ]
  },
  {
   "cell_type": "markdown",
   "metadata": {},
   "source": [
    "## Q2\n",
    "Develop a program of class Room with attributes length, breadth and height and its object room1 and room2 to calculate the area and volume of a room using function."
   ]
  },
  {
   "cell_type": "code",
   "execution_count": 3,
   "metadata": {},
   "outputs": [
    {
     "name": "stdout",
     "output_type": "stream",
     "text": [
      "The volume of room1 is: 10500000\n",
      "The area of room1 is: 289000\n",
      "\n",
      "The volume of room1 is: 11875000\n",
      "The area of room1 is: 400500\n"
     ]
    }
   ],
   "source": [
    "class Room:\n",
    "    def __init__(self, length, breadth, height):\n",
    "        self.length = length\n",
    "        self.breadth = breadth\n",
    "        self.height = height\n",
    "    def area(self):\n",
    "        return 2*(self.length*self.breadth + self.breadth*self.height + self.height*self.length)\n",
    "    def volume(self):\n",
    "        return self.length*self.breadth*self.height\n",
    "    \n",
    "room1 = Room(200, 250, 210)\n",
    "room2 = Room(100, 625, 190)\n",
    "\n",
    "print('The volume of room1 is: ' + str(room1.volume()))\n",
    "print('The area of room1 is: ' + str(room1.area()))\n",
    "\n",
    "print()\n",
    "print('The volume of room1 is: ' + str(room2.volume()))\n",
    "print('The area of room1 is: ' + str(room2.area()))"
   ]
  },
  {
   "cell_type": "markdown",
   "metadata": {},
   "source": [
    "## Q3\n",
    "A farmer wants to build a wooden fence around a rectangular field. He measures the length and the width of the field and decides how high the fence should be. He alsos decides how wide the space between each board of the fence should be.Each board is 10cm wide. Help him with a object oriented program that calculates the total length of all boards required to be bought."
   ]
  },
  {
   "cell_type": "code",
   "execution_count": 5,
   "metadata": {},
   "outputs": [
    {
     "name": "stdout",
     "output_type": "stream",
     "text": [
      "The total length of fences required to be bought is: 80000\n"
     ]
    }
   ],
   "source": [
    "class Fence:\n",
    "    def __init__(self, length, breadth, space, height):\n",
    "        self.length = length\n",
    "        self.breadth = breadth\n",
    "        self.space = space\n",
    "        self.height = height\n",
    "    def lengthOfBoard(self):\n",
    "        perimeter = 2*(self.length+self.brseadth)\n",
    "        noFences = perimeter / (10+self.space)\n",
    "        return noFences * self.height\n",
    "    \n",
    "field1 = Fence(1000, 2000, 5, 100)\n",
    "print('The total length of fences required to be bought is: ' + str(int(field1.lengthOfBoard())))"
   ]
  },
  {
   "cell_type": "markdown",
   "metadata": {},
   "source": [
    "## Q4\n",
    "Make a class Employee with a name and salary. Make a class Manager inherit from Employee. Add an instance variable, named department, of type string. Supply a method to String that prints the manager’s name, department and salary. Make a class Executive inherits from Manager. Supply a method to String that prints the string “Executive” followed by the information stored in the Manager superclass object. Supply a test program that tests these classes and methods."
   ]
  },
  {
   "cell_type": "code",
   "execution_count": 36,
   "metadata": {},
   "outputs": [
    {
     "name": "stdout",
     "output_type": "stream",
     "text": [
      "Name of the manager: Sanju\n",
      "Department of the manager: IT\n",
      "Salary of the manager: 150000\n",
      "\n",
      "Executive\n",
      "Name of the manager: Mani\n",
      "Department of the manager: Web Dev\n",
      "Salary of the manager: 50000\n"
     ]
    }
   ],
   "source": [
    "class Employee:\n",
    "    def __init__(self, name, salary):\n",
    "        self.name = name\n",
    "        self.salary = salary\n",
    "    \n",
    "class Manager(Employee):\n",
    "    def __init__(self, name, salary, department):\n",
    "        super().__init__(name, salary)\n",
    "        self.department = department\n",
    "    def display(self):\n",
    "        print('Name of the manager: ' + self.name)\n",
    "        print('Department of the manager: ' + self.department)\n",
    "        print('Salary of the manager: ' + str(self.salary))\n",
    "\n",
    "class Executive(Manager):\n",
    "    def __init__(self, name, salary, department):\n",
    "        super().__init__(name, salary, department)\n",
    "    def printExecutive(self):\n",
    "        print('Executive')\n",
    "        self.display()\n",
    "        \n",
    "        \n",
    "        \n",
    "employee1 = Employee('Sanju', 150000)\n",
    "manager1 = Manager('Sanju', 150000, 'IT')\n",
    "\n",
    "manager1.display()\n",
    "\n",
    "executive1 = Executive('Mani', 50000, 'Web Dev')\n",
    "print()\n",
    "executive1.printExecutive()"
   ]
  },
  {
   "cell_type": "markdown",
   "metadata": {},
   "source": [
    "## Q5\n",
    "Imagine a tollbooth with a class called toll Booth. The two data items are a type unsigned int to hold the total number of cars, and a type double to hold the total amount of money collected. A constructor initializes both these to 0. A member\n",
    "function called payingCar ( ) increments the car total and adds 0.50 to the cash total. Another function, called nopayCar ( ), increments the car total but adds nothing to the cash total. Finally, a member function called displays the two totals. Include a program to test this class. This program should allow the user to push one key to count a paying car, and another to count a nonpaying car. "
   ]
  },
  {
   "cell_type": "code",
   "execution_count": 37,
   "metadata": {},
   "outputs": [
    {
     "name": "stdout",
     "output_type": "stream",
     "text": [
      "The total number of cars is: 5\n",
      "The total amount of money collected is: 1.5\n"
     ]
    }
   ],
   "source": [
    "class TollBooth:\n",
    "    def __init__(self):\n",
    "        self.carNos = 0\n",
    "        self.money = 0.0\n",
    "    def payingCar(self):\n",
    "        self.carNos += 1\n",
    "        self.money += 0.50\n",
    "    def nopayCar(self):\n",
    "        self.carNos += 1\n",
    "    def display(self):\n",
    "        print('The total number of cars is: ' + str(self.carNos))\n",
    "        print('The total amount of money collected is: ' + str(self.money))\n",
    "        \n",
    "tollBooth1 = TollBooth()\n",
    "tollBooth1.payingCar()\n",
    "tollBooth1.payingCar()\n",
    "tollBooth1.nopayCar()\n",
    "tollBooth1.payingCar()\n",
    "tollBooth1.nopayCar()\n",
    "tollBooth1.display()"
   ]
  }
 ],
 "metadata": {
  "kernelspec": {
   "display_name": "Python 3",
   "language": "python",
   "name": "python3"
  },
  "language_info": {
   "codemirror_mode": {
    "name": "ipython",
    "version": 3
   },
   "file_extension": ".py",
   "mimetype": "text/x-python",
   "name": "python",
   "nbconvert_exporter": "python",
   "pygments_lexer": "ipython3",
   "version": "3.7.3"
  }
 },
 "nbformat": 4,
 "nbformat_minor": 2
}
