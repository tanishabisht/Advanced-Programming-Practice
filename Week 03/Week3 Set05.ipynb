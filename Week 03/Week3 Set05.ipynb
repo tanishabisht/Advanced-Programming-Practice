{
 "cells": [
  {
   "cell_type": "markdown",
   "metadata": {},
   "source": [
    "# Week3 Set5\n",
    "\n",
    "## Q1 Employee payroll system\n",
    "```\n",
    "Employee name\n",
    "Employee ID\n",
    "Basic pay\n",
    "HRA (House Rent Allowance)\n",
    "TA (Travelling Allowance)\n",
    "DA (Dearness Allowance)\n",
    "Grade pay: Deduction 5% from Basic pay\n",
    "```\n",
    "\n",
    "Find the Gross pay, Net pay (Grade pay + deductions) and print all the details given above, using class and object of get () method and cal( )method. "
   ]
  },
  {
   "cell_type": "code",
   "execution_count": 3,
   "metadata": {},
   "outputs": [
    {
     "name": "stdout",
     "output_type": "stream",
     "text": [
      "Employee Name: Aman\n",
      "Employee ID: 961\n",
      "Basic Pay: 7500000\n",
      "HRA (House Rent Allowance): 150000\n",
      "TA (Travelling Allowance): 100000\n",
      "DA (Dearness Allowance): 98000\n",
      "Grade Pay: 7125000.0\n",
      "Gross Pay: 7848000\n",
      "Net Pay: 723000.0\n"
     ]
    }
   ],
   "source": [
    "import random\n",
    "\n",
    "class Payroll:\n",
    "    def __init__(self, empName, basicPay, hra, ta, da):\n",
    "        self.empName = empName\n",
    "        self.empId = random.randint(100, 999)\n",
    "        self.basicPay = basicPay\n",
    "        self.hra = hra\n",
    "        self.ta = ta\n",
    "        self.da = da\n",
    "    def cal(self):\n",
    "        self.grossPay = self.basicPay + self.hra + self.ta + self.da\n",
    "        self.gradePay = 0.95 * self.basicPay\n",
    "        self.netPay = self.grossPay - self.gradePay\n",
    "    def get(self):\n",
    "        print('Employee Name: ' + self.empName)\n",
    "        print('Employee ID: ' + str(self.empId))\n",
    "        print('Basic Pay: ' + str(self.basicPay))\n",
    "        print('HRA (House Rent Allowance): ' + str(self.hra))\n",
    "        print('TA (Travelling Allowance): ' + str(self.ta))\n",
    "        print('DA (Dearness Allowance): ' + str(self.da))\n",
    "        print('Grade Pay: ' + str(self.gradePay))\n",
    "        print('Gross Pay: ' + str(self.grossPay))\n",
    "        print('Net Pay: ' + str(self.netPay))\n",
    "        \n",
    "emp1 = Payroll('Aman', 7500000, 150000, 100000, 98000)\n",
    "emp1.cal()\n",
    "emp1.get()"
   ]
  },
  {
   "cell_type": "markdown",
   "metadata": {},
   "source": [
    "## Q2 Student management system\n",
    "Student name, Student id as inputs with marks for 5 Subjects, calculate and round of the subject marks to 10 and then find CGPA, Grade using object and class concept of oops. Solve the above by creating a base class and derived class use inheritance to solve it"
   ]
  },
  {
   "cell_type": "code",
   "execution_count": 6,
   "metadata": {},
   "outputs": [
    {
     "name": "stdout",
     "output_type": "stream",
     "text": [
      "The CGPA of Arjun is: 8.5\n"
     ]
    }
   ],
   "source": [
    "class Person:\n",
    "    def __init__(self, name):\n",
    "        self.name = name\n",
    "        \n",
    "class Student(Person):\n",
    "    def __init__(self, name, stId, mrk1, mrk2, mrk3, mrk4, mrk5):\n",
    "        super().__init__(name)\n",
    "        self.stId = stId\n",
    "        self.mrk1 = mrk1\n",
    "        self.mrk2 = mrk2\n",
    "        self.mrk3 = mrk3\n",
    "        self.mrk4 = mrk4\n",
    "        self.mrk5 = mrk5\n",
    "    def cal(self):\n",
    "        total = self.mrk1 + self.mrk2 + self.mrk3 + self.mrk4 + self.mrk5\n",
    "        self.cgpa = total/50\n",
    "    def display(self):\n",
    "        print('The CGPA of ' + self.name + ' is: ' + str(self.cgpa))\n",
    "    \n",
    "std1 = Student('Arjun', 'RA891', 98, 78, 89, 68, 92)\n",
    "std1.cal()\n",
    "std1.display()"
   ]
  },
  {
   "cell_type": "markdown",
   "metadata": {},
   "source": [
    "## Q3\n",
    "Instantiate the X class using self and then using self in the get () method and to achieve composition you can instantiate other objects in the class and then use those instances that Generate output of the total code which has both inheritance and composition\n",
    "\n",
    "**CLASSES:** When there is an _**IS A**_ relationship between parent and child <br>\n",
    "**COMPOSITION:** Deligating responsibility from one class to another ... Content-Container relationship\n",
    "\n",
    "BELOW IS AN EXAMPLE OF COMPOSITION"
   ]
  },
  {
   "cell_type": "code",
   "execution_count": 22,
   "metadata": {},
   "outputs": [
    {
     "name": "stdout",
     "output_type": "stream",
     "text": [
      "Salary of the employee is: 182000\n"
     ]
    }
   ],
   "source": [
    "class Salary:\n",
    "    def __init__(self, pay, bonus):\n",
    "        self.pay = pay\n",
    "        self.bonus = bonus\n",
    "    def annualSalary(self):\n",
    "        return (self.pay*12) + self.bonus\n",
    "    \n",
    "\n",
    "class Employee:\n",
    "    def __init__(self, name, age, pay, bonus):\n",
    "        self.name = name\n",
    "        self.age= age\n",
    "        self.objSalary = Salary(pay, bonus)        \n",
    "    def totalSalary(self):\n",
    "        return self.objSalary.annualSalary()\n",
    "    \n",
    "    \n",
    "emp = Employee('Max', 20, 15000, 2000)\n",
    "print('Salary of the employee is: ' + str(emp.totalSalary()))"
   ]
  },
  {
   "cell_type": "markdown",
   "metadata": {},
   "source": [
    "## Q4\n",
    "An Internet service provider has three different subscription packages for its customers: \n",
    "\n",
    "**Package A:** for 9.95/month, 10 hours of access are provided. Additional hours\n",
    "are 2.00/hour. <br>\n",
    "**Package B:** for 14.95/month, 20 hours of access are provided. Additional\n",
    "hours are 1.00/hour. <br>\n",
    "**Package C:** for 19.95/month, unlimited access is provided.<br>\n",
    "\n",
    "\n",
    "Write a program using objects and classes that calculates a customer’s monthly bill. It should ask which package the customer has purchased and how many hours were used. It should then display the total amount due. Input validation: be sure the user only selects package A, B, or C. Also, the number of hours used in a month cannot exceed 744."
   ]
  },
  {
   "cell_type": "code",
   "execution_count": 19,
   "metadata": {},
   "outputs": [
    {
     "name": "stdout",
     "output_type": "stream",
     "text": [
      "The package chosen is: A\n",
      "The total monthly bill is: 13.95\n",
      "\n",
      "The package chosen does not exist\n",
      "The number of hours used in a month cannot exceed more than 744\n",
      "Cannot calculate the value of Bill\n",
      "Cant display the bill\n"
     ]
    }
   ],
   "source": [
    "class Bill:\n",
    "    def __init__(self, package, hours):        \n",
    "        if package in ['A', 'B', 'C']:\n",
    "            self.package = package\n",
    "        else:\n",
    "            print('The package chosen does not exist')        \n",
    "        if hours <= 744:\n",
    "            self.hours = hours\n",
    "        else:\n",
    "            print('The number of hours used in a month cannot exceed more than 744')\n",
    "    def cal(self):\n",
    "        try:           \n",
    "            if self.package is 'A':\n",
    "                if self.hours <= 10:\n",
    "                    self.bill = 9.95\n",
    "                else:\n",
    "                    self.bill = 9.95 + (self.hours-10)*2.00\n",
    "            elif self.package is 'B':\n",
    "                if self.hours <= 20:\n",
    "                    self.bill = 14.95\n",
    "                else:\n",
    "                    self.bill = 14.95 + (self.hours-20)*1.00\n",
    "            elif self.package is 'C':\n",
    "                self.bill = 19.95\n",
    "        except:\n",
    "            print('Cannot calculate the value of Bill')\n",
    "    def display(self):\n",
    "        try:\n",
    "            print('The package chosen is: ' + self.package)\n",
    "            print('The total monthly bill is: ' + str(self.bill))\n",
    "        except:\n",
    "            print('Cant display the bill')\n",
    "        \n",
    "cust1 = Bill('A', 12)\n",
    "cust1.cal()\n",
    "cust1.display()\n",
    "\n",
    "print()\n",
    "cust2 = Bill('D', 987)\n",
    "cust2.cal()\n",
    "cust2.display()"
   ]
  },
  {
   "cell_type": "markdown",
   "metadata": {},
   "source": [
    "## Q5\n",
    "Write a program using object-oriented concepts that calculates and displays a person’s body mass index (BMI). The\n",
    "BMI is often used to determine whether a person with sedentary lifestyle is overweight or underweight for his or her height. A person’s BMI is calculated with the following formula:\n",
    "\n",
    "**BMI = weight * 703/height^2**\n",
    "\n",
    "where weight is measured in pounds and height is measured in inches. The program should display a message indicating whether the person has optimal weight, is underweight, or is overweight. A sedentary person’s weight is considered to be\n",
    "optimal if his or her BMI is between 18.5 and 25. If the BMI is less than 18.5, the person is considered to be underweight. If the BMI value is greater than 25, the person is considered to be overweight."
   ]
  },
  {
   "cell_type": "code",
   "execution_count": 20,
   "metadata": {},
   "outputs": [
    {
     "name": "stdout",
     "output_type": "stream",
     "text": [
      "This person is overweight\n"
     ]
    }
   ],
   "source": [
    "class BMI:\n",
    "    def __init__(self, height, weight):\n",
    "        self.height = height\n",
    "        self.weight = weight\n",
    "    def compare(self):\n",
    "        self.bmi = (self.weight * 703)/self.height**2\n",
    "        if self.bmi<18.5:\n",
    "            print('The person is underweight')\n",
    "        elif self.bmi>=18.5 and self.bmi<=25:\n",
    "            print('This person has an optimal BMI')\n",
    "        elif self.bmi>25:\n",
    "            print('This person is overweight')\n",
    "            \n",
    "person1 = BMI(4.6, 83)     \n",
    "person1.compare()"
   ]
  },
  {
   "cell_type": "code",
   "execution_count": 1,
   "metadata": {},
   "outputs": [
    {
     "ename": "TypeError",
     "evalue": "Bill() takes no arguments",
     "output_type": "error",
     "traceback": [
      "\u001b[1;31m---------------------------------------------------------------------------\u001b[0m",
      "\u001b[1;31mTypeError\u001b[0m                                 Traceback (most recent call last)",
      "\u001b[1;32m<ipython-input-1-83bd792e13bc>\u001b[0m in \u001b[0;36m<module>\u001b[1;34m\u001b[0m\n\u001b[0;32m     32\u001b[0m             \u001b[0mprint\u001b[0m\u001b[1;33m(\u001b[0m\u001b[1;34m'Cant display the bill'\u001b[0m\u001b[1;33m)\u001b[0m\u001b[1;33m\u001b[0m\u001b[1;33m\u001b[0m\u001b[0m\n\u001b[0;32m     33\u001b[0m \u001b[1;33m\u001b[0m\u001b[0m\n\u001b[1;32m---> 34\u001b[1;33m \u001b[0mcust1\u001b[0m \u001b[1;33m=\u001b[0m \u001b[0mBill\u001b[0m\u001b[1;33m(\u001b[0m\u001b[1;34m'A'\u001b[0m\u001b[1;33m,\u001b[0m \u001b[1;36m12\u001b[0m\u001b[1;33m)\u001b[0m\u001b[1;33m\u001b[0m\u001b[1;33m\u001b[0m\u001b[0m\n\u001b[0m\u001b[0;32m     35\u001b[0m \u001b[0mcust1\u001b[0m\u001b[1;33m.\u001b[0m\u001b[0mcal\u001b[0m\u001b[1;33m(\u001b[0m\u001b[1;33m)\u001b[0m\u001b[1;33m\u001b[0m\u001b[1;33m\u001b[0m\u001b[0m\n\u001b[0;32m     36\u001b[0m \u001b[0mcust1\u001b[0m\u001b[1;33m.\u001b[0m\u001b[0mdisplay\u001b[0m\u001b[1;33m(\u001b[0m\u001b[1;33m)\u001b[0m\u001b[1;33m\u001b[0m\u001b[1;33m\u001b[0m\u001b[0m\n",
      "\u001b[1;31mTypeError\u001b[0m: Bill() takes no arguments"
     ]
    }
   ],
   "source": [
    "class Bill:\n",
    "    def _init_(self, package, hours):        \n",
    "        if package in ['A', 'B', 'C']:\n",
    "            self.package = package\n",
    "        else:\n",
    "            print('The package chosen does not exist')        \n",
    "        if hours <= 744:\n",
    "            self.hours = hours\n",
    "        else:\n",
    "            print('The number of hours used in a month cannot exceed more than 744')\n",
    "    def cal(self):\n",
    "        try:           \n",
    "            if self.package is 'A':\n",
    "                if self.hours <= 10:\n",
    "                    self.bill = 9.95\n",
    "                else:\n",
    "                    self.bill = 9.95 + (self.hours-10)*2.00\n",
    "            elif self.package is 'B':\n",
    "                if self.hours <= 20:\n",
    "                    self.bill = 14.95\n",
    "                else:\n",
    "                    self.bill = 14.95 + (self.hours-20)*1.00\n",
    "            elif self.package is 'C':\n",
    "                self.bill = 19.95\n",
    "        except:\n",
    "            print('Cannot calculate the value of Bill')\n",
    "    def display(self):\n",
    "        try:\n",
    "            print('The package chosen is: ' + self.package)\n",
    "            print('The total monthly bill is: ' + str(self.bill))\n",
    "        except:\n",
    "            print('Cant display the bill')\n",
    "        \n",
    "cust1 = Bill('A', 12)\n",
    "cust1.cal()\n",
    "cust1.display()\n",
    "\n",
    "print()\n",
    "cust2 = Bill('D', 987)\n",
    "cust2.cal()\n",
    "cust2.display()"
   ]
  },
  {
   "cell_type": "code",
   "execution_count": null,
   "metadata": {},
   "outputs": [],
   "source": []
  }
 ],
 "metadata": {
  "kernelspec": {
   "display_name": "Python 3",
   "language": "python",
   "name": "python3"
  },
  "language_info": {
   "codemirror_mode": {
    "name": "ipython",
    "version": 3
   },
   "file_extension": ".py",
   "mimetype": "text/x-python",
   "name": "python",
   "nbconvert_exporter": "python",
   "pygments_lexer": "ipython3",
   "version": "3.7.3"
  }
 },
 "nbformat": 4,
 "nbformat_minor": 2
}
