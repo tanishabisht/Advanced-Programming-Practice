{
 "cells": [
  {
   "cell_type": "markdown",
   "metadata": {},
   "source": [
    "# Week3 Set1\n",
    "\n",
    "ANUKRITI SINGH\n",
    "RA1911003010270\n",
    "\n",
    "## Q1\n",
    "\n",
    "Create a Bus child class that inherits from the Vehicle class. The default fare charge of any vehicle is seating capacity * 100. If Vehicle is Bus instance, we need to add an extra 10% on full fare as a maintenance charge. So total fare for bus instance will become the \n",
    "**final amount = total fare + 10% of the total fare**.\n",
    "\n",
    "Note: The bus seating capacity is 50. so the final fare amount should be 5500. You need to override the fare() method of a Vehicle class in Bus class.\n",
    "\n",
    "Use the following code for your parent Vehicle class. We need to access the parent class from inside a method of a child class.\n",
    "```\n",
    "class Vehicle:\n",
    "     def __init__(self, name, mileage, capacity):\n",
    "         self.name = name\n",
    "         self.mileage = mileage\n",
    "         self.capacity = capacity\n",
    "     def fare(self):\n",
    "         return self.capacity * 100\n",
    "class Bus(Vehicle):\n",
    "     pass\n",
    "School_bus = Bus(\"School Volvo\", 12, 50)\n",
    "print(\"Total Bus fare is:\", School_bus.fare())\n",
    "```\n",
    "\n",
    "**Expected Output:**\n",
    "Total Bus fare is: 5500.0"
   ]
  },
  {
   "cell_type": "code",
   "execution_count": 16,
   "metadata": {},
   "outputs": [
    {
     "name": "stdout",
     "output_type": "stream",
     "text": [
      "Total Bus fase is: 5500.0\n"
     ]
    }
   ],
   "source": [
    "class Vehicle:\n",
    "    def __init__(self, name, mileage, capacity):\n",
    "        self.name = name\n",
    "        self.mileage = mileage\n",
    "        self.capacity = capacity\n",
    "        \n",
    "    def fare(self):\n",
    "        totalFare = self.capacity*100\n",
    "        return totalFare*1.1\n",
    "\n",
    "        \n",
    "class Bus(Vehicle):    \n",
    "    pass\n",
    "\n",
    "\n",
    "School_bus = Bus(\"School Volvo\", 12, 50)\n",
    "print('Total Bus fase is: {:.1f}'.format(School_bus.fare()))"
   ]
  },
  {
   "cell_type": "markdown",
   "metadata": {},
   "source": [
    "## Q2\n",
    "\n",
    "<img src=\"./Codes/W3_S7_Q2.JPG\" style=\"width:300px\">\n",
    "\n",
    "Consider the Book definition given in Example\n",
    "\n",
    "Here are some questions to test your understanding of what it does:\n",
    "1. How would you print out the author attribute of the pynut instance (at the interpreter, after running the file)?\n",
    "```\n",
    "print('The name of the author is ' + pynut.authorfirst + ' ' + pynut.authorlast)\n",
    "```\n",
    "\n",
    "2. If you type print beauty.write bib entry() at the interpreter (after running the file), what will happen?\n",
    "```\n",
    "print(beauty.write_bib_entry())\n",
    "RESULT:\n",
    "Dubay, Thoumas, The Evidential Power of Beauty, San Francisco, Ignatius Press, 1999\n",
    "```\n",
    "\n",
    "3. How would you change the publication year for the beauty book to \"2010\"?\n",
    "```\n",
    "beauty.year = 2010\n",
    "```"
   ]
  },
  {
   "cell_type": "markdown",
   "metadata": {},
   "source": [
    "## Q3\n",
    "Define a class named CaseString with the following methods: \n",
    "- the constructor takes an initial string as a parameter \n",
    "- set_upper: sets string mode (False = original case, True = upper case)\n",
    "- set_string: sets the encapsulated string\n",
    "- get_string: returns the string with the proper case"
   ]
  },
  {
   "cell_type": "code",
   "execution_count": 11,
   "metadata": {},
   "outputs": [
    {
     "name": "stdout",
     "output_type": "stream",
     "text": [
      "New string is updated successfully with the following value: \n",
      "This is a new String\n",
      "\n",
      "Writing the string in proper case\n",
      "This Is A New String\n"
     ]
    }
   ],
   "source": [
    "class CaseString:\n",
    "    def __init__(self, string):\n",
    "        self.string = string\n",
    "    def set_upper(self):\n",
    "        if self.string.isupper():\n",
    "            return True\n",
    "        else:\n",
    "            return False\n",
    "    def set_string(self, newString):\n",
    "        self.string = newString\n",
    "        print('New string is updated successfully with the following value: ')\n",
    "        print(self.string)\n",
    "    def get_string(self):\n",
    "        return self.string.title()\n",
    "    \n",
    "string = 'THIS IS A STRING'\n",
    "s1 = CaseString(string)\n",
    "\n",
    "s1.set_string('This is a new String')\n",
    "\n",
    "print('\\nWriting the string in proper case')\n",
    "print(s1.get_string())"
   ]
  },
  {
   "cell_type": "markdown",
   "metadata": {},
   "source": [
    "## Q4\n",
    "Define a class named Circle which can be constructed by a radius. The\n",
    "Circle class has two methods for computing perimeter and area, respectively."
   ]
  },
  {
   "cell_type": "code",
   "execution_count": 12,
   "metadata": {},
   "outputs": [
    {
     "name": "stdout",
     "output_type": "stream",
     "text": [
      "Enter the length of the radius: 10\n",
      "Perimeter is: 62.800000000000004\n",
      "Area is: 314.0\n",
      "10\n"
     ]
    }
   ],
   "source": [
    "class Circle:\n",
    "    def __init__(self, r):\n",
    "        self.radius = r\n",
    "    def perimeter(self):\n",
    "        return 'Perimeter is: ' + str(2*3.14*self.radius)\n",
    "    def area(self):\n",
    "        return 'Area is: ' + str(3.14*(self.radius**2))\n",
    "    \n",
    "radius = int(input('Enter the length of the radius: '))\n",
    "c1 = Circle(radius)\n",
    "print(c1.perimeter())\n",
    "print(c1.area())"
   ]
  },
  {
   "cell_type": "markdown",
   "metadata": {},
   "source": [
    "## Q5\n",
    "Define a class named Shape and its subclass Square. The Square class has a\n",
    "constructor which takes a length as argument. Both classes have an area function which can print the area of the shape where Shape's area is 0 by default."
   ]
  },
  {
   "cell_type": "code",
   "execution_count": null,
   "metadata": {},
   "outputs": [],
   "source": [
    "class Shape:\n",
    "    def area(self):\n",
    "        self.areaVar = 0\n",
    "        print('The area of the shape is: ' + str(self.areaVar))\n",
    "\n",
    "class Square(Shape):\n",
    "    def __init__(self, length):\n",
    "        self.length = length\n",
    "    def area(self):\n",
    "        self.areaVar = self.length**2\n",
    "        print('The area of the Square is: ' + str(self.areaVar))   "
   ]
  }
 ],
 "metadata": {
  "kernelspec": {
   "display_name": "Python 3",
   "language": "python",
   "name": "python3"
  },
  "language_info": {
   "codemirror_mode": {
    "name": "ipython",
    "version": 3
   },
   "file_extension": ".py",
   "mimetype": "text/x-python",
   "name": "python",
   "nbconvert_exporter": "python",
   "pygments_lexer": "ipython3",
   "version": "3.7.3"
  }
 },
 "nbformat": 4,
 "nbformat_minor": 2
}
