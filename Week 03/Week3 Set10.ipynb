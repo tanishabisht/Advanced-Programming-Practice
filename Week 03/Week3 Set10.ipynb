{
 "cells": [
  {
   "cell_type": "markdown",
   "metadata": {},
   "source": [
    "# Week3 Set10\n",
    "\n",
    "## Q1\n",
    "\n",
    "Mr.Kannan had two shops. His son Sid inherited all the shops; he decided to change Shop1 according to his aspirations. Shop2 is a family business inherited from forefathers, so Mr.Kannan strictly prohibited changes to it. Shop3 is a new shop\n",
    "opened by Sid himself. Illustrate this situation using inheritance."
   ]
  },
  {
   "cell_type": "code",
   "execution_count": 1,
   "metadata": {},
   "outputs": [],
   "source": [
    "class Kannan:\n",
    "    def shop1(self):\n",
    "        print('This is Shop1')\n",
    "    def __shop2(self):\n",
    "        print('This is Shop2. It is family business inherited from forefathers.')\n",
    "    \n",
    "    \n",
    "class Sid(Kannan):\n",
    "    def shop1(self):\n",
    "        print('This is the new Shop1, changed by Sid according to his aspirations.')\n",
    "    def shop3(self):\n",
    "        print('This is shop3. It is opend by Sid himslef.')"
   ]
  },
  {
   "cell_type": "markdown",
   "metadata": {},
   "source": [
    "## Q2\n",
    "\n",
    "Write a Python class to find the three elements that sum to zero from a set of n real numbers\n",
    "\n",
    "Input array : [-25, -10, -7, -3, 2, 4, 8, 10] <br>\n",
    "Output : [[-10, 2, 8], [-7, -3, 10]]"
   ]
  },
  {
   "cell_type": "code",
   "execution_count": 5,
   "metadata": {},
   "outputs": [
    {
     "name": "stdout",
     "output_type": "stream",
     "text": [
      "Enter an array: [-25, -10, -7, -3, 2, 4, 8, 10]\n",
      "[[-10, 2, 8], [-7, -3, 10]]\n"
     ]
    }
   ],
   "source": [
    "import ast\n",
    "\n",
    "class compute:\n",
    "    def __init__(self, nlist):\n",
    "        self.nlist = nlist\n",
    "    def findTriplets(self):\n",
    "        n = len(self.nlist)\n",
    "        found = False\n",
    "        triplets = []\n",
    "        for i in range(0, n-2):\n",
    "            for j in range(i+1, n-1):\n",
    "                for k in range(j+1, n):\n",
    "                    if (self.nlist[i] + self.nlist[j] + self.nlist[k] == 0):\n",
    "                        triplets += [[self.nlist[i], self.nlist[j], self.nlist[k]]]\n",
    "                        found = True\n",
    "        if (found == False):\n",
    "            print(\" not exist \")\n",
    "        else:\n",
    "            print(triplets)\n",
    "            \n",
    "arr = input('Enter an array: ')\n",
    "arr = ast.literal_eval(arr)\n",
    "compute(arr).findTriplets()"
   ]
  },
  {
   "cell_type": "markdown",
   "metadata": {},
   "source": [
    "## Q3\n",
    "\n",
    "Mr. Zourist — a very popular programmer — wrote a program in Zotlin with N classes numbered from 1 to N. Some of these classes have an implementation of a function F. The Zotlin compiler needs to determine which definition of function F should be called for an object of Class 1."
   ]
  },
  {
   "cell_type": "code",
   "execution_count": 18,
   "metadata": {},
   "outputs": [
    {
     "name": "stdout",
     "output_type": "stream",
     "text": [
      "5\n",
      "10\n"
     ]
    }
   ],
   "source": [
    "# WRONG ANSWER\n",
    "class Operations:    \n",
    "    def add(self, x, y, z=0):\n",
    "        return x+y+z\n",
    "    \n",
    "o1 = Operations()\n",
    "print(o1.add(2,3))\n",
    "print(o1.add(2,3,5))"
   ]
  },
  {
   "cell_type": "markdown",
   "metadata": {},
   "source": [
    "## Q4\n",
    "\n",
    "Write a program to create a room class, the attributes of this class is roomno, roomtype, roomarea and ACmachine. In this class the member functions are setdata and displaydata."
   ]
  },
  {
   "cell_type": "code",
   "execution_count": 12,
   "metadata": {},
   "outputs": [
    {
     "name": "stdout",
     "output_type": "stream",
     "text": [
      "Room number: 303\n",
      "Room type: single\n",
      "Room area: 600\n",
      "Is AC? Yes\n",
      "\n",
      "The details of the room is\n",
      "Room number is: 303\n",
      "Room type is: single\n",
      "Area of the room is: 600\n",
      "Does the room have an AC? Yes\n"
     ]
    }
   ],
   "source": [
    "class Room:\n",
    "    def setdata(self, roomNo, roomType, roomArea, ACmachine):\n",
    "        self.roomNo = roomNo\n",
    "        self.roomType = roomType\n",
    "        self.roomArea = roomArea\n",
    "        self.ACmachine = ACmachine\n",
    "    def displaydata(self):\n",
    "        print('\\nThe details of the room is')\n",
    "        print('Room number is: ' + self.roomNo)\n",
    "        print('Room type is: ' + self.roomType)\n",
    "        print('Area of the room is: ' + self.roomArea)\n",
    "        print('Does the room have an AC? ' + self.ACmachine)\n",
    "        \n",
    "r1 = Room()\n",
    "roomNo = input('Room number: ')\n",
    "roomType = input('Room type: ')\n",
    "roomArea = input('Room area: ')\n",
    "ACmachine = input('Is AC? ')\n",
    "\n",
    "r1.setdata(roomNo, roomType, roomArea, ACmachine)\n",
    "r1.displaydata()"
   ]
  },
  {
   "cell_type": "markdown",
   "metadata": {},
   "source": [
    "## Q5\n",
    "\n",
    "Write a program to create a class named shape. In this class we have three sub classes circle, triangle and square each class has two member function named draw () and erase (). Create these using polymorphism concepts."
   ]
  },
  {
   "cell_type": "code",
   "execution_count": 9,
   "metadata": {},
   "outputs": [
    {
     "name": "stdout",
     "output_type": "stream",
     "text": [
      "Circle is drawn\n",
      "Cicle is erased\n",
      "\n",
      "Triangle is drawn\n",
      "Triangle is erased\n",
      "\n",
      "Square is drawn\n",
      "Square is erased\n",
      "\n"
     ]
    }
   ],
   "source": [
    "class Shape:\n",
    "    pass\n",
    "    \n",
    "class Circle(Shape):\n",
    "    def draw(self):\n",
    "        print('Circle is drawn')\n",
    "    def erase(self):\n",
    "        print('Cicle is erased')\n",
    "        \n",
    "class Triangle(Shape):\n",
    "    def draw(self):\n",
    "        print('Triangle is drawn')\n",
    "    def erase(self):\n",
    "        print('Triangle is erased')\n",
    "        \n",
    "class Square(Shape):\n",
    "    def draw(self):\n",
    "        print('Square is drawn')\n",
    "    def erase(self):\n",
    "        print('Square is erased')\n",
    "        \n",
    "c1 = Circle()\n",
    "t1 = Triangle()\n",
    "s1 = Square()\n",
    "\n",
    "for shape in (c1, t1, s1):\n",
    "    shape.draw()\n",
    "    shape.erase()\n",
    "    print()"
   ]
  }
 ],
 "metadata": {
  "kernelspec": {
   "display_name": "Python 3",
   "language": "python",
   "name": "python3"
  },
  "language_info": {
   "codemirror_mode": {
    "name": "ipython",
    "version": 3
   },
   "file_extension": ".py",
   "mimetype": "text/x-python",
   "name": "python",
   "nbconvert_exporter": "python",
   "pygments_lexer": "ipython3",
   "version": "3.7.3"
  }
 },
 "nbformat": 4,
 "nbformat_minor": 2
}
