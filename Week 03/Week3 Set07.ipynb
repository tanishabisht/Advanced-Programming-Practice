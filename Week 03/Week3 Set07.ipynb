{
 "cells": [
  {
   "cell_type": "markdown",
   "metadata": {},
   "source": [
    "# Week3 Set7\n",
    "\n",
    "TANISHA BISHT <br>\n",
    "RA1911003010259\n",
    "\n",
    "## Q1\n",
    "Write a python program to count number of objects in a class"
   ]
  },
  {
   "cell_type": "code",
   "execution_count": 3,
   "metadata": {},
   "outputs": [
    {
     "name": "stdout",
     "output_type": "stream",
     "text": [
      "The age of Tanisha is 19\n",
      "The age of Sudhi is 22\n",
      "The age of Prak is 18\n",
      "The age of Eeshu is 15\n",
      "The age of Shiv is 21\n",
      "\n",
      "The number of objects of the class person is: 5\n"
     ]
    }
   ],
   "source": [
    "class Person:\n",
    "    count = 0\n",
    "    def __init__(self, n, a):\n",
    "        self.name = n\n",
    "        self.age = a\n",
    "        Person.count += 1\n",
    "        print('The age of ' + name + ' is ' + str(age))\n",
    "        \n",
    "student1 = Person('Tanisha', 19)\n",
    "student2 = Person('Sudhi', 22)\n",
    "student3 = Person('Prak', 18)\n",
    "student4 = Person('Eeshu', 15)\n",
    "student5 = Person('Shiv', 21)\n",
    "\n",
    "print('\\nThe number of objects of the class person is: ' + str(Person.count))"
   ]
  },
  {
   "cell_type": "markdown",
   "metadata": {},
   "source": [
    "## Q2\n",
    "Create a Vehicle class with max_speed and mileage instance attributes."
   ]
  },
  {
   "cell_type": "code",
   "execution_count": 7,
   "metadata": {},
   "outputs": [
    {
     "name": "stdout",
     "output_type": "stream",
     "text": [
      "The max speed is: 338.8 km/h\n",
      "The mileage is: 32.26 kmpl\n"
     ]
    }
   ],
   "source": [
    "class Vehicle:\n",
    "    def __init__(self, max_speed, mileage):\n",
    "        self.max_speed = max_speed\n",
    "        self.mileage = mileage\n",
    "        print('The max speed is: ' + str(max_speed) + ' km/h')\n",
    "        print('The mileage is: ' + str(mileage) + ' kmpl')\n",
    "\n",
    "vehicle1 = Vehicle(338.8, 32.26)  "
   ]
  },
  {
   "cell_type": "markdown",
   "metadata": {},
   "source": [
    "## Q3\n",
    "Create child class Bus that will inherit all of the variables and methods of the Vehicle class."
   ]
  },
  {
   "cell_type": "code",
   "execution_count": 15,
   "metadata": {},
   "outputs": [
    {
     "name": "stdout",
     "output_type": "stream",
     "text": [
      "The max speed is: 338.8 km/h\n",
      "The mileage is: 32.26 kmpl\n"
     ]
    }
   ],
   "source": [
    "class Vehicle:\n",
    "    def __init__(self, max_speed, mileage):\n",
    "        self.max_speed = max_speed\n",
    "        self.mileage = mileage\n",
    "        print('The max speed is: ' + str(max_speed) + ' km/h')\n",
    "        print('The mileage is: ' + str(mileage) + ' kmpl')\n",
    "        \n",
    "class Bus(Vehicle):\n",
    "    pass\n",
    "        \n",
    "bus1 = Bus(338.8, 32.26)"
   ]
  },
  {
   "cell_type": "markdown",
   "metadata": {},
   "source": [
    "## Q4\n",
    "Create a Btech_SecondYear_CS class where the constructor function sorts the student name based on their percentages of attendance (using quick sort). After displaying the student list, the destructor function will be called for free the memory."
   ]
  },
  {
   "cell_type": "code",
   "execution_count": 18,
   "metadata": {},
   "outputs": [
    {
     "name": "stdout",
     "output_type": "stream",
     "text": [
      "Destructor called, Btech_SecondYear_CS deleted.\n",
      "Names of students arranged in ascending order according to their percentage is -\n",
      "['Eeshu', 'Sudhi', 'Tanisha', 'Prakk']\n",
      "\n",
      "Destructor called, Btech_SecondYear_CS deleted.\n"
     ]
    }
   ],
   "source": [
    "def partition(arr, low, high): \n",
    "    i = (low-1) \n",
    "    pivot = arr[high]  \n",
    "    for j in range(low, high):\n",
    "        if arr[j] <= pivot: \n",
    "            i = i+1\n",
    "            arr[i], arr[j] = arr[j], arr[i]   \n",
    "    arr[i+1], arr[high] = arr[high], arr[i+1] \n",
    "    return i+1\n",
    "\n",
    "\n",
    "def quickSort(arr, low, high): \n",
    "    if len(arr) == 1: \n",
    "        return arr \n",
    "    if low < high:\n",
    "        pi = partition(arr, low, high) \n",
    "        quickSort(arr, low, pi-1) \n",
    "        quickSort(arr, pi+1, high)\n",
    "        \n",
    "        \n",
    "class Btech_SecondYear_CS:\n",
    "    def __init__(self, studentList):\n",
    "        dicLen = len(studentList)\n",
    "        \n",
    "        studentPercentage = list(studentList.values())\n",
    "        quickSort(studentPercentage, 0, dicLen-1)\n",
    "        \n",
    "        key_list = list(studentList.keys())\n",
    "        value_list = list(studentList.values())\n",
    "        \n",
    "        studentNames = []        \n",
    "        for percent in studentPercentage:\n",
    "            pos = value_list.index(percent)\n",
    "            studentNames.append(key_list[pos])        \n",
    "        self.names = studentNames\n",
    "        \n",
    "        # self.names = [name for name,per in sorted(studentList.items(), key=lambda x:x[1])]\n",
    "        print('Names of students arranged in ascending order according to their percentage is -')\n",
    "        print(self.names)\n",
    "        \n",
    "    def __del__(self): \n",
    "        print('\\nDestructor called, Btech_SecondYear_CS deleted.')\n",
    "\n",
    "dic = {\n",
    "    'Tanisha' : 98,\n",
    "    'Prakk' : 100,\n",
    "    'Sudhi' : 91,\n",
    "    'Eeshu' : 60\n",
    "}\n",
    "\n",
    "CSStudents = Btech_SecondYear_CS(dic)\n",
    "del CSStudents"
   ]
  },
  {
   "cell_type": "markdown",
   "metadata": {},
   "source": [
    "## Q5\n",
    "Write a python program to implement queue structure using class"
   ]
  },
  {
   "cell_type": "code",
   "execution_count": 1,
   "metadata": {},
   "outputs": [
    {
     "name": "stdout",
     "output_type": "stream",
     "text": [
      "1. enqueue <value>\n",
      "2. dequeue\n",
      "3. display\n",
      "4. quit\n",
      "Enter the number. What would you like to do? 1\n",
      "Enter the value you want to add in the queue12\n",
      "1. enqueue <value>\n",
      "2. dequeue\n",
      "3. display\n",
      "4. quit\n",
      "Enter the number. What would you like to do? 1\n",
      "Enter the value you want to add in the queue10\n",
      "1. enqueue <value>\n",
      "2. dequeue\n",
      "3. display\n",
      "4. quit\n",
      "Enter the number. What would you like to do? 3\n",
      "The queue is: \n",
      "['12', '10']\n",
      "1. enqueue <value>\n",
      "2. dequeue\n",
      "3. display\n",
      "4. quit\n",
      "Enter the number. What would you like to do? 4\n"
     ]
    }
   ],
   "source": [
    "class Queue:\n",
    "    def __init__(self):\n",
    "        self.items = []\n",
    " \n",
    "    def is_empty(self):\n",
    "        return self.items == []\n",
    " \n",
    "    def enqueue(self, data):\n",
    "        self.items.append(data)\n",
    " \n",
    "    def dequeue(self):\n",
    "        return self.items.pop(0)\n",
    "    \n",
    "    \n",
    "q = Queue()\n",
    "while True:\n",
    "    print('1. enqueue <value>')\n",
    "    print('2. dequeue')    \n",
    "    print('3. display')\n",
    "    print('4. quit')\n",
    "    num = int(input('Enter the number. What would you like to do? '))\n",
    "    \n",
    "    if num == 1:\n",
    "        value = input('Enter the value you want to add in the queue')\n",
    "        q.enqueue(value)\n",
    "        continue\n",
    "    \n",
    "    elif num == 2:\n",
    "        if q.is_empty():\n",
    "            print('Queue is empty.')\n",
    "        else:\n",
    "            print('The value that is dequeued is: ' + str(q.dequeue()))\n",
    "        continue\n",
    "        \n",
    "    elif num == 3:\n",
    "        print('The queue is: ')\n",
    "        print(q.items)\n",
    "        \n",
    "    else:\n",
    "        break"
   ]
  }
 ],
 "metadata": {
  "kernelspec": {
   "display_name": "Python 3",
   "language": "python",
   "name": "python3"
  },
  "language_info": {
   "codemirror_mode": {
    "name": "ipython",
    "version": 3
   },
   "file_extension": ".py",
   "mimetype": "text/x-python",
   "name": "python",
   "nbconvert_exporter": "python",
   "pygments_lexer": "ipython3",
   "version": "3.7.3"
  }
 },
 "nbformat": 4,
 "nbformat_minor": 2
}
