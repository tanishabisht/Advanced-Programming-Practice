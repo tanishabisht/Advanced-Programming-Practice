{
 "cells": [
  {
   "cell_type": "code",
   "execution_count": 8,
   "metadata": {},
   "outputs": [
    {
     "name": "stdout",
     "output_type": "stream",
     "text": [
      "Thread number:  1\n",
      "The values stored in the database are: \n",
      "[('Tanisha', 'Bisht', 2409)]\n",
      "Thread number:  2\n",
      "The values stored in the database are: \n",
      "[('Tanisha', 'Bisht', 2409)]\n",
      "Thread number:  3\n",
      "The values stored in the database are: \n",
      "[('Tanisha', 'Bisht', 2409)]\n",
      "MAIN THREAD BYE!\n"
     ]
    }
   ],
   "source": [
    "from threading import Thread\n",
    "from time import sleep\n",
    "import sqlite3\n",
    "\n",
    "\n",
    "def runDB(i):\n",
    "    print('Thread number: ', i)\n",
    "    conn = sqlite3.connect('./Database/database'+ str(i) +'.db')\n",
    "    c = conn.cursor()\n",
    "    # create a table\n",
    "#     c.execute(\"\"\"CREATE TABLE details (\n",
    "#         fname text,\n",
    "#         lname text,\n",
    "#         id integer\n",
    "#     )\"\"\")\n",
    "    c.execute(\"INSERT INTO details VALUES (:fname, :lname, :id)\", {\n",
    "        'fname': 'Tanisha',\n",
    "        'lname': 'Bisht',\n",
    "        'id': 2409\n",
    "    })\n",
    "    c.execute(\"SELECT * FROM details\")\n",
    "    print('The values stored in the database are: ')\n",
    "    print(c.fetchall())\n",
    "    conn.commit()\n",
    "    conn.close()\n",
    "\n",
    "\n",
    "t1 = Thread(target=runDB,args=[1],daemon=True)\n",
    "t2 = Thread(target=runDB,args=[2],daemon=True)\n",
    "t3 = Thread(target=runDB,args=[3],daemon=True)\n",
    "\n",
    "t1.start()\n",
    "sleep(5)\n",
    "t2.start()\n",
    "sleep(5)\n",
    "t3.start()\n",
    "\n",
    "t1.join()\n",
    "t2.join()\n",
    "t3.join()\n",
    "\n",
    "print('MAIN THREAD BYE!')"
   ]
  },
  {
   "cell_type": "code",
   "execution_count": null,
   "metadata": {},
   "outputs": [],
   "source": []
  },
  {
   "cell_type": "code",
   "execution_count": 7,
   "metadata": {},
   "outputs": [
    {
     "name": "stdout",
     "output_type": "stream",
     "text": [
      "Started\n",
      "Thread number:  1\n"
     ]
    },
    {
     "name": "stderr",
     "output_type": "stream",
     "text": [
      "Exception in thread Thread-12:\n",
      "Traceback (most recent call last):\n",
      "  File \"C:\\Users\\TANISHA\\Anaconda3\\lib\\threading.py\", line 917, in _bootstrap_inner\n",
      "    self.run()\n",
      "  File \"<ipython-input-7-6b1f7c61cd00>\", line 15, in run\n",
      "    c = self.conn.cursor()\n",
      "sqlite3.ProgrammingError: SQLite objects created in a thread can only be used in that same thread. The object was created in thread id 33556 and this is thread id 24540.\n",
      "\n"
     ]
    },
    {
     "name": "stdout",
     "output_type": "stream",
     "text": [
      "Thread number:  2\n"
     ]
    },
    {
     "name": "stderr",
     "output_type": "stream",
     "text": [
      "Exception in thread Thread-13:\n",
      "Traceback (most recent call last):\n",
      "  File \"C:\\Users\\TANISHA\\Anaconda3\\lib\\threading.py\", line 917, in _bootstrap_inner\n",
      "    self.run()\n",
      "  File \"<ipython-input-7-6b1f7c61cd00>\", line 15, in run\n",
      "    c = self.conn.cursor()\n",
      "sqlite3.ProgrammingError: SQLite objects created in a thread can only be used in that same thread. The object was created in thread id 33556 and this is thread id 22512.\n",
      "\n"
     ]
    },
    {
     "name": "stdout",
     "output_type": "stream",
     "text": [
      "Thread number:  3\n",
      "Bye from\n"
     ]
    },
    {
     "name": "stderr",
     "output_type": "stream",
     "text": [
      "Exception in thread Thread-14:\n",
      "Traceback (most recent call last):\n",
      "  File \"C:\\Users\\TANISHA\\Anaconda3\\lib\\threading.py\", line 917, in _bootstrap_inner\n",
      "    self.run()\n",
      "  File \"<ipython-input-7-6b1f7c61cd00>\", line 15, in run\n",
      "    c = self.conn.cursor()\n",
      "sqlite3.ProgrammingError: SQLite objects created in a thread can only be used in that same thread. The object was created in thread id 33556 and this is thread id 5516.\n",
      "\n"
     ]
    }
   ],
   "source": [
    "from threading import Thread\n",
    "from time import sleep\n",
    "import sqlite3\n",
    "\n",
    "\n",
    "class mythread(Thread):\n",
    "    def __init__(self, conn, i):\n",
    "        super(mythread, self).__init__()\n",
    "        self.conn = conn\n",
    "        self.i = i\n",
    "        \n",
    "    def run(self):\n",
    "        print('Thread number: ', self.i)\n",
    "        conn = sqlite3.connect('./Database/database'+ str(self.i) +'.db')\n",
    "        c = self.conn.cursor()\n",
    "        # create a table\n",
    "        # c.execute(\"\"\"CREATE TABLE details (\n",
    "        #     fname text,\n",
    "        #     lname text,\n",
    "        #     id integer\n",
    "        # )\"\"\")\n",
    "        c.execute(\"INSERT INTO details VALUES (:fname, :lname, :id)\", {\n",
    "            'fname': 'Yuvika',\n",
    "            'lname': 'Bisht',\n",
    "            'id': 2409\n",
    "        })\n",
    "        c.execute(\"SELECT * FROM details\")\n",
    "        print('The values stored in the database are: ')\n",
    "        print(c.fetchall())\n",
    "        conn.commit()\n",
    "        conn.close()\n",
    "        \n",
    "\n",
    "conn1 = sqlite3.connect('./Database/database1.db')\n",
    "conn2 = sqlite3.connect('./Database/database2.db')\n",
    "conn3 = sqlite3.connect('./Database/database3.db')\n",
    "\n",
    "t1 = mythread(conn1, 1)\n",
    "t2 = mythread(conn2, 2)\n",
    "t3 = mythread(conn3, 3)\n",
    "\n",
    "print('Started')\n",
    "t1.start()\n",
    "sleep(5)\n",
    "t2.start()\n",
    "sleep(5)\n",
    "t3.start()\n",
    "\n",
    "t1.join()\n",
    "t2.join()\n",
    "t3.join()\n",
    "print(\"Bye from\")"
   ]
  },
  {
   "cell_type": "code",
   "execution_count": null,
   "metadata": {},
   "outputs": [],
   "source": []
  }
 ],
 "metadata": {
  "kernelspec": {
   "display_name": "Python 3",
   "language": "python",
   "name": "python3"
  }
 },
 "nbformat": 4,
 "nbformat_minor": 2
}
