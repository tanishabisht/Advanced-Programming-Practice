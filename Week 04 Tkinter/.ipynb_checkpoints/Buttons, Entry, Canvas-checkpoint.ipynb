{
 "cells": [
  {
   "cell_type": "markdown",
   "metadata": {},
   "source": [
    "## Buttons"
   ]
  },
  {
   "cell_type": "code",
   "execution_count": 2,
   "metadata": {},
   "outputs": [],
   "source": [
    "import tkinter as tk\n",
    "\n",
    "root = tk.Tk()\n",
    "label = tk.Label(root, text='Hello World!')\n",
    "label.grid()\n",
    "root.mainloop()"
   ]
  },
  {
   "cell_type": "code",
   "execution_count": 3,
   "metadata": {},
   "outputs": [],
   "source": [
    "import tkinter as tk\n",
    "from tkinter import messagebox\n",
    "\n",
    "def hello():\n",
    "    msg = messagebox.showinfo('GUI Event Demo', 'Button Demo')\n",
    "    \n",
    "root = tk.Tk()\n",
    "root.geometry('200x200')\n",
    "\n",
    "b = tk.Button(root, text='Fire Me', command=hello)\n",
    "b.place(x=50,y=50)\n",
    "\n",
    "root.mainloop()"
   ]
  },
  {
   "cell_type": "markdown",
   "metadata": {},
   "source": [
    "**activebackground:**"
   ]
  },
  {
   "cell_type": "markdown",
   "metadata": {},
   "source": [
    "## Entry Widget\n",
    "An entry presents user with a single line text field that they can use to type in a string value. These can be just about anything: their name, a city, a password, etc."
   ]
  },
  {
   "cell_type": "code",
   "execution_count": 4,
   "metadata": {},
   "outputs": [],
   "source": [
    "def hello():\n",
    "    msg = messagebox.showinfo('GUI Event Demo', 'Button Demo')\n",
    "    \n",
    "root = tk.Tk()\n",
    "root.geometry('200x200')\n",
    "l1 = tk.Label(root, text='Name: ')\n",
    "l1.grid(row=0)\n",
    "\n",
    "t = tk.Entry(root)\n",
    "t.grid(row=0,column=1)\n",
    "\n",
    "b = tk.Button(root, text='Fire Me', command=hello)\n",
    "b.grid(row=1,columnspan=2)\n",
    "\n",
    "root.mainloop()"
   ]
  },
  {
   "cell_type": "markdown",
   "metadata": {},
   "source": [
    "## Canvas\n",
    "Rectangular area to draw pictures or other complex layouts like graphics, texts and widgets.\n",
    "\n",
    "`w = Canvas(master, option=value)`\n",
    "\n",
    "**master:** to represent parent window<br>\n",
    "**bd:** border width<br>\n",
    "**bg:** background color<br>\n",
    "**cursor:** set cursor<br>\n",
    "**highlightcolor:** color shown in focus highlight<br>\n",
    "**width:** of the widget<br>\n",
    "**height:** of the widget"
   ]
  },
  {
   "cell_type": "code",
   "execution_count": 11,
   "metadata": {},
   "outputs": [],
   "source": [
    "from tkinter import *\n",
    "\n",
    "master = Tk()\n",
    "w = Canvas(master, width=40, height=60)\n",
    "w.pack()\n",
    "canvas_height = 20\n",
    "canvas_width = 200\n",
    "\n",
    "y = int(canvas_height/2)\n",
    "w.create_line(0, y, canvas_width, y)\n",
    "mainloop()"
   ]
  },
  {
   "cell_type": "code",
   "execution_count": 1,
   "metadata": {},
   "outputs": [],
   "source": [
    "from tkinter import *\n",
    "\n",
    "top = Tk()\n",
    "C = Canvas(top, bg='blue', height=250, width=300)\n",
    "coord = 10, 50, 240, 210\n",
    "\n",
    "arc = C.create_arc(coord, start=0, extent=150, fill='red')\n",
    "line = C.create_line(10, 10, 200, 200, fill='white')\n",
    "\n",
    "C.pack()\n",
    "top.mainloop()"
   ]
  },
  {
   "cell_type": "code",
   "execution_count": null,
   "metadata": {},
   "outputs": [],
   "source": []
  },
  {
   "cell_type": "code",
   "execution_count": null,
   "metadata": {},
   "outputs": [],
   "source": []
  }
 ],
 "metadata": {
  "kernelspec": {
   "display_name": "Python 3",
   "language": "python",
   "name": "python3"
  },
  "language_info": {
   "codemirror_mode": {
    "name": "ipython",
    "version": 3
   },
   "file_extension": ".py",
   "mimetype": "text/x-python",
   "name": "python",
   "nbconvert_exporter": "python",
   "pygments_lexer": "ipython3",
   "version": "3.7.3"
  }
 },
 "nbformat": 4,
 "nbformat_minor": 2
}
