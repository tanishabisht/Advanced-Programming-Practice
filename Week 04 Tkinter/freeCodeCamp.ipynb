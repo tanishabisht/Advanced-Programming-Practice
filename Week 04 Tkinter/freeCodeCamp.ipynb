{
 "cells": [
  {
   "cell_type": "markdown",
   "metadata": {},
   "source": [
    "## Intro"
   ]
  },
  {
   "cell_type": "code",
   "execution_count": 4,
   "metadata": {},
   "outputs": [],
   "source": [
    "from tkinter import *\n",
    "\n",
    "# Creating main page widget\n",
    "root = Tk()\n",
    "\n",
    "# Creating a label widget\n",
    "myLabel = Label(root, text='Hello World!')\n",
    "\n",
    "# Placing it on the root widget\n",
    "myLabel.pack()\n",
    "\n",
    "# Diaplay the GUI\n",
    "root.mainloop()"
   ]
  },
  {
   "cell_type": "markdown",
   "metadata": {},
   "source": [
    "## Grid\n",
    "To position widgets on root widget"
   ]
  },
  {
   "cell_type": "code",
   "execution_count": 7,
   "metadata": {},
   "outputs": [],
   "source": [
    "from tkinter import *\n",
    "\n",
    "# Creating main page widget\n",
    "root = Tk()\n",
    "\n",
    "# Creating a label widget\n",
    "myLabel1 = Label(root, text='Hello World!')\n",
    "myLabel2 = Label(root, text='My name is Tanisha!')\n",
    "\n",
    "# Placing it on the root widget\n",
    "myLabel1.grid(row=0, column=0)\n",
    "myLabel2.grid(row=1, column=1)\n",
    "\n",
    "# Diaplay the GUI\n",
    "root.mainloop()"
   ]
  },
  {
   "cell_type": "code",
   "execution_count": 8,
   "metadata": {},
   "outputs": [],
   "source": [
    "from tkinter import *\n",
    "\n",
    "# Creating main page widget\n",
    "root = Tk()\n",
    "\n",
    "# Creating a label widget and placing on the root widget\n",
    "myLabel1 = Label(root, text='Hello World!').grid(row=0, column=0)\n",
    "myLabel2 = Label(root, text='My name is Tanisha!').grid(row=1, column=1)\n",
    "\n",
    "# Diaplay the GUI\n",
    "root.mainloop()"
   ]
  },
  {
   "cell_type": "markdown",
   "metadata": {},
   "source": [
    "## Button"
   ]
  },
  {
   "cell_type": "code",
   "execution_count": 13,
   "metadata": {},
   "outputs": [],
   "source": [
    "from tkinter import *\n",
    "\n",
    "# Creating main page widget\n",
    "root = Tk()\n",
    "\n",
    "# What you want the button to do\n",
    "def myClick():\n",
    "    myLabel = Label(root, text='Look! I clicked a Button!')\n",
    "    myLabel.pack()\n",
    "\n",
    "# Creating a button\n",
    "myButton = Button(root, text='Click Me', padx=50, pady=10, command=myClick)\n",
    "\n",
    "# Placing it on the root widget\n",
    "myButton.pack()\n",
    "\n",
    "# Diaplay the GUI\n",
    "root.mainloop()"
   ]
  },
  {
   "cell_type": "markdown",
   "metadata": {},
   "source": [
    "## Input Fields: Entry"
   ]
  },
  {
   "cell_type": "code",
   "execution_count": 25,
   "metadata": {},
   "outputs": [],
   "source": [
    "from tkinter import *\n",
    "\n",
    "# Creating main page widget\n",
    "root = Tk()\n",
    "\n",
    "# Creating a button and placing on root widget\n",
    "e = Entry(root, width=50, fg='#aaa', borderwidth=0)\n",
    "e.insert(0, 'Enter your name: ')\n",
    "e.pack()\n",
    "\n",
    "# What you want the button to do\n",
    "def myClick():\n",
    "    myLabel = Label(root, text=e.get()).pack()\n",
    "\n",
    "# Creating a button\n",
    "myButton = Button(root, text='Click Me', padx=50, pady=10, command=myClick).pack()\n",
    "\n",
    "# Diaplay the GUI\n",
    "root.mainloop()"
   ]
  },
  {
   "cell_type": "markdown",
   "metadata": {},
   "source": [
    "## CALCULATOR APP"
   ]
  },
  {
   "cell_type": "code",
   "execution_count": 73,
   "metadata": {},
   "outputs": [],
   "source": [
    "from tkinter import *\n",
    "\n",
    "# Creating main page widget\n",
    "root = Tk()\n",
    "root.title('Simple Calculator')\n",
    "\n",
    "# Creating a label widget\n",
    "inputField = Entry(root, width=22, borderwidth=1)\n",
    "inputField.grid(row=0, column=0, columnspan=3)\n",
    "\n",
    "\n",
    "def btn_click(num):\n",
    "    current = inputField.get()\n",
    "    inputField.delete(0, END)\n",
    "    inputField.insert(0, str(current) + str(num))\n",
    "\n",
    "def btn_clear():\n",
    "    inputField.delete(0, END)\n",
    "\n",
    "def btn_equals():\n",
    "    expression = inputField.get().split('+')\n",
    "    expression = [int(num) for num in expression]\n",
    "    inputField.delete(0, END)\n",
    "    inputField.insert(0, sum(expression))\n",
    "\n",
    "num7 = Button(root, text='7', padx=15, pady=10, command=lambda: btn_click(7)).grid(row=1, column=0)\n",
    "num8 = Button(root, text='8', padx=15, pady=10, command=lambda: btn_click(8)).grid(row=1, column=1)\n",
    "num9 = Button(root, text='9', padx=15, pady=10, command=lambda: btn_click(9)).grid(row=1, column=2)\n",
    "num4 = Button(root, text='4', padx=15, pady=10, command=lambda: btn_click(4)).grid(row=2, column=0)\n",
    "num5 = Button(root, text='5', padx=15, pady=10, command=lambda: btn_click(5)).grid(row=2, column=1)\n",
    "num6 = Button(root, text='6', padx=15, pady=10, command=lambda: btn_click(6)).grid(row=2, column=2)\n",
    "num1 = Button(root, text='1', padx=15, pady=10, command=lambda: btn_click(1)).grid(row=3, column=0)\n",
    "num2 = Button(root, text='2', padx=15, pady=10, command=lambda: btn_click(2)).grid(row=3, column=1)\n",
    "num3 = Button(root, text='3', padx=15, pady=10, command=lambda: btn_click(3)).grid(row=3, column=2)\n",
    "num0 = Button(root, text='0', padx=15, pady=10, command=lambda: btn_click(0)).grid(row=4, column=0)\n",
    "\n",
    "clear = Button(root, text='Clear', padx=27, pady=10, command=btn_clear).grid(row=4, column=1, columnspan=2)\n",
    "add = Button(root, text='+', padx=15, pady=10, command=lambda: btn_click('+')).grid(row=5, column=0)\n",
    "equals = Button(root, text='=', padx=36, pady=10, command=btn_equals).grid(row=5, column=1, columnspan=2)\n",
    "\n",
    "# Diaplay the GUI\n",
    "root.mainloop()"
   ]
  },
  {
   "cell_type": "markdown",
   "metadata": {},
   "source": [
    "## Frames"
   ]
  },
  {
   "cell_type": "code",
   "execution_count": 6,
   "metadata": {},
   "outputs": [],
   "source": [
    "from tkinter import *\n",
    "\n",
    "# Creating main page widget\n",
    "root = Tk()\n",
    "root.title('Frames')\n",
    "\n",
    "frame = LabelFrame(root, text='This is my frame...', padx=5, pady=5)\n",
    "frame.pack(padx=10, pady=10)\n",
    "\n",
    "b1 = Button(frame, text='Dont Click here!')\n",
    "b2 = Button(frame, text='or here')\n",
    "\n",
    "b1.grid(row=0, column=0)\n",
    "b2.grid(row=1, column=1)\n",
    "\n",
    "\n",
    "# Diaplay the GUI\n",
    "root.mainloop()"
   ]
  },
  {
   "cell_type": "markdown",
   "metadata": {},
   "source": [
    "## Radio Buttons"
   ]
  },
  {
   "cell_type": "code",
   "execution_count": 11,
   "metadata": {},
   "outputs": [],
   "source": [
    "from tkinter import *\n",
    "\n",
    "# Creating main page widget\n",
    "root = Tk()\n",
    "root.title('Radio Button')\n",
    "\n",
    "\n",
    "r = IntVar()\n",
    "r.set('2')\n",
    "\n",
    "def clicked(value):\n",
    "    myLabel = Label(root, text=value).pack()\n",
    "\n",
    "Radiobutton(root, text='Option 1', variable=r, value=1, command=lambda: clicked(r.get())).pack()\n",
    "Radiobutton(root, text='Option 2', variable=r, value=2, command=lambda: clicked(r.get())).pack()\n",
    "\n",
    "\n",
    "# Diaplay the GUI\n",
    "root.mainloop()"
   ]
  },
  {
   "cell_type": "code",
   "execution_count": 14,
   "metadata": {},
   "outputs": [],
   "source": [
    "from tkinter import *\n",
    "\n",
    "# Creating main page widget\n",
    "root = Tk()\n",
    "root.title('Radio Button')\n",
    "\n",
    "\n",
    "r = StringVar()\n",
    "r.set('Pepperoni')\n",
    "\n",
    "MODES = [\n",
    "    ('Pepperoni', 'Pepperoni'),\n",
    "    ('Cheese', 'Cheese'),\n",
    "    ('Mushroom', 'Mushroom'),\n",
    "    ('Onion', 'Onion'),    \n",
    "]\n",
    "\n",
    "def clicked(value):\n",
    "    myLabel = Label(root, text=value).pack()\n",
    "\n",
    "for option,val in MODES:\n",
    "    Radiobutton(root, text=option, variable=r, value=val, command=lambda: clicked(r.get())).pack()\n",
    "\n",
    "# Diaplay the GUI\n",
    "root.mainloop()"
   ]
  },
  {
   "cell_type": "markdown",
   "metadata": {},
   "source": [
    "## Message Box"
   ]
  },
  {
   "cell_type": "code",
   "execution_count": 21,
   "metadata": {},
   "outputs": [],
   "source": [
    "from tkinter import *\n",
    "from tkinter import messagebox\n",
    "\n",
    "# Creating main page widget\n",
    "root = Tk()\n",
    "root.title('Message Box')\n",
    "\n",
    "# showinfo, showwarning, showerror, askquestion, askokcancel, askyesno\n",
    "def popup():\n",
    "    response = messagebox.askokcancel('This is my title Bar', 'This the is message of my pop up')\n",
    "    Label(root, text=response).pack()\n",
    "\n",
    "Button(root, text='Popup', command=popup).pack()\n",
    "\n",
    "# Diaplay the GUI\n",
    "root.mainloop()"
   ]
  },
  {
   "cell_type": "markdown",
   "metadata": {},
   "source": [
    "## Open file dialogue box"
   ]
  },
  {
   "cell_type": "code",
   "execution_count": 1,
   "metadata": {},
   "outputs": [],
   "source": [
    "from tkinter import *\n",
    "from tkinter import filedialog\n",
    "\n",
    "# Creating main page widget\n",
    "root = Tk()\n",
    "root.title('Message Box')\n",
    "\n",
    "def open():\n",
    "    root.filename = filedialog.askopenfilename(initialdir='/', title='Select a File', filetypes=(('png files', '*.png'), ('all files', '*.*')))\n",
    "    Label(root, text=root.filename).pack()\n",
    "    \n",
    "btn = Button(root, text='Open File', command=open).pack()\n",
    "\n",
    "# Diaplay the GUI\n",
    "root.mainloop()"
   ]
  },
  {
   "cell_type": "markdown",
   "metadata": {},
   "source": [
    "## Checkbox"
   ]
  },
  {
   "cell_type": "code",
   "execution_count": 30,
   "metadata": {},
   "outputs": [],
   "source": [
    "from tkinter import *\n",
    "\n",
    "# Creating main page widget\n",
    "root = Tk()\n",
    "root.title('Radio Button')\n",
    "root.geometry('400x400')\n",
    "\n",
    "def show():\n",
    "    myLabel = Label(root, text=var.get()).pack()\n",
    "\n",
    "var = IntVar()\n",
    "\n",
    "c = Checkbutton(root, text='Check this box!', variable=var).pack()\n",
    "btn = Button(root, text='Show Selection', command=show).pack()\n",
    "\n",
    "# Diaplay the GUI\n",
    "root.mainloop()"
   ]
  },
  {
   "cell_type": "code",
   "execution_count": 37,
   "metadata": {},
   "outputs": [],
   "source": [
    "from tkinter import *\n",
    "\n",
    "# Creating main page widget\n",
    "root = Tk()\n",
    "root.title('Radio Button')\n",
    "root.geometry('400x400')\n",
    "\n",
    "def show():\n",
    "    myLabel = Label(root, text=var.get()).pack()\n",
    "\n",
    "var = StringVar()\n",
    "\n",
    "c = Checkbutton(root, text='Check this box!', variable=var, onvalue='Checked', offvalue='Un-Checked')\n",
    "c.deselect()\n",
    "c.pack()\n",
    "\n",
    "\n",
    "btn = Button(root, text='Show Selection', command=show).pack()\n",
    "\n",
    "# Diaplay the GUI\n",
    "root.mainloop()"
   ]
  },
  {
   "cell_type": "markdown",
   "metadata": {},
   "source": [
    "## DropDown Menus"
   ]
  },
  {
   "cell_type": "code",
   "execution_count": 49,
   "metadata": {},
   "outputs": [],
   "source": [
    "from tkinter import *\n",
    "\n",
    "# Creating main page widget\n",
    "root = Tk()\n",
    "root.title('Drop Down Box')\n",
    "root.geometry('400x400')\n",
    "\n",
    "\n",
    "clicked = StringVar()\n",
    "clicked.set('Monday')\n",
    "\n",
    "options = ['Monday', 'Tuesday', 'Wednesday', 'Thursday', 'Friday']\n",
    "# drop = OptionMenu(root, clicked, 'Monday', 'Tuesday', 'Wednesday', 'Thursday', 'Friday')\n",
    "drop = OptionMenu(root, clicked, *options)\n",
    "drop.pack()\n",
    "\n",
    "\n",
    "def show():\n",
    "    Label(root, text=clicked.get()).pack()\n",
    "    \n",
    "btn = Button(root, text='Show Selection', command=show).pack()\n",
    "\n",
    "# Diaplay the GUI\n",
    "root.mainloop()"
   ]
  },
  {
   "cell_type": "code",
   "execution_count": 1,
   "metadata": {},
   "outputs": [],
   "source": [
    "from tkinter import *\n",
    "from tkinter import ttk\n",
    "\n",
    "# Creating main page widget\n",
    "root = Tk()\n",
    "root.title('Drop Down Box')\n",
    "root.geometry('400x400')\n",
    "\n",
    "E4_3 = ttk.Combobox(root)\n",
    "E4_3.insert(0, 'Select a Country')\n",
    "E4_3['values'] = ('India', 'USA', 'ghi', 'jkl')\n",
    "E4_3.grid(row=5, column=1)\n",
    "\n",
    "# Diaplay the GUI\n",
    "root.mainloop()"
   ]
  },
  {
   "cell_type": "code",
   "execution_count": null,
   "metadata": {},
   "outputs": [],
   "source": []
  }
 ],
 "metadata": {
  "kernelspec": {
   "display_name": "Python 3",
   "language": "python",
   "name": "python3"
  },
  "language_info": {
   "codemirror_mode": {
    "name": "ipython",
    "version": 3
   },
   "file_extension": ".py",
   "mimetype": "text/x-python",
   "name": "python",
   "nbconvert_exporter": "python",
   "pygments_lexer": "ipython3",
   "version": "3.7.3"
  }
 },
 "nbformat": 4,
 "nbformat_minor": 2
}
