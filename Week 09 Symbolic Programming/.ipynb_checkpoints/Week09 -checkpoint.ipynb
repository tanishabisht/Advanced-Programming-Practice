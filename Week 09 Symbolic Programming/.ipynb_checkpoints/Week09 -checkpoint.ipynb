{
 "cells": [
  {
   "cell_type": "markdown",
   "metadata": {},
   "source": [
    "# Week9 : Symbolic Programming\n",
    "TANISHA BISHT<br>\n",
    "RA1911003010259\n",
    "\n",
    "## Q1\n",
    "Calculate the expanded form of (x+y)^6"
   ]
  },
  {
   "cell_type": "code",
   "execution_count": 8,
   "metadata": {},
   "outputs": [
    {
     "name": "stdout",
     "output_type": "stream",
     "text": [
      "Original expression: \n",
      "(x + y)**6\n",
      "\n",
      "Expanded form: \n",
      "x**6 + 6*x**5*y + 15*x**4*y**2 + 20*x**3*y**3 + 15*x**2*y**4 + 6*x*y**5 + y**6\n"
     ]
    }
   ],
   "source": [
    "from sympy import *\n",
    "  \n",
    "x, y = symbols('x y')\n",
    "exp = (x+y)**6\n",
    "expanded = expand(exp) \n",
    "\n",
    "print('Original expression: ')\n",
    "print(exp)\n",
    "print()\n",
    "\n",
    "print('Expanded form: ')\n",
    "print(expanded)"
   ]
  },
  {
   "cell_type": "markdown",
   "metadata": {},
   "source": [
    "## Q2\n",
    "Simplify the trigonometric expression sin(x)/cos(x)"
   ]
  },
  {
   "cell_type": "code",
   "execution_count": 10,
   "metadata": {},
   "outputs": [
    {
     "name": "stdout",
     "output_type": "stream",
     "text": [
      "Original expression: \n",
      "sin(x)/cos(x)\n",
      "\n",
      "Simplified form: \n",
      "tan(x)\n"
     ]
    }
   ],
   "source": [
    "from sympy import *\n",
    "\n",
    "exp = sin(x) / cos(x)\n",
    "\n",
    "print('Original expression: ')\n",
    "print(exp)\n",
    "print()\n",
    "\n",
    "print('Simplified form: ')\n",
    "print(simplify(exp))"
   ]
  },
  {
   "cell_type": "markdown",
   "metadata": {},
   "source": [
    "## Q3\n",
    "Calculate root(2) with 100 decimals."
   ]
  },
  {
   "cell_type": "code",
   "execution_count": 15,
   "metadata": {},
   "outputs": [
    {
     "name": "stdout",
     "output_type": "stream",
     "text": [
      "Root 2 with upto 100 decimal places:\n",
      "1.414213562373095048801688724209698078569671875376948073176679737990732478462107038850387534327641573\n"
     ]
    }
   ],
   "source": [
    "from sympy import *\n",
    "\n",
    "print('Root 2 with upto 100 decimal places:')\n",
    "print(N(sqrt(2), 100))"
   ]
  },
  {
   "cell_type": "markdown",
   "metadata": {},
   "source": [
    "## Q4\n",
    "Calculate 1/2 + 1/3 in rational arithmetic."
   ]
  },
  {
   "cell_type": "code",
   "execution_count": 19,
   "metadata": {},
   "outputs": [
    {
     "name": "stdout",
     "output_type": "stream",
     "text": [
      "1/2 + 1/3 = 5/6\n"
     ]
    }
   ],
   "source": [
    "from sympy import *\n",
    "\n",
    "a = Rational(1,2)\n",
    "b = Rational(1,3)\n",
    "print('1/2 + 1/3 =',a+b)"
   ]
  },
  {
   "cell_type": "markdown",
   "metadata": {},
   "source": [
    "## Q5\n",
    "Solve the system of equations : x+y=2, 2*x+y=0"
   ]
  },
  {
   "cell_type": "code",
   "execution_count": 24,
   "metadata": {},
   "outputs": [
    {
     "name": "stdout",
     "output_type": "stream",
     "text": [
      "Eq1: x+y=2\n",
      "Eq2: 2*x+y=0\n",
      "Soln: {x: -2, y: 4}\n"
     ]
    }
   ],
   "source": [
    "from sympy import *\n",
    "\n",
    "x, y = symbols('x y')\n",
    "\n",
    "eq1 = Eq(x + y - 2)\n",
    "eq2 = Eq(2*x + y)\n",
    "\n",
    "print('Eq1: x+y=2')\n",
    "print('Eq2: 2*x+y=0')\n",
    "print('Soln:', solve((eq1,eq2), (x, y)))"
   ]
  }
 ],
 "metadata": {
  "kernelspec": {
   "display_name": "Python 3",
   "language": "python",
   "name": "python3"
  },
  "language_info": {
   "codemirror_mode": {
    "name": "ipython",
    "version": 3
   },
   "file_extension": ".py",
   "mimetype": "text/x-python",
   "name": "python",
   "nbconvert_exporter": "python",
   "pygments_lexer": "ipython3",
   "version": "3.7.3"
  }
 },
 "nbformat": 4,
 "nbformat_minor": 2
}
