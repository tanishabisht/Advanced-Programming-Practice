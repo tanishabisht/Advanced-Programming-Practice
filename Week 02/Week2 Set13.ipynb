{
 "cells": [
  {
   "cell_type": "markdown",
   "metadata": {},
   "source": [
    "# Week2 Set13\n",
    "\n",
    "## Q1\n",
    "Implement a Python program to sort a list of dictionaries using Lambda. \n",
    "\n",
    "**Original list of dictionaries :**<br>\n",
    "[{'make': 'Nokia', 'model': 216, 'color': 'Black'}, {'make': 'Mi Max', 'model': '2', 'color': 'Gold'},\n",
    "{'make': 'Samsung', 'model': 7, 'color': 'Blue'}] \n",
    "\n",
    "**Sorting the List of dictionaries :**<br>\n",
    "[{'make': 'Nokia', 'model': 216, 'color': 'Black'}, {'make': 'Samsung', 'model': 7, 'color': 'Blue'},\n",
    "{'make': 'Mi Max', 'model': '2', 'color': 'Gold'}] "
   ]
  },
  {
   "cell_type": "code",
   "execution_count": 4,
   "metadata": {},
   "outputs": [
    {
     "name": "stdout",
     "output_type": "stream",
     "text": [
      "[{'make': 'Nokia', 'model': 216, 'color': 'Black'}, {'make': 'Samsung', 'model': 7, 'color': 'Blue'}, {'make': 'Mi Max', 'model': '2', 'color': 'Gold'}]\n"
     ]
    }
   ],
   "source": [
    "dicList = [{'make': 'Nokia', 'model': 216, 'color': 'Black'}, {'make': 'Mi Max', 'model': '2', 'color': 'Gold'}, {'make': 'Samsung', 'model': 7, 'color': 'Blue'}]\n",
    "print(sorted(dicList, key = lambda i : int(i['model']), reverse=True))"
   ]
  },
  {
   "cell_type": "markdown",
   "metadata": {},
   "source": [
    "## Q2\n",
    "Create a Python function that accepts a string and calculate the number of upper case letters and lower case letters.\n",
    "\n",
    "**Sample String :** 'The quick Brow Fox'\n",
    "\n",
    "**Expected Output :** <br>\n",
    "No. of Upper case characters : 3 <br>\n",
    "No. of Lower case Characters : 12 "
   ]
  },
  {
   "cell_type": "code",
   "execution_count": 6,
   "metadata": {},
   "outputs": [
    {
     "name": "stdout",
     "output_type": "stream",
     "text": [
      "Enter a string: The quick Brow Fox\n",
      "No. of Upper case characters: 3\n",
      "No. of Lower case characters: 12\n"
     ]
    }
   ],
   "source": [
    "string = input('Enter a string: ')\n",
    "uppr = 0\n",
    "lowr = 0\n",
    "for char in string:\n",
    "    if char.isupper():\n",
    "        uppr += 1\n",
    "    elif char.islower():\n",
    "        lowr += 1\n",
    "        \n",
    "print('No. of Upper case characters: ' + str(uppr))\n",
    "print('No. of Lower case characters: ' + str(lowr))"
   ]
  },
  {
   "cell_type": "markdown",
   "metadata": {},
   "source": [
    "## Q3\n",
    "Write a Python program to move all zero digits to end of a given list of numbers. \n",
    "\n",
    "**Original list:** [3, 4, 0, 0, 0, 6, 2, 0, 6, 7, 6, 0, 0, 0, 9, 10, 7, 4, 4, 5, 3, 0, 0, 2, 9, 7, 1] <br>\n",
    "**Move all zero digits to end of the said list of numbers:** [3, 4, 6, 2, 6, 7, 6, 9, 10, 7, 4, 4, 5, 3, 2, 9, 7, 1, 0, 0, 0, 0, 0, 0, 0, 0, 0] "
   ]
  },
  {
   "cell_type": "code",
   "execution_count": 10,
   "metadata": {},
   "outputs": [
    {
     "name": "stdout",
     "output_type": "stream",
     "text": [
      "Original List: [3, 4, 0, 0, 0, 6, 2, 0, 6, 7, 6, 0, 0, 0, 9, 10, 7, 4, 4, 5, 3, 0, 0, 2, 9, 7, 1]\n",
      "[3, 4, 6, 2, 6, 7, 6, 9, 10, 7, 4, 4, 5, 3, 2, 9, 7, 1, 0, 0, 0, 0, 0, 0, 0, 0, 0]\n"
     ]
    }
   ],
   "source": [
    "import ast\n",
    "\n",
    "original = input('Original List: ')\n",
    "original = ast.literal_eval(original)\n",
    "\n",
    "isZero = 0\n",
    "newList = []\n",
    "for n in original:\n",
    "    if n==0:\n",
    "        isZero += 1\n",
    "    else:\n",
    "        newList += [n]\n",
    "        \n",
    "newList += [0]*isZero\n",
    "print(newList)"
   ]
  },
  {
   "cell_type": "markdown",
   "metadata": {},
   "source": [
    "## Q4\n",
    "Create a Python script to print a dictionary where the keys are numbers between 1 and 15 (both included) and the values are square of keys. <br>\n",
    "**Sample Dictionary**\n",
    "{1:1, 2:4, 3:9, 4:16, 5:25, 6:36, 7:49, 8:64, 9:81, 10:100, 11:121, 12:144, 13:169, 14:196, 15:225} "
   ]
  },
  {
   "cell_type": "code",
   "execution_count": 11,
   "metadata": {},
   "outputs": [
    {
     "name": "stdout",
     "output_type": "stream",
     "text": [
      "{1: 1, 2: 4, 3: 9, 4: 16, 5: 25, 6: 36, 7: 49, 8: 64, 9: 81, 10: 100, 11: 121, 12: 144, 13: 169, 14: 196, 15: 225}\n"
     ]
    }
   ],
   "source": [
    "dic = {}\n",
    "\n",
    "for i in range(1,16):\n",
    "    dic[i] = i**2\n",
    "    \n",
    "print(dic)"
   ]
  },
  {
   "cell_type": "markdown",
   "metadata": {},
   "source": [
    "## Q5\n",
    "Write a Python program to find the numbers of a given string and store them in a list, display the numbers which are bigger than the length of the list in sorted form. Use lambda function to solve the problem.\n",
    "\n",
    "**Original string:** sdf 23 safs8 5 sdfsd8 sdfs 56 21sfs 20 5 <br>\n",
    "**Numbers in sorted form:** 20 23 56"
   ]
  },
  {
   "cell_type": "code",
   "execution_count": 20,
   "metadata": {},
   "outputs": [
    {
     "name": "stdout",
     "output_type": "stream",
     "text": [
      "Original String: sdf 23 safs8 5 sdfsd8 sdfs 56 21sfs 20 5\n",
      "23 56 20 "
     ]
    }
   ],
   "source": [
    "string = input('Original String: ')\n",
    "stringList = string.split()\n",
    "lenght = len(stringList)\n",
    "\n",
    "number = []\n",
    "for word in stringList:\n",
    "    if word.isnumeric():\n",
    "        number += [int(word)]\n",
    "\n",
    "for n in number:\n",
    "    if n>lenght:\n",
    "        print(n, end=' ')"
   ]
  }
 ],
 "metadata": {
  "kernelspec": {
   "display_name": "Python 3",
   "language": "python",
   "name": "python3"
  },
  "language_info": {
   "codemirror_mode": {
    "name": "ipython",
    "version": 3
   },
   "file_extension": ".py",
   "mimetype": "text/x-python",
   "name": "python",
   "nbconvert_exporter": "python",
   "pygments_lexer": "ipython3",
   "version": "3.7.3"
  }
 },
 "nbformat": 4,
 "nbformat_minor": 2
}
