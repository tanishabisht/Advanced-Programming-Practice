{
 "cells": [
  {
   "cell_type": "markdown",
   "metadata": {},
   "source": [
    "# Week2 Set3\n",
    "\n",
    "## Q1\n",
    "Create a function for finding average of N nums (where N=95,98,95,98,99) using python Programming (Define the function name as avg)"
   ]
  },
  {
   "cell_type": "code",
   "execution_count": 9,
   "metadata": {},
   "outputs": [
    {
     "name": "stdout",
     "output_type": "stream",
     "text": [
      "The average of the given N numbers is: \n",
      "97.0\n"
     ]
    }
   ],
   "source": [
    "def avg(*n):\n",
    "    sumNo = 0\n",
    "    for i in n:\n",
    "        sumNo += i\n",
    "    return sumNo/len(n)\n",
    "\n",
    "print('The average of the given N numbers is: ')\n",
    "print(avg(95, 98, 99, 95, 98))"
   ]
  },
  {
   "cell_type": "markdown",
   "metadata": {},
   "source": [
    "## Q2\n",
    "Develop a python code to double the given number using lambda function. "
   ]
  },
  {
   "cell_type": "code",
   "execution_count": 10,
   "metadata": {},
   "outputs": [
    {
     "name": "stdout",
     "output_type": "stream",
     "text": [
      "Enter a number that you want to double: 42\n",
      "The double of the entered number is: 84\n"
     ]
    }
   ],
   "source": [
    "double = lambda n : 2*n\n",
    "\n",
    "num = int(input('Enter a number that you want to double: '))\n",
    "print('The double of the entered number is: ' + str(double(num)))"
   ]
  },
  {
   "cell_type": "markdown",
   "metadata": {},
   "source": [
    "## Q3\n",
    "Create a subroutine called tables and print the tables by passing the parameter 3600\n",
    "\n",
    "**QUESTION INCORRECT**"
   ]
  },
  {
   "cell_type": "markdown",
   "metadata": {},
   "source": [
    "## Q4\n",
    "Develop a python code to display the items with duplicate elements and print the number of items in the tuple."
   ]
  },
  {
   "cell_type": "code",
   "execution_count": 15,
   "metadata": {},
   "outputs": [
    {
     "name": "stdout",
     "output_type": "stream",
     "text": [
      "The list of duplicate elements is: \n",
      "(23, 5, 1)\n",
      "\n",
      "The number of unique items in the tuple is: 6\n"
     ]
    }
   ],
   "source": [
    "tuple1 = (23, 43, 1, 5, 67, 23, 19, 23, 23, 5, 1, 5, 23)\n",
    "duplicateList = []\n",
    "elemList = []\n",
    "\n",
    "for num in tuple1:\n",
    "    if num in elemList:\n",
    "        if num not in duplicateList:\n",
    "            duplicateList.append(num)\n",
    "    else:\n",
    "        elemList.append(num)\n",
    "\n",
    "print('The list of duplicate elements is: ')\n",
    "print(tuple(duplicateList))\n",
    "\n",
    "print('\\nThe number of unique items in the tuple is: ' + str(len(elemList)))"
   ]
  },
  {
   "cell_type": "markdown",
   "metadata": {},
   "source": [
    "## Q5\n",
    "Create a python code to display the processor, number of cores and year of release of an new AMD processor using Dictionary with above key and give the values for it."
   ]
  },
  {
   "cell_type": "code",
   "execution_count": 17,
   "metadata": {},
   "outputs": [
    {
     "name": "stdout",
     "output_type": "stream",
     "text": [
      "Enter the name of the processor: Intel COre\n",
      "Enter the number of cores: 4\n",
      "Enter the year of release: 2006\n",
      "\n",
      " Display the dictionary: \n",
      "{'processor': 'Intel COre', 'noOfCores': '4', 'yearOfRelease': '2006'}\n"
     ]
    }
   ],
   "source": [
    "processor = input('Enter the name of the processor: ')\n",
    "noCores = input('Enter the number of cores: ')\n",
    "yearOfRelease = input('Enter the year of release: ')\n",
    "\n",
    "dictionary = {\n",
    "    'processor': processor,\n",
    "    'noOfCores': noCores,\n",
    "    'yearOfRelease': yearOfRelease\n",
    "}\n",
    "\n",
    "print('\\n Display the dictionary: ')\n",
    "print(dictionary)"
   ]
  },
  {
   "cell_type": "code",
   "execution_count": null,
   "metadata": {},
   "outputs": [],
   "source": []
  }
 ],
 "metadata": {
  "kernelspec": {
   "display_name": "Python 3",
   "language": "python",
   "name": "python3"
  },
  "language_info": {
   "codemirror_mode": {
    "name": "ipython",
    "version": 3
   },
   "file_extension": ".py",
   "mimetype": "text/x-python",
   "name": "python",
   "nbconvert_exporter": "python",
   "pygments_lexer": "ipython3",
   "version": "3.7.3"
  }
 },
 "nbformat": 4,
 "nbformat_minor": 2
}
