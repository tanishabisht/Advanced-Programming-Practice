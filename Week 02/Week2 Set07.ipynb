{
 "cells": [
  {
   "cell_type": "markdown",
   "metadata": {},
   "source": [
    "# Week2 Set7\n",
    "\n",
    "<div style=\"text-align: right\"> TANISHA BISHT </div>\n",
    "<div style=\"text-align: right\"> RA1911003010259 </div>\n",
    "\n",
    "\n",
    "## Q1\n",
    "\n",
    "Data protection has become one of the most crucial task in the internet. An application uses Caesar cipher for this purpose, which works as following:\n",
    "\n",
    "The encryption can be represented using modular arithmetic by first transforming the letters into numbers, according to the scheme, A → 0, B → 1, ..., Z → 25. Encryption of a letter x by a shift n can be described mathematically as, \n",
    "\n",
    "**En(x) = (x+n) mod 26**\n",
    "\n",
    "Write a subroutine “encrypt(msg, n)” that takes ‘msg’ and ‘n’ as parameters and returns encrypted text using Caesar cipher.\n",
    "\n",
    "**EXAMPLE:** <br>\n",
    "**Text:** ATTACKATONCE <br>\n",
    "**Shift:** 4 <br>\n",
    "**Cipher:** EXXEGOEXSRGI"
   ]
  },
  {
   "cell_type": "code",
   "execution_count": 7,
   "metadata": {},
   "outputs": [
    {
     "name": "stdout",
     "output_type": "stream",
     "text": [
      "90\n"
     ]
    }
   ],
   "source": [
    "shift = lambda a,n : (a+n)%26\n",
    "\n",
    "text = input('Enter the text to be encripted: ')\n",
    "n = int(input('Enter the number by which the letters should shift: '))\n",
    "\n",
    "newString = ''\n",
    "for ch in text:\n",
    "    newString += chr(((ord(ch)-65+n)%26)+65)\n",
    "\n",
    "print(newString)"
   ]
  },
  {
   "cell_type": "markdown",
   "metadata": {},
   "source": [
    "## Q2\n",
    "Develop an application called “Feedback analyzer”. The application has sets of words for the feedback –‘Positive’, ‘Negative’.\n",
    "\n",
    "**Positive –** (good, excellent, super, great, fantastic) <br>\n",
    "**Negative –** (bad, worse, worst, pathetic, poor)\n",
    "\n",
    "Your task is to store the bag of words in a tuple. Given a feedback sentence, find out if it is a positive or negative feedback.\n",
    "\n",
    "**EXAMPLE:**\n",
    "\n",
    "**Input:** The watch is good <br>\n",
    "**Output:** Positive\n",
    "\n",
    "**Input:** The watch is pathetic <br>\n",
    "**Output:** Negative"
   ]
  },
  {
   "cell_type": "code",
   "execution_count": 9,
   "metadata": {},
   "outputs": [
    {
     "name": "stdout",
     "output_type": "stream",
     "text": [
      "Enter the feedback sentence: the review is bad\n",
      "Negative\n"
     ]
    }
   ],
   "source": [
    "positive = ('good', 'excellent', 'super', 'great', 'fantastic')\n",
    "negative = ('bad', 'worse', 'worst', 'pathetic', 'poor')\n",
    "\n",
    "feedback = input('Enter the feedback sentence: ')\n",
    "feedbackList = feedback.split(' ')\n",
    "\n",
    "for word in feedbackList:\n",
    "    if word in positive:\n",
    "        print('Positive')\n",
    "        break\n",
    "    elif word in negative:\n",
    "        print('Negative')\n",
    "        break"
   ]
  },
  {
   "cell_type": "markdown",
   "metadata": {},
   "source": [
    "## Q3\n",
    "Image encryption plays a major role in the transmission of multimedia data. The greyscale value of a pixel is in the ranges of [0,255]. The following method is used for encrypting a pixel value for a given key, which is in the range [0,255] too. \n",
    "\n",
    "**temp_pixel = pixel (xor) ((key+5)%256)**\n",
    " \n",
    "Write a lambda function in python to perform the above task. For increasing the strength of the cipher the encryption must be repeated 5 times"
   ]
  },
  {
   "cell_type": "code",
   "execution_count": 10,
   "metadata": {},
   "outputs": [
    {
     "name": "stdout",
     "output_type": "stream",
     "text": [
      "Enter the value of pixel i.e. should range between 0 to 255: 120\n",
      "Enter key value that also ranges between 0 to 255: 130\n",
      "The final encripted value of the pixel is: 255\n"
     ]
    }
   ],
   "source": [
    "cipher = lambda pixel,key : pixel ^ ((key+5)%256)\n",
    "\n",
    "pixelVal = int(input('Enter the value of pixel i.e. should range between 0 to 255: '))\n",
    "keyVal = int(input('Enter key value that also ranges between 0 to 255: '))\n",
    "\n",
    "for i in range(5):\n",
    "    pixelVal = cipher(pixelVal, keyVal)\n",
    "    \n",
    "print('The final encripted value of the pixel is: ' + str(pixelVal))"
   ]
  },
  {
   "cell_type": "markdown",
   "metadata": {},
   "source": [
    "## Q4\n",
    "Write 2 lambda functions in python to calculate the volume and area of a sphere using the formulas.\n",
    "\n",
    " **V = 4πr<sup>3</sup>/3** <br>\n",
    " **A = 4πr<sup>2</sup>**"
   ]
  },
  {
   "cell_type": "code",
   "execution_count": 2,
   "metadata": {},
   "outputs": [
    {
     "name": "stdout",
     "output_type": "stream",
     "text": [
      "Volume of a sphere with radius 10 is:  4186.666666666667\n",
      "Surface area of a sphere with radius 10 is:  1256.0\n"
     ]
    }
   ],
   "source": [
    "volume = lambda r : (4*3.14*(r**3))/3\n",
    "area = lambda r : 4*3.14*(r**2)\n",
    "\n",
    "print(\"Volume of a sphere with radius 10 is: \", volume(10))\n",
    "print(\"Surface area of a sphere with radius 10 is: \", area(10))"
   ]
  },
  {
   "cell_type": "markdown",
   "metadata": {},
   "source": [
    "## Q5\n",
    "An application has to be created for storing the register number and Xth board exam marks of the students. Your task is to create a dictionary in python to store the pair {register_no: marks} for 5 students. For a given, register number, display the corresponding marks. "
   ]
  },
  {
   "cell_type": "code",
   "execution_count": 4,
   "metadata": {},
   "outputs": [
    {
     "name": "stdout",
     "output_type": "stream",
     "text": [
      "Registration number is: 258\n",
      "Marks scored is: 87\n",
      "Registration number is: 259\n",
      "Marks scored is: 98\n",
      "Registration number is: 266\n",
      "Marks scored is: 90\n",
      "Registration number is: 256\n",
      "Marks scored is: 86\n",
      "Registration number is: 232\n",
      "Marks scored is: 100\n",
      "Regestration number whose marks we need to display is: 259\n",
      "The marks of registration number 259 is 98.0\n"
     ]
    }
   ],
   "source": [
    "studentsMarks = {}\n",
    "\n",
    "for i in range(5):\n",
    "    regNo = int(input('Registration number is: '))\n",
    "    marks = float(input('Marks scored is: '))\n",
    "    studentsMarks[regNo] = marks\n",
    "    \n",
    "givenRegNo = int(input('Regestration number whose marks we need to display is: '))\n",
    "\n",
    "if givenRegNo in studentsMarks:\n",
    "    print('The marks of registration number ' + str(givenRegNo) + ' is ' + str(studentsMarks[givenRegNo]))\n",
    "else:\n",
    "    print('The registration number present does not exist')"
   ]
  }
 ],
 "metadata": {
  "kernelspec": {
   "display_name": "Python 3",
   "language": "python",
   "name": "python3"
  },
  "language_info": {
   "codemirror_mode": {
    "name": "ipython",
    "version": 3
   },
   "file_extension": ".py",
   "mimetype": "text/x-python",
   "name": "python",
   "nbconvert_exporter": "python",
   "pygments_lexer": "ipython3",
   "version": "3.7.3"
  }
 },
 "nbformat": 4,
 "nbformat_minor": 2
}
