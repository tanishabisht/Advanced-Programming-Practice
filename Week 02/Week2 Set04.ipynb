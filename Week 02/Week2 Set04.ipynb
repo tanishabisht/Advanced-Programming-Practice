{
 "cells": [
  {
   "cell_type": "markdown",
   "metadata": {},
   "source": [
    "# Week2 Set4\n",
    "\n",
    "## Q1\n",
    "Write a Python function to Find Factorial of Number using Recursion. The function accepts the number as an argument"
   ]
  },
  {
   "cell_type": "code",
   "execution_count": 6,
   "metadata": {},
   "outputs": [
    {
     "name": "stdout",
     "output_type": "stream",
     "text": [
      "120\n"
     ]
    }
   ],
   "source": [
    "def factorial(n):\n",
    "    if n==1:\n",
    "        return n\n",
    "    else:\n",
    "        return factorial(n-1)*n\n",
    "    \n",
    "print(factorial(5))"
   ]
  },
  {
   "cell_type": "markdown",
   "metadata": {},
   "source": [
    "## Q2\n",
    "Write a Python function to Display Fibonacci Sequence using Recursion"
   ]
  },
  {
   "cell_type": "code",
   "execution_count": 18,
   "metadata": {},
   "outputs": [
    {
     "name": "stdout",
     "output_type": "stream",
     "text": [
      "Enter a number: 6\n",
      "0 1 1 2 3 5 "
     ]
    }
   ],
   "source": [
    "def fibonacci(n):\n",
    "    if n<=1:\n",
    "        return n\n",
    "    return fibonacci(n-2) + fibonacci(n-1)\n",
    "\n",
    "n = int(input('Enter a number: '))\n",
    "for i in range(n):\n",
    "    print(fibonacci(i), end=' ')"
   ]
  },
  {
   "cell_type": "markdown",
   "metadata": {},
   "source": [
    "## Q3\n",
    "Write a Python function to check whether a number is in a given range."
   ]
  },
  {
   "cell_type": "code",
   "execution_count": 20,
   "metadata": {},
   "outputs": [
    {
     "name": "stdout",
     "output_type": "stream",
     "text": [
      "Enter the max number of the range: 876\n",
      "Enter the min number of the range: 269\n",
      "Enter a number in the given range568\n",
      "The number entered is in the given range\n"
     ]
    }
   ],
   "source": [
    "uppr = int(input('Enter the max number of the range: '))\n",
    "lowr = int(input('Enter the min number of the range: '))\n",
    "num = int(input('Enter a number in the given range'))\n",
    "\n",
    "if num>=lowr and num<=uppr:\n",
    "    print('The number entered is in the given range')\n",
    "else:\n",
    "    print('The entered number is not in the given range')"
   ]
  },
  {
   "cell_type": "markdown",
   "metadata": {},
   "source": [
    "## Q4\n",
    "Write a Python function that prints out the first n rows of Pascal's triangle."
   ]
  },
  {
   "cell_type": "code",
   "execution_count": 23,
   "metadata": {},
   "outputs": [
    {
     "name": "stdout",
     "output_type": "stream",
     "text": [
      "1 \n",
      "1 1 \n",
      "1 2 1 \n",
      "1 3 3 1 \n",
      "1 4 6 4 1 \n",
      "1 5 0 1 6 1 \n",
      "1 6 5 1 7 7 1 \n",
      "1 7 1 7 8 4 9 1 \n",
      "1 8 8 8 5 3 4 1 2 \n",
      "1 9 6 7 4 9 7 5 3 2 \n"
     ]
    }
   ],
   "source": [
    "def pascals(num):\n",
    "    for i in range(num):        \n",
    "        n = 11**i\n",
    "        while n!=0:\n",
    "            r = n%10\n",
    "            print(r, end=' ')\n",
    "            n = int(n/10)\n",
    "        print()\n",
    "            \n",
    "pascals(10)"
   ]
  },
  {
   "cell_type": "markdown",
   "metadata": {},
   "source": [
    "## Q5\n",
    "Write a Python function that takes a list and returns a new list with unique elements of the first list\n",
    "\n",
    "**Sample List:** [1,2,3,3,3,3,4,5] <br>\n",
    "**Unique List:** [1, 2, 3, 4, 5]"
   ]
  },
  {
   "cell_type": "code",
   "execution_count": 25,
   "metadata": {},
   "outputs": [
    {
     "name": "stdout",
     "output_type": "stream",
     "text": [
      "Enter a list: [1,2,3,3,3,3,4,5]\n",
      "[1, 2, 3, 4, 5]\n"
     ]
    }
   ],
   "source": [
    "import ast\n",
    "\n",
    "list1 = input('Enter a list: ')\n",
    "list1 = ast.literal_eval(list1)\n",
    "uniqueList1 = list(set(list1))\n",
    "print(uniqueList1)"
   ]
  }
 ],
 "metadata": {
  "kernelspec": {
   "display_name": "Python 3",
   "language": "python",
   "name": "python3"
  },
  "language_info": {
   "codemirror_mode": {
    "name": "ipython",
    "version": 3
   },
   "file_extension": ".py",
   "mimetype": "text/x-python",
   "name": "python",
   "nbconvert_exporter": "python",
   "pygments_lexer": "ipython3",
   "version": "3.7.3"
  }
 },
 "nbformat": 4,
 "nbformat_minor": 2
}
