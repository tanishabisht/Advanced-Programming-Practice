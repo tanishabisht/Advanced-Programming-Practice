{
 "cells": [
  {
   "cell_type": "markdown",
   "metadata": {},
   "source": [
    "# Week2 Set6\n",
    "\n",
    "## Q1\n",
    "Write a python code for creating a password for E-Aadhar card. The details used are the first 4 letters of your name, date and month of your birth. The task is to generate a password with the lambda function and display it.\n",
    "\n",
    "**Input:** <br>\n",
    "Name: Rajeev <br>\n",
    "Date of Birth: 04-12-1990\n",
    "\n",
    "**Output:** raje0412"
   ]
  },
  {
   "cell_type": "code",
   "execution_count": 2,
   "metadata": {},
   "outputs": [
    {
     "name": "stdout",
     "output_type": "stream",
     "text": [
      "Name: Tanny\n",
      "Date of Birth: 24-08-2001\n",
      "Tann2408\n"
     ]
    }
   ],
   "source": [
    "name = input('Name: ')\n",
    "dob = input('Date of Birth: ').split('-')\n",
    "password = lambda name,dob : name[:4] + dob[0] + dob[1]\n",
    "\n",
    "pas = password(name, dob)\n",
    "print(pas)"
   ]
  },
  {
   "cell_type": "markdown",
   "metadata": {},
   "source": [
    "## Q2\n",
    "Given an array of names of candidates in an election. A candidate name in the array represents a vote cast to the candidate. Print the name of candidates received Max vote. If there is tie, print a lexicographically smaller name.\n",
    "\n",
    "**Input:** \n",
    "votes[] = {\"John\", \"Johnny\", \"Jackie\", \"Johnny\", \"John\", \"Jackie\", \"Jamie\", \"Jamie\", \"John\", \"Johnny\", \"Jamie\", \"Johnny\", \"john\"}\n",
    "\n",
    "**Output:** John\n",
    "\n",
    "**Explanation:** We have four Candidates with name as 'John', ‘Johnny’, 'Jamie', 'Jackie'. The candidates John and Johnny get maximum votes. Since John is alphabetically smaller, we print it."
   ]
  },
  {
   "cell_type": "code",
   "execution_count": 18,
   "metadata": {},
   "outputs": [
    {
     "name": "stdout",
     "output_type": "stream",
     "text": [
      "{'Jackie': 2, 'Jamie': 3, 'John': 4, 'Johnny': 4}\n",
      "John\n"
     ]
    }
   ],
   "source": [
    "votes = ['John','Johnny','Jackie','Johnny','John','Jackie','Jamie','Jamie','John','Johnny','Jamie','Johnny','John']\n",
    "noVotes = {}\n",
    "\n",
    "for name in votes:\n",
    "    if name not in noVotes.keys():\n",
    "        noVotes[name] = 1\n",
    "    else:\n",
    "        noVotes[name] += 1\n",
    "\n",
    "noVotes = {name:no for (name,no) in sorted(noVotes.items())} \n",
    "\n",
    "maxName = max(noVotes, key= lambda x: noVotes[x])\n",
    "print(maxName)"
   ]
  },
  {
   "cell_type": "markdown",
   "metadata": {},
   "source": [
    "## Q3\n",
    "A web application is developed for a bank. The first page gets the user id and password. Write a python application to check the credentials of the user. The task is to enter 5 pairs of user id and password in a dictionary and perform the following.\n",
    "\n",
    "**Credentials:** {Ramesh: 12345, Seetha: abcde, Abhishek: pqrst, Ramya: 98765, Priya: xyzab}\n",
    "\n",
    "**Input:** <br>\n",
    "User id: Ramesh <br>\n",
    "Password: 12345 <br>\n",
    "**Output:** Dear Ramesh, you are welcome to our bank\n",
    "\n",
    "**Input:** <br>\n",
    "User id: Abhsk <br>\n",
    "Password: 1245 <br>\n",
    "**Output:** ‘Your details does not match with our records’"
   ]
  },
  {
   "cell_type": "code",
   "execution_count": 21,
   "metadata": {},
   "outputs": [
    {
     "name": "stdout",
     "output_type": "stream",
     "text": [
      "User id: Seeta\n",
      "Password: abcde\n",
      "Dear Seeta, you are welcome to our bank\n"
     ]
    }
   ],
   "source": [
    "creds = {\"Ramesh\":\"12345\", \"Seeta\":\"abcde\", \"Abhishek\":\"pqrst\", \"Ramya\":\"98765\", \"Priya\":\"xyzab\"}\n",
    "username = input('User id: ')\n",
    "password = input('Password: ')\n",
    "\n",
    "if username not in creds:\n",
    "    print('Your details does not match with our records')\n",
    "else:\n",
    "    print('Dear ' + username + ', you are welcome to our bank')"
   ]
  },
  {
   "cell_type": "markdown",
   "metadata": {},
   "source": [
    "## Q4\n",
    "Develop an application called Quiz. Store 7 pairs of questions and answers in a dictionary. The task is to ask 5 questions. The user enters the answers. For every correct answer 1 mark is awarded. Finally, display the total score of the user"
   ]
  },
  {
   "cell_type": "code",
   "execution_count": 1,
   "metadata": {},
   "outputs": [
    {
     "name": "stdout",
     "output_type": "stream",
     "text": [
      "2+2: 4\n",
      "The total score of the user is:1\n",
      "Sky is __ in color: blue\n",
      "The total score of the user is:2\n",
      "Sun rises in the __: west\n",
      "12/4: 3\n",
      "The total score of the user is:3\n",
      "Hakuna: Matata\n",
      "The total score of the user is:4\n"
     ]
    }
   ],
   "source": [
    "queAns = {\n",
    "    '2+2' : '4',\n",
    "    'Sky is __ in color' : 'blue',\n",
    "    'Sun rises in the __' : 'east',\n",
    "    '12/4' : '3',\n",
    "    'Hakuna' : 'Matata',\n",
    "    'Spelling above is' : 'correct',\n",
    "    '23*1' : '23'\n",
    "}\n",
    "\n",
    "marks = 0\n",
    "for i in range(5):\n",
    "    answer = input(list(queAns.keys())[i] + ': ')\n",
    "    if answer == list(queAns.values())[i]:\n",
    "        marks += 1\n",
    "    else:\n",
    "        continue\n",
    "    print('The total score of the user is:' + str(marks))"
   ]
  },
  {
   "cell_type": "markdown",
   "metadata": {},
   "source": [
    "## Q5\n",
    "\n",
    "Captchas are tools you can use to differentiate between real users and automated users, such as bots.Create a tuple of 5 captcha in python. Your task is to randomly display a captcha from the tuple. Then enter the captcha. If the same captcha was entered, then display “You are not a robot”, else display “You are a robot”\n",
    "\n",
    " Enter 5 captcha: <br>\n",
    " Rh7yA, ju97g, gP0h3, mn0Gl, Ril98 <br>\n",
    " Enter the following captcha to check if you are a robot: ju97g <br>\n",
    " Ju97g <br>\n",
    " You are not a robot \n",
    " \n",
    " Enter 5 captcha: <br>\n",
    " Rh7yA, ju97g, gP0h3, mn0Gl, Ril98 <br>\n",
    " Enter the following captcha to check if you are a robot: gP0h3 <br>\n",
    " Xh564 <br>\n",
    " You are a robot"
   ]
  },
  {
   "cell_type": "code",
   "execution_count": 3,
   "metadata": {},
   "outputs": [
    {
     "name": "stdout",
     "output_type": "stream",
     "text": [
      "Enter one the 5 captchas\n",
      "['Rh7yA', 'ju97g', 'gP0h3', 'mn0Gl', 'Ril98']\n",
      "Enter the following captcha to check if you are a robot: ju97g\n",
      "You are not a robot\n"
     ]
    }
   ],
   "source": [
    "captcha = [\"Rh7yA\", \"ju97g\", \"gP0h3\", \"mn0Gl\", \"Ril98\"]\n",
    "\n",
    "print('Enter one the 5 captchas')\n",
    "print(captcha)\n",
    "\n",
    "\n",
    "x = input(\"Enter the following captcha to check if you are a robot: \")\n",
    "if x in captcha:\n",
    "    print('You are not a robot')\n",
    "else:\n",
    "    print('You are a robot')"
   ]
  },
  {
   "cell_type": "code",
   "execution_count": null,
   "metadata": {},
   "outputs": [],
   "source": []
  }
 ],
 "metadata": {
  "kernelspec": {
   "display_name": "Python 3",
   "language": "python",
   "name": "python3"
  },
  "language_info": {
   "codemirror_mode": {
    "name": "ipython",
    "version": 3
   },
   "file_extension": ".py",
   "mimetype": "text/x-python",
   "name": "python",
   "nbconvert_exporter": "python",
   "pygments_lexer": "ipython3",
   "version": "3.7.3"
  }
 },
 "nbformat": 4,
 "nbformat_minor": 2
}
