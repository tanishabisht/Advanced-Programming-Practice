{
 "cells": [
  {
   "cell_type": "markdown",
   "metadata": {},
   "source": [
    "# Week2 Set14\n",
    "\n",
    "## Q1\n",
    "Develop a checker program using functions in python, which checks for the occurrence of all the characters from the alphabets that exist atleast once, in the given sentence "
   ]
  },
  {
   "cell_type": "code",
   "execution_count": 1,
   "metadata": {},
   "outputs": [
    {
     "name": "stdout",
     "output_type": "stream",
     "text": [
      "Enter a string: the quick brown fox jumps over the lazy dog\n",
      "The string is a pangram\n"
     ]
    }
   ],
   "source": [
    "def isPangram(string):\n",
    "    alphabets = 'abcdefghijklmnopqrstuvwxyz'\n",
    "    for char in alphabets:\n",
    "        if char not in string:\n",
    "            return 'The string is not a pangram'\n",
    "        return 'The string is a pangram'\n",
    "    \n",
    "string = input('Enter a string: ')\n",
    "print(isPangram(string))"
   ]
  },
  {
   "cell_type": "markdown",
   "metadata": {},
   "source": [
    "## Q2\n",
    "Develop a Numeric adder-classifier using lambda functions in python that could classify the non-negative values and negative values of the given 10 elements that are presented in the tuple. The adder implements the addition that could be done separately for the negative and non-negative elements. "
   ]
  },
  {
   "cell_type": "code",
   "execution_count": 8,
   "metadata": {},
   "outputs": [
    {
     "name": "stdout",
     "output_type": "stream",
     "text": [
      "The sum of all positive elements of the tuple are:  26\n",
      "The sum of all negative elements of the tuple are:  -20\n"
     ]
    }
   ],
   "source": [
    "nagative = lambda x : x<0\n",
    "tuple1 = (8, 2, 5, -1, -8, 9, 2, -8, -3)\n",
    "\n",
    "nagativeList = []\n",
    "positveList = []\n",
    "\n",
    "for i in tuple1:\n",
    "    if nagative(i):\n",
    "        nagativeList += [i]\n",
    "    else:\n",
    "        positveList += [i]\n",
    "        \n",
    "print('The sum of all positive elements of the tuple are: ', sum(positveList))\n",
    "print('The sum of all negative elements of the tuple are: ', sum(nagativeList))"
   ]
  },
  {
   "cell_type": "markdown",
   "metadata": {},
   "source": [
    "## Q3\n",
    "Develop a redundancy remover using functions in python, where the redundancy remover takes the elements of the list and returns the elements of the list with the redundant element removed. "
   ]
  },
  {
   "cell_type": "code",
   "execution_count": 2,
   "metadata": {},
   "outputs": [
    {
     "name": "stdout",
     "output_type": "stream",
     "text": [
      "Enter a list of elements: [1, 4, 2, 4, 7, 8, 6, 7, 8, 8, 4, 6, 7]\n",
      "[1, 2, 4, 6, 7, 8]\n"
     ]
    }
   ],
   "source": [
    "import ast\n",
    "\n",
    "def redundancyRemover(list1):\n",
    "    return list(set(list1))\n",
    "\n",
    "list1 = input('Enter a list of elements: ')\n",
    "list1 = ast.literal_eval(list1)\n",
    "print(redundancyRemover(list1))"
   ]
  },
  {
   "cell_type": "markdown",
   "metadata": {},
   "source": [
    "## Q4\n",
    "Develop an arithmetic encoder using functions in python which can generate element-wise average of the given tuple\n",
    "\n",
    "**Tuples:** <br>\n",
    "(1, 2, 3, 4)<br>\n",
    "(3, 5, 2, 1)<br>\n",
    "(2, 2, 3, 1)"
   ]
  },
  {
   "cell_type": "code",
   "execution_count": 7,
   "metadata": {},
   "outputs": [
    {
     "name": "stdout",
     "output_type": "stream",
     "text": [
      "(2.0, 3.0, 2.67, 2.0)\n"
     ]
    }
   ],
   "source": [
    "import operator\n",
    "\n",
    "tuple1 = (1,2,3,4)\n",
    "tuple2 = (3,5,2,1)\n",
    "tuple3 = (2,2,3,1)\n",
    "\n",
    "newtuple = tuple(map(lambda x,y,z: round((x+y+z)/3,2), tuple1, tuple2, tuple3))\n",
    "print(newtuple)"
   ]
  },
  {
   "cell_type": "markdown",
   "metadata": {},
   "source": [
    "## Q5\n",
    "Develop a NLP application using functions in python, where the word analyzer needs to count the characters of the word that are presented in the given gazetteers.\n",
    "\n",
    "**Gazetteers :**\n",
    "{1:\"Apple\", 2:\"Oracle\", 3:\"Advanced Programming Practice\", 4:\"Software Project Management\", 5:\"Fundamentals of mathematics\"}"
   ]
  },
  {
   "cell_type": "code",
   "execution_count": 11,
   "metadata": {},
   "outputs": [
    {
     "name": "stdout",
     "output_type": "stream",
     "text": [
      "The number of characters in the word \"Apple\" is: 5\n",
      "The number of characters in the word \"Oracle\" is: 6\n",
      "The number of characters in the word \"Advanced Programming Practice\" is: 27\n",
      "The number of characters in the word \"Software Project Management\" is: 25\n",
      "The number of characters in the word \"Fundamentals of mathematics\" is: 25\n"
     ]
    }
   ],
   "source": [
    "def wordAnalyzer(dic):\n",
    "    for val in dic.values():\n",
    "        length = len(val.replace(\" \", \"\"))\n",
    "        print('The number of characters in the word \"' + val + '\" is: ' + str(length))\n",
    "        \n",
    "Gazetteers = {1:\"Apple\", 2:\"Oracle\", 3:\"Advanced Programming Practice\", 4:\"Software Project Management\", 5:\"Fundamentals of mathematics\"}\n",
    "wordAnalyzer(Gazetteers)"
   ]
  }
 ],
 "metadata": {
  "kernelspec": {
   "display_name": "Python 3",
   "language": "python",
   "name": "python3"
  },
  "language_info": {
   "codemirror_mode": {
    "name": "ipython",
    "version": 3
   },
   "file_extension": ".py",
   "mimetype": "text/x-python",
   "name": "python",
   "nbconvert_exporter": "python",
   "pygments_lexer": "ipython3",
   "version": "3.7.3"
  }
 },
 "nbformat": 4,
 "nbformat_minor": 2
}
