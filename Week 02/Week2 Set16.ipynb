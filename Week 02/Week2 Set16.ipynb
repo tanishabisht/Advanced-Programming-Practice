{
 "cells": [
  {
   "cell_type": "markdown",
   "metadata": {},
   "source": [
    "# Week2 Set16\n",
    "\n",
    "## Q1\n",
    " Write a Python Program to Convert octal to binary, binary to decimal"
   ]
  },
  {
   "cell_type": "code",
   "execution_count": 2,
   "metadata": {},
   "outputs": [
    {
     "name": "stdout",
     "output_type": "stream",
     "text": [
      "Enter an octal number: 7\n",
      "The correspondin binary equivalent is: 0b111\n",
      "Enter a binary number: 111\n",
      "The correspondin octal equivalent is: 0o7\n"
     ]
    }
   ],
   "source": [
    "num = int(input('Enter an octal number: '), 8)\n",
    "print('The correspondin binary equivalent is: ' + bin(num))\n",
    "\n",
    "num = int(input('Enter a binary number: '), 2)\n",
    "print('The correspondin octal equivalent is: ' + oct(num))"
   ]
  },
  {
   "cell_type": "markdown",
   "metadata": {},
   "source": [
    "## Q2\n",
    "Write a Python function that prints out the first n rows of Pascal's triangle."
   ]
  },
  {
   "cell_type": "code",
   "execution_count": 15,
   "metadata": {},
   "outputs": [
    {
     "name": "stdout",
     "output_type": "stream",
     "text": [
      "1 \n",
      "1 1 \n",
      "1 2 1 \n",
      "1 3 3 1 \n",
      "1 4 6 4 1 \n",
      "1 5 0 1 6 1 \n",
      "1 6 5 1 7 7 1 \n",
      "1 7 1 7 8 4 9 1 \n",
      "1 8 8 8 5 3 4 1 2 \n",
      "1 9 6 7 4 9 7 5 3 2 \n"
     ]
    }
   ],
   "source": [
    "def pascals(num):\n",
    "    for i in range(num):        \n",
    "        n = 11**i\n",
    "        while n!=0:\n",
    "            r = n%10\n",
    "            print(r, end=' ')\n",
    "            n = int(n/10)\n",
    "        print()\n",
    "            \n",
    "pascals(10)"
   ]
  },
  {
   "cell_type": "markdown",
   "metadata": {},
   "source": [
    "## Q3\n",
    "Write a Python program to execute a string containing Python code."
   ]
  },
  {
   "cell_type": "code",
   "execution_count": 16,
   "metadata": {},
   "outputs": [
    {
     "name": "stdout",
     "output_type": "stream",
     "text": [
      "hello world\n"
     ]
    }
   ],
   "source": [
    "mycode = 'print(\"hello world\")'\n",
    "exec(mycode)"
   ]
  },
  {
   "cell_type": "markdown",
   "metadata": {},
   "source": [
    "## Q4\n",
    "Write a Python program to create a dictionary of keys x, y, and z where each key has as value a list from 11-20, 21-30, and 31-40 respectively. Access the fifth value of each key from the dictionary.\n",
    "\n",
    "**INPUT :**\n",
    "{'x': [11, 12, 13, 14, 15, 16, 17, 18, 19], 'y': [21, 22, 23, 24, 25, 26, 27, 28, 29], 'z': [31, 32, 33, 34, 35, 36, 37, 38, 39]}\n",
    "\n",
    "**OUTPUT :** <br>\n",
    "15<br>\n",
    "25<br>\n",
    "35"
   ]
  },
  {
   "cell_type": "code",
   "execution_count": 2,
   "metadata": {},
   "outputs": [
    {
     "name": "stdout",
     "output_type": "stream",
     "text": [
      "Enter a dictionary: {'x': [11, 12, 13, 14, 15, 16, 17, 18, 19], 'y': [21, 22, 23, 24, 25, 26, 27, 28, 29], 'z': [31, 32, 33, 34, 35, 36, 37, 38, 39]}\n",
      "16\n",
      "26\n",
      "36\n"
     ]
    }
   ],
   "source": [
    "import ast\n",
    "\n",
    "dic = input('Enter a dictionary: ')\n",
    "dic = ast.literal_eval(dic)\n",
    "\n",
    "print(dic['x'][5])\n",
    "print(dic['y'][5])\n",
    "print(dic['z'][5])"
   ]
  },
  {
   "cell_type": "markdown",
   "metadata": {},
   "source": [
    "## Q5\n",
    "Write a Python program to create a dictionary from two lists without losing duplicate\n",
    "values."
   ]
  },
  {
   "cell_type": "code",
   "execution_count": 5,
   "metadata": {},
   "outputs": [
    {
     "name": "stdout",
     "output_type": "stream",
     "text": [
      "The pair are: \n",
      "1 29\n"
     ]
    }
   ],
   "source": [
    "class sumTarget:\n",
    "    def __init__(self, arr, target):\n",
    "        self.arr = arr\n",
    "        self.target = target\n",
    "        \n",
    "    def pair(self):\n",
    "        for i in self.arr:\n",
    "            diff = self.target - i\n",
    "            if diff in self.arr:\n",
    "                return (i, diff)\n",
    "\n",
    "arr = [12, 23, 2, 1, 21, 16, 29, 82]\n",
    "sumTargetObj = sumTarget(arr, 30)\n",
    "(num, numpair) = sumTargetObj.pair()\n",
    "\n",
    "print('The pair are: ')\n",
    "print(num, numpair)"
   ]
  }
 ],
 "metadata": {
  "kernelspec": {
   "display_name": "Python 3",
   "language": "python",
   "name": "python3"
  },
  "language_info": {
   "codemirror_mode": {
    "name": "ipython",
    "version": 3
   },
   "file_extension": ".py",
   "mimetype": "text/x-python",
   "name": "python",
   "nbconvert_exporter": "python",
   "pygments_lexer": "ipython3",
   "version": "3.7.3"
  }
 },
 "nbformat": 4,
 "nbformat_minor": 2
}
