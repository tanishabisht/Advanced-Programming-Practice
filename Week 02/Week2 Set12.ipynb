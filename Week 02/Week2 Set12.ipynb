{
 "cells": [
  {
   "cell_type": "markdown",
   "metadata": {},
   "source": [
    "# Week 2 Set 12\n",
    "<p style=\"text-align: right;\">Sudhanshu Singh</p>\n",
    "<p style=\"text-align: right;\">RA1911003010232</p>\n",
    "\n",
    "\n",
    "## Q1\n",
    "\n",
    "A Discrete Mathematics professor has a class of students. Frustrated with their lack of discipline, he decides to cancel class if fewer than some number of students are present when class starts. Arrival times go from on time (arrivalTime<=0) to arrived late (arrivalTime>0).\n",
    "\n",
    "Given the arrival time of each student and a threshhold number of attendees, determine if the class is canceled.\n",
    "\n",
    "**Sample Input** <br>\n",
    "2 <br>\n",
    "4 3 <br>\n",
    "-1 -3 4 2 <br>\n",
    "4 2 <br>\n",
    "0 -1 2 1 <br>\n",
    "\n",
    "**Sample Output** <br>\n",
    "YES <br>\n",
    "NO"
   ]
  },
  {
   "cell_type": "code",
   "execution_count": 11,
   "metadata": {},
   "outputs": [
    {
     "name": "stdout",
     "output_type": "stream",
     "text": [
      "Enter the number of test cases: 2\n",
      "\n",
      "\n",
      "Enter the number of students: 4\n",
      "Enter the min number of students required for the teacher to attend the class: 3\n",
      "Enter the entry time of 4students.\n",
      "-1\n",
      "-3\n",
      "4\n",
      "2\n",
      "YES\n",
      "\n",
      "\n",
      "Enter the number of students: 4\n",
      "Enter the min number of students required for the teacher to attend the class: 2\n",
      "Enter the entry time of 4students.\n",
      "0\n",
      "-1\n",
      "2\n",
      "1\n",
      "NO\n"
     ]
    }
   ],
   "source": [
    "positive = lambda a : a>0\n",
    "t = int(input('Enter the number of test cases: '))\n",
    "\n",
    "while(t != 0):\n",
    "    t -= 1\n",
    "    n = int(input('\\n\\nEnter the number of students: '))\n",
    "    minNum = int(input('Enter the min number of students required for the teacher to attend the class: '))\n",
    "    \n",
    "    studentTiming = []\n",
    "    print('Enter the entry time of ' + str(n) + 'students.')\n",
    "    for i in range(n):\n",
    "        studentTiming.append(int(input()))\n",
    "    \n",
    "    noAttending = len(list(filter(positive, studentTiming)))\n",
    "    \n",
    "    if noAttending >= minNum:\n",
    "        print('NO')\n",
    "    else:\n",
    "        print('YES')\n",
    "    "
   ]
  },
  {
   "cell_type": "markdown",
   "metadata": {},
   "source": [
    "## Q2\n",
    "Anna and Brian are sharing a meal at a restaurant and they agree to split the bill equally. Brian wants to order something that Anna is allergic to though, and they agree that Anna won't pay for that item. Brian gets the check and calculates Anna's portion. You must determine if his calculation is correct.\n",
    "\n",
    "For example, assume the bill has the following prices:bill =[2,4,6]. Anna declines to eat item k= bill[2] which costs 6. If Brian calculates the bill correctly, Anna will pay (2+4)/2 =3 . If he includes the cost of bill[2], he will calculate (2+4+6)/2=6 . In the second case, he should \n",
    "refund 3 to Anna."
   ]
  },
  {
   "cell_type": "code",
   "execution_count": 3,
   "metadata": {},
   "outputs": [
    {
     "name": "stdout",
     "output_type": "stream",
     "text": [
      "Enter the size of the array: 4\n",
      "Enter the index of the cost of the food Anna is allergic to: 1\n",
      "3\n",
      "10\n",
      "2\n",
      "9\n",
      "Cost paid by Anna person: 12\n",
      "5\n"
     ]
    }
   ],
   "source": [
    "n = int(input('Enter the size of the array: '))\n",
    "ind = int(input('Enter the index of the cost of the food Anna is allergic to: '))\n",
    "\n",
    "\n",
    "cost = []\n",
    "costSum = 0\n",
    "for i in range(n):\n",
    "    cost.append(int(input()))\n",
    "    if i != ind:\n",
    "        costSum += cost[i]\n",
    "\n",
    "\n",
    "costExpected = int(costSum/2)\n",
    "costPaid = int(input('Cost paid by Anna person: '))\n",
    "if costExpected < costPaid:\n",
    "    print(costPaid-costExpected)\n",
    "else:\n",
    "    print('Bon Appetit')\n"
   ]
  },
  {
   "cell_type": "markdown",
   "metadata": {},
   "source": [
    "## Q3\n",
    "Below are the two lists convert it into the dictionary \n",
    "- **keys** = ['Ten', 'Twenty', 'Thirty'] \n",
    "- **values** = [10, 20, 30] \n",
    "- **Expected output** = {'Ten': 10, 'Twenty': 20, 'Thirty': 30}"
   ]
  },
  {
   "cell_type": "code",
   "execution_count": 4,
   "metadata": {},
   "outputs": [
    {
     "name": "stdout",
     "output_type": "stream",
     "text": [
      "{'Ten': 10, 'Twenty': 20, 'Thirty': 30}\n"
     ]
    }
   ],
   "source": [
    "keys = ['Ten', 'Twenty', 'Thirty']\n",
    "values = [10, 20, 30]\n",
    "\n",
    "dictionary = {}\n",
    "\n",
    "for i in range(len(keys)):\n",
    "    dictionary[keys[i]] = values[i]\n",
    "    \n",
    "print(dictionary)"
   ]
  },
  {
   "cell_type": "markdown",
   "metadata": {},
   "source": [
    "## Q4\n",
    "A list on a single line containing the cubes of the first N Fibonacci numbers using lambda function.\n",
    "\n",
    "**Sample Input** <br>\n",
    "5\n",
    "\n",
    "**Sample output** <br>\n",
    "[0, 1, 1, 8, 27]"
   ]
  },
  {
   "cell_type": "code",
   "execution_count": 2,
   "metadata": {},
   "outputs": [
    {
     "name": "stdout",
     "output_type": "stream",
     "text": [
      "Enter the number: 5\n",
      "[0, 1, 1, 8, 27]\n"
     ]
    }
   ],
   "source": [
    "n = int(input('Enter the number: '))\n",
    "\n",
    "odd = lambda a : a%2 != 0\n",
    "even = lambda a : a%2 == 0\n",
    "\n",
    "a0 = 0\n",
    "a = 1\n",
    "b = 1\n",
    "\n",
    "sum = 0\n",
    "fibonacciList = [a0, a, b]\n",
    "for i in range(n-3):\n",
    "    sum = a + b\n",
    "    fibonacciList.append(sum**3)\n",
    "    a = b\n",
    "    b = sum\n",
    "\n",
    "print(fibonacciList)"
   ]
  },
  {
   "cell_type": "markdown",
   "metadata": {},
   "source": [
    "## Q5\n",
    "Use map and lambda function to display Fahrenheit <br>\n",
    "C = [39.2,36.5,37.3,38,37.8]"
   ]
  },
  {
   "cell_type": "code",
   "execution_count": 11,
   "metadata": {},
   "outputs": [
    {
     "name": "stdout",
     "output_type": "stream",
     "text": [
      "The corresponding F list is: \n",
      "[4.0, 2.5, 2.944, 3.333, 3.222]\n"
     ]
    }
   ],
   "source": [
    "fToC = lambda f : round((f-32)*(5/9), 3)\n",
    "C = [39.2, 36.5, 37.3, 38.0, 37.8]\n",
    "\n",
    "print('The corresponding F list is: ')\n",
    "print(list(map(fToC, C)))"
   ]
  }
 ],
 "metadata": {
  "kernelspec": {
   "display_name": "Python 3",
   "language": "python",
   "name": "python3"
  },
  "language_info": {
   "codemirror_mode": {
    "name": "ipython",
    "version": 3
   },
   "file_extension": ".py",
   "mimetype": "text/x-python",
   "name": "python",
   "nbconvert_exporter": "python",
   "pygments_lexer": "ipython3",
   "version": "3.7.3"
  }
 },
 "nbformat": 4,
 "nbformat_minor": 2
}
