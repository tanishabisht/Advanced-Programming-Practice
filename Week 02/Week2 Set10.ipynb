{
 "cells": [
  {
   "cell_type": "markdown",
   "metadata": {},
   "source": [
    "## Week2 Set10\n",
    "\n",
    "## Q1\n",
    "Write a Python function that accepts a string and calculate the number of upper case letters and lower case letters.\n",
    "\n",
    "**Sample String:** 'The quick Brow Fox'\n",
    "\n",
    "**Expected Output:**<br>\n",
    "No. of Upper case characters : 3 <br>\n",
    "No. of Lower case Characters : 12"
   ]
  },
  {
   "cell_type": "code",
   "execution_count": 1,
   "metadata": {},
   "outputs": [
    {
     "name": "stdout",
     "output_type": "stream",
     "text": [
      "Enter a string: The quick Brow Fox\n",
      "No. of Upper case characters: 3\n",
      "No. of Lower case characters: 12\n"
     ]
    }
   ],
   "source": [
    "string = input('Enter a string: ')\n",
    "\n",
    "uppr = 0\n",
    "lowr = 0\n",
    "for char in string:\n",
    "    if char.islower():\n",
    "        lowr += 1\n",
    "    elif char.isupper():\n",
    "        uppr += 1\n",
    "    else:\n",
    "        continue\n",
    "        \n",
    "print('No. of Upper case characters: ' + str(uppr))\n",
    "print('No. of Lower case characters: ' + str(lowr))"
   ]
  },
  {
   "cell_type": "markdown",
   "metadata": {},
   "source": [
    "## Q2\n",
    "Write a Python program to create a lambda function that takes one argument, and that argument will be multiplied with an unknown given number. "
   ]
  },
  {
   "cell_type": "code",
   "execution_count": 3,
   "metadata": {},
   "outputs": [
    {
     "name": "stdout",
     "output_type": "stream",
     "text": [
      "150\n"
     ]
    }
   ],
   "source": [
    "def kmul(k):\n",
    "    return lambda x : x*k\n",
    "\n",
    "mul15 = kmul(15)\n",
    "print(mul15(10))"
   ]
  },
  {
   "cell_type": "markdown",
   "metadata": {},
   "source": [
    "## Q3\n",
    "Write a Python program to generate and print a list of first and last 5 elements where the values are square of numbers between 1 and 30 (both included)."
   ]
  },
  {
   "cell_type": "code",
   "execution_count": 8,
   "metadata": {},
   "outputs": [
    {
     "name": "stdout",
     "output_type": "stream",
     "text": [
      "[1, 4, 9, 16, 25, 676, 729, 784, 841, 900]\n"
     ]
    }
   ],
   "source": [
    "list = [x**2 for x in range(1,31)]\n",
    "newList = list[:5] + list[-5:]\n",
    "print(newList)"
   ]
  },
  {
   "cell_type": "markdown",
   "metadata": {},
   "source": [
    "## Q4\n",
    "Write a Python program to compute the sum of all the elements of each tuple stored inside a list of tuples. \n",
    "\n",
    "**Original list of tuples:** [(1, 2), (2, 3), (3, 4)] <br>\n",
    "Sum of all the elements of each tuple stored inside the said list of tuples: [3, 5, 7]\n",
    "\n",
    "**Original list of tuples:** [(1,2,6), (2,3,-6), (3,4), (2,2,2,2)] <br>\n",
    "Sum of all the elements of each tuple stored inside the said list of tuples: [9, -1, 7, 8]"
   ]
  },
  {
   "cell_type": "code",
   "execution_count": 29,
   "metadata": {},
   "outputs": [
    {
     "name": "stdout",
     "output_type": "stream",
     "text": [
      "Enter a list of tuples: [(1,2,6), (2,3,-6), (3,4), (2,2,2,2)]\n",
      "Sum of all the elements of each tuple stored inside the said list of tuples: [9, -1, 7, 8]\n"
     ]
    }
   ],
   "source": [
    "import ast\n",
    "\n",
    "tupleList = input('Enter a list of tuples: ')\n",
    "tupleList = ast.literal_eval(tupleList)\n",
    "\n",
    "sumList = []\n",
    "for tup in tupleList:\n",
    "    sumList.append(sum(tup))\n",
    "    \n",
    "print('Sum of all the elements of each tuple stored inside the said list of tuples: ' + str(sumList))"
   ]
  },
  {
   "cell_type": "markdown",
   "metadata": {},
   "source": [
    "## Q5\n",
    "Write a Python program to create and display all combinations of letters, selecting\n",
    "each letter from a different key in a dictionary.\n",
    "\n",
    "**Sample data:** {'1':['a','b'], '2':['c','d']} <br>\n",
    "**Expected Output:**<br>\n",
    "ac<br>\n",
    "ad<br>\n",
    "bc<br>\n",
    "bd"
   ]
  },
  {
   "cell_type": "code",
   "execution_count": 40,
   "metadata": {},
   "outputs": [
    {
     "name": "stdout",
     "output_type": "stream",
     "text": [
      "Enter a dictionary with list values: {'1':['a','b','c','d'], '2':['w','x','y','z']}\n",
      "aw\n",
      "ax\n",
      "ay\n",
      "az\n",
      "bw\n",
      "bx\n",
      "by\n",
      "bz\n",
      "cw\n",
      "cx\n",
      "cy\n",
      "cz\n",
      "dw\n",
      "dx\n",
      "dy\n",
      "dz\n"
     ]
    }
   ],
   "source": [
    "# ASSUMING\n",
    "# The number of key-value pairs is limited to 2\n",
    "\n",
    "import ast\n",
    "\n",
    "dic = input('Enter a dictionary with list values: ')\n",
    "dic = ast.literal_eval(dic)\n",
    "\n",
    "list1 = dic['1']\n",
    "list2 = dic['2']\n",
    "\n",
    "for l1 in list1:\n",
    "    for l2 in list2:\n",
    "        print(l1+l2)"
   ]
  }
 ],
 "metadata": {
  "kernelspec": {
   "display_name": "Python 3",
   "language": "python",
   "name": "python3"
  },
  "language_info": {
   "codemirror_mode": {
    "name": "ipython",
    "version": 3
   },
   "file_extension": ".py",
   "mimetype": "text/x-python",
   "name": "python",
   "nbconvert_exporter": "python",
   "pygments_lexer": "ipython3",
   "version": "3.7.3"
  }
 },
 "nbformat": 4,
 "nbformat_minor": 2
}
