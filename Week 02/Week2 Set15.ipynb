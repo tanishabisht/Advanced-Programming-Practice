{
 "cells": [
  {
   "cell_type": "markdown",
   "metadata": {},
   "source": [
    "# Week2 Set15\n",
    "\n",
    "## Q1\n",
    "Write a Python function to check whether a number is in a given range."
   ]
  },
  {
   "cell_type": "code",
   "execution_count": 1,
   "metadata": {},
   "outputs": [
    {
     "name": "stdout",
     "output_type": "stream",
     "text": [
      "Enter the max number of the range: 876\n",
      "Enter the min number of the range: 457\n",
      "Enter a number in the given range765\n",
      "The number entered is in the given range\n"
     ]
    }
   ],
   "source": [
    "uppr = int(input('Enter the max number of the range: '))\n",
    "lowr = int(input('Enter the min number of the range: '))\n",
    "num = int(input('Enter a number in the given range'))\n",
    "\n",
    "if num>=lowr and num<=uppr:\n",
    "    print('The number entered is in the given range')\n",
    "else:\n",
    "    print('The entered number is not in the given range')"
   ]
  },
  {
   "cell_type": "markdown",
   "metadata": {},
   "source": [
    "## Q2\n",
    "Write a Python function that prints out the first n rows of Pascal's triangle"
   ]
  },
  {
   "cell_type": "code",
   "execution_count": 2,
   "metadata": {},
   "outputs": [
    {
     "name": "stdout",
     "output_type": "stream",
     "text": [
      "1 \n",
      "1 1 \n",
      "1 2 1 \n",
      "1 3 3 1 \n",
      "1 4 6 4 1 \n",
      "1 5 0 1 6 1 \n",
      "1 6 5 1 7 7 1 \n",
      "1 7 1 7 8 4 9 1 \n",
      "1 8 8 8 5 3 4 1 2 \n",
      "1 9 6 7 4 9 7 5 3 2 \n"
     ]
    }
   ],
   "source": [
    "def pascals(num):\n",
    "    for i in range(num):        \n",
    "        n = 11**i\n",
    "        while n!=0:\n",
    "            r = n%10\n",
    "            print(r, end=' ')\n",
    "            n = int(n/10)\n",
    "        print()\n",
    "            \n",
    "pascals(10)"
   ]
  },
  {
   "cell_type": "markdown",
   "metadata": {},
   "source": [
    "## Q3\n",
    "Write a Python program to compute the sum of all the elements of each tuple stored inside a list of tuples. \n",
    "\n",
    "Original list of tuples: [(1, 2), (2, 3), (3, 4)]<br>\n",
    "Sum of all the elements of each tuple stored inside the said list of tuples: [3, 5, 7] <br>\n",
    "Original list of tuples: [(1, 2, 6), (2, 3, -6), (3, 4), (2, 2, 2, 2)] <br>\n",
    "Sum of all the elements of each tuple stored inside the said list of tuples: [9, -1, 7, 8]"
   ]
  },
  {
   "cell_type": "code",
   "execution_count": 5,
   "metadata": {},
   "outputs": [
    {
     "name": "stdout",
     "output_type": "stream",
     "text": [
      "Enter a list of tuples: [(1,2,6), (2,3,-6), (3,4), (2,2,2,2)]\n",
      "Sum of all the elements of each tuple stored inside the said list of tuples: [9, -1, 7, 8]\n"
     ]
    }
   ],
   "source": [
    "import ast\n",
    "\n",
    "tupleList = input('Enter a list of tuples: ')\n",
    "tupleList = ast.literal_eval(tupleList)\n",
    "\n",
    "sumList = []\n",
    "for tup in tupleList:\n",
    "    sumList.append(sum(tup))\n",
    "    \n",
    "print('Sum of all the elements of each tuple stored inside the said list of tuples: ' + str(sumList))"
   ]
  },
  {
   "cell_type": "markdown",
   "metadata": {},
   "source": [
    "## Q4\n",
    " Write a Python program to create and display all combinations of letters, selecting each letter from a different key in a dictionary.\n",
    "\n",
    "**Sample data :** {'1':['a','b'], '2':['c','d']}<br>\n",
    "**Expected Output:** <br>\n",
    "ac<br>\n",
    "ad<br>\n",
    "bc<br>\n",
    "bd"
   ]
  },
  {
   "cell_type": "code",
   "execution_count": 4,
   "metadata": {},
   "outputs": [
    {
     "name": "stdout",
     "output_type": "stream",
     "text": [
      "Enter a dictionary with list values: {'1':['a','b','c','d'], '2':['w','x','y','z']}\n",
      "aw\n",
      "ax\n",
      "ay\n",
      "az\n",
      "bw\n",
      "bx\n",
      "by\n",
      "bz\n",
      "cw\n",
      "cx\n",
      "cy\n",
      "cz\n",
      "dw\n",
      "dx\n",
      "dy\n",
      "dz\n"
     ]
    }
   ],
   "source": [
    "# ASSUMING\n",
    "# The number of key-value pairs is limited to 2\n",
    "\n",
    "import ast\n",
    "\n",
    "dic = input('Enter a dictionary with list values: ')\n",
    "dic = ast.literal_eval(dic)\n",
    "\n",
    "list1 = dic['1']\n",
    "list2 = dic['2']\n",
    "\n",
    "for l1 in list1:\n",
    "    for l2 in list2:\n",
    "        print(l1+l2)"
   ]
  },
  {
   "cell_type": "markdown",
   "metadata": {},
   "source": [
    "## Q5\n",
    " Write 2 lambda functions in python to calculate the volume and area of a sphere using the formula."
   ]
  },
  {
   "cell_type": "code",
   "execution_count": 3,
   "metadata": {},
   "outputs": [
    {
     "name": "stdout",
     "output_type": "stream",
     "text": [
      "Volume of a sphere with radius 10 is:  4186.666666666667\n",
      "Surface area of a sphere with radius 10 is:  1256.0\n"
     ]
    }
   ],
   "source": [
    "volume = lambda r : (4*3.14*(r**3))/3\n",
    "area = lambda r : 4*3.14*(r**2)\n",
    "\n",
    "print(\"Volume of a sphere with radius 10 is: \", volume(10))\n",
    "print(\"Surface area of a sphere with radius 10 is: \", area(10))"
   ]
  }
 ],
 "metadata": {
  "kernelspec": {
   "display_name": "Python 3",
   "language": "python",
   "name": "python3"
  },
  "language_info": {
   "codemirror_mode": {
    "name": "ipython",
    "version": 3
   },
   "file_extension": ".py",
   "mimetype": "text/x-python",
   "name": "python",
   "nbconvert_exporter": "python",
   "pygments_lexer": "ipython3",
   "version": "3.7.3"
  }
 },
 "nbformat": 4,
 "nbformat_minor": 2
}
