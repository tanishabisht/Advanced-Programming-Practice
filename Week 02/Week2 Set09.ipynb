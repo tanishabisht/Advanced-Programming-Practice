{
 "cells": [
  {
   "cell_type": "markdown",
   "metadata": {},
   "source": [
    "# Week 2 Set 9\n",
    "\n",
    "## Q1\n",
    "Create a function showEmployee() in such a way that it should accept employee name, and it’s salary and display both, and if the salary is missing in function call it should show it as 9000"
   ]
  },
  {
   "cell_type": "code",
   "execution_count": 1,
   "metadata": {},
   "outputs": [
    {
     "name": "stdout",
     "output_type": "stream",
     "text": [
      "Employee name is: Sudhi\n",
      "Employee salary is: 10000\n",
      "Employee name is: Prakki\n",
      "Employee salary is: 9000\n"
     ]
    }
   ],
   "source": [
    "def showEmployee(name, salary=9000):\n",
    "    print('Employee name is: ' + name)\n",
    "    print('Employee salary is: ' + str(salary))\n",
    "\n",
    "showEmployee('Sudhi', 10000)\n",
    "showEmployee('Prakki')"
   ]
  },
  {
   "cell_type": "markdown",
   "metadata": {},
   "source": [
    "## Q2\n",
    "Write a Python program to create a lambda function that adds 15 to a given number passed in as an argument, also create a lambda function that multiplies argument x with argument y and print the result"
   ]
  },
  {
   "cell_type": "code",
   "execution_count": 3,
   "metadata": {},
   "outputs": [
    {
     "name": "stdout",
     "output_type": "stream",
     "text": [
      "Adding 15 to the number 17: 32\n",
      "Multiplying 7 with 9: 63\n"
     ]
    }
   ],
   "source": [
    "add15 = lambda a : a+15\n",
    "multiply = lambda x,y : print(x*y)\n",
    "\n",
    "print('Adding 15 to the number 17: ' + str(add15(17)))\n",
    "print('Multiplying 7 with 9: ', end='')\n",
    "multiply(7,9)"
   ]
  },
  {
   "cell_type": "markdown",
   "metadata": {},
   "source": [
    "## Q3\n",
    "Write a Python program to count the number of strings where the string length is 2 or more and the first and last character are same from a given list of strings"
   ]
  },
  {
   "cell_type": "code",
   "execution_count": 5,
   "metadata": {},
   "outputs": [
    {
     "name": "stdout",
     "output_type": "stream",
     "text": [
      "2\n"
     ]
    }
   ],
   "source": [
    "stringList = ['Sudhis', 'Prakki', 'Eeshu', 'Saach', 'Shivs', 'Timsu']\n",
    "\n",
    "count = 0\n",
    "for string in stringList:\n",
    "    if len(string) >= 2 and string[0].lower() == string[-1].lower():\n",
    "        count += 1\n",
    "\n",
    "print(count)"
   ]
  },
  {
   "cell_type": "markdown",
   "metadata": {},
   "source": [
    "## Q4\n",
    "Write a Python program to convert a tuple of string values to a tuple of integer values.\n",
    "\n",
    "**Original tuple values:** <br>\n",
    "(('333', '33'), ('1416', '55'))\n",
    "\n",
    "**New tuple values:** <br>\n",
    "((333, 33), (1416, 55))"
   ]
  },
  {
   "cell_type": "code",
   "execution_count": 15,
   "metadata": {},
   "outputs": [
    {
     "name": "stdout",
     "output_type": "stream",
     "text": [
      "((333, 33), (1416, 55))\n"
     ]
    }
   ],
   "source": [
    "originalTuple = (('333', '33'), ('1416', '55'))\n",
    "newTuple = tuple((tuple(int(num) for num in subTup)) for subTup in originalTuple)\n",
    "print(newTuple)"
   ]
  },
  {
   "cell_type": "markdown",
   "metadata": {},
   "source": [
    "## Q5\n",
    "Write a Python program to print all unique values in a dictionary.\n",
    "\n",
    "**Sample Data:** [{\"V\":\"S001\"}, {\"V\": \"S002\"}, {\"VI\": \"S001\"}, {\"VI\": \"S005\"}, {\"VII\":\"S005\"}, {\"V\":\"S009\"}, {\"VIII\":\"S007\"}]\n",
    "\n",
    "**Expected Output:** Unique Values: {'S005', 'S002', 'S007', 'S001', 'S009'}"
   ]
  },
  {
   "cell_type": "code",
   "execution_count": 20,
   "metadata": {},
   "outputs": [
    {
     "name": "stdout",
     "output_type": "stream",
     "text": [
      "Unique values are: \n",
      "['S001', 'S002', 'S005', 'S009', 'S007']\n"
     ]
    }
   ],
   "source": [
    "dic = [{\"V\":\"S001\"}, {\"V\": \"S002\"}, {\"VI\": \"S001\"}, {\"VI\": \"S005\"}, {\"VII\":\"S005\"}, {\"V\":\"S009\"}, {\"VIII\":\"S007\"}]\n",
    "values = [list(d.values())[0] for d in dic]\n",
    "\n",
    "uniqueVals = []\n",
    "for val in values:\n",
    "    if val not in uniqueVals:\n",
    "        uniqueVals.append(val)\n",
    "\n",
    "print('Unique values are: ')\n",
    "print(uniqueVals)"
   ]
  }
 ],
 "metadata": {
  "kernelspec": {
   "display_name": "Python 3",
   "language": "python",
   "name": "python3"
  },
  "language_info": {
   "codemirror_mode": {
    "name": "ipython",
    "version": 3
   },
   "file_extension": ".py",
   "mimetype": "text/x-python",
   "name": "python",
   "nbconvert_exporter": "python",
   "pygments_lexer": "ipython3",
   "version": "3.7.3"
  }
 },
 "nbformat": 4,
 "nbformat_minor": 2
}
