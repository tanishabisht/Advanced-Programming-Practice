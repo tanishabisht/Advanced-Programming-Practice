{
 "cells": [
  {
   "cell_type": "markdown",
   "metadata": {},
   "source": [
    "# Week2 Set5\n",
    "\n",
    "## Q1\n",
    "Consider a list of all the computer languages ['CPP', 'C', 'Python', 'CPP', 'Java', 'Java']. There are some languages repeated in the list. Write a Code in Python to display the unique elements from List."
   ]
  },
  {
   "cell_type": "code",
   "execution_count": 1,
   "metadata": {},
   "outputs": [
    {
     "name": "stdout",
     "output_type": "stream",
     "text": [
      "List of all the unique elements from the given list are: \n",
      "['Python', 'CPP', 'Java', 'C']\n"
     ]
    }
   ],
   "source": [
    "list1 = ['CPP', 'C', 'Python', 'CPP', 'Java', 'Java']\n",
    "print('List of all the unique elements from the given list are: ')\n",
    "print(list(set(list1)))"
   ]
  },
  {
   "cell_type": "markdown",
   "metadata": {},
   "source": [
    "## Q2\n",
    "Assume we have the following list which contains the name of some all-time greatest cricket players: <br>\n",
    "player = ['Kohli','Tendulkar','Lara','Ponting','Kallis']. <br>\n",
    "Write a function _select()_ in Python which takes a list as parameter. Your task is to write a code in the function that selects one player randomly and display it."
   ]
  },
  {
   "cell_type": "code",
   "execution_count": 8,
   "metadata": {},
   "outputs": [
    {
     "name": "stdout",
     "output_type": "stream",
     "text": [
      "Player randomly selected is: Kallis\n"
     ]
    }
   ],
   "source": [
    "import random\n",
    "\n",
    "def select(players):\n",
    "    length = len(players)\n",
    "    n = random.randint(0,length-1)\n",
    "    return players[n]\n",
    "\n",
    "players = ['Kohli','Tendulkar','Lara','Ponting','Kallis']\n",
    "\n",
    "print('Player randomly selected is: ' + select(players))"
   ]
  },
  {
   "cell_type": "markdown",
   "metadata": {},
   "source": [
    "## Q3\n",
    "Given an array A containing n integers. The task is to check whether the array is Monotonic or not. An array is monotonic if it is either monotone increasing or monotone decreasing. \n",
    "\n",
    "An array A is monotone increasing if for all i<=j, A[i]<=A[j]. <br>\n",
    "An array A is monotone decreasing if for all i<=j, A[i]>=A[j].\n",
    "\n",
    "Your task is to write a function _CheckMonotonic()_ that takes the input array as input. Return “True” if the given array A\n",
    "is monotonic else return “False”.\n",
    "\n",
    "**Input :** 6 5 4 4 <br>\n",
    "**Output:** True\n",
    "\n",
    "**Input :** 5 12 10 15 <br>\n",
    "**Output :** False"
   ]
  },
  {
   "cell_type": "code",
   "execution_count": 12,
   "metadata": {},
   "outputs": [
    {
     "name": "stdout",
     "output_type": "stream",
     "text": [
      "Enter space seperated integer numbers: 5 12 10 15\n",
      "The given array is not monotonic.\n"
     ]
    }
   ],
   "source": [
    "def checkMonotonic(arr):\n",
    "    if arr[0]>arr[1]:\n",
    "        for i in range(len(arr)-1):\n",
    "            if arr[i]<arr[i+1]:\n",
    "                return False\n",
    "    else:\n",
    "        for i in range(len(arr)-1):\n",
    "            if arr[i]>arr[i+1]:\n",
    "                return False\n",
    "    return True\n",
    "\n",
    "arr = input('Enter space seperated integer numbers: ')\n",
    "arr = arr.split(' ')\n",
    "isMonotonic = checkMonotonic(arr)\n",
    "\n",
    "if isMonotonic:\n",
    "    print('The given array is monotonic.')\n",
    "else:\n",
    "    print('The given array is not monotonic.')"
   ]
  },
  {
   "cell_type": "markdown",
   "metadata": {},
   "source": [
    "## Q4\n",
    "In the COVID 19 pandemic, the districts were categorized as red, green and yellow zone, depending on the number of cases recorded. Write a subroutine “zone()” in python for this application. The task is to get the name of the district and number of cases recorded per week. The subroutine takes the number of cases as parameter and returns the zone of the district. \n",
    "\n",
    "- Cases recorded per week ........ Zone\n",
    "- =>10,000 ......................... Red\n",
    "- =>2000 and <10,000 ............. Yellow\n",
    "- <2,000 ............................ Green\n",
    "\n",
    "**Input:**<br>\n",
    "District: Kancheepuram<br>\n",
    "Number of cases: 7000\n",
    "\n",
    "**Output:**<br>\n",
    "Yellow"
   ]
  },
  {
   "cell_type": "code",
   "execution_count": 13,
   "metadata": {},
   "outputs": [
    {
     "name": "stdout",
     "output_type": "stream",
     "text": [
      "District: Kancheepuram\n",
      "Number of cases: 7000\n",
      "Yellow\n"
     ]
    }
   ],
   "source": [
    "def zone():\n",
    "    name = input('District: ')\n",
    "    caseNum = int(input('Number of cases: '))\n",
    "    \n",
    "    if caseNum>=10000:\n",
    "        print('Red')\n",
    "    elif caseNum>=2000 and caseNum<10000:\n",
    "        print('Yellow')\n",
    "    elif caseNum<2000:\n",
    "        print('Green')\n",
    "        \n",
    "zone()    "
   ]
  },
  {
   "cell_type": "markdown",
   "metadata": {},
   "source": [
    "## Q5\n",
    "A set of lottery ticket numbers are in the range [1,10]. You have purchased a ticket numbered N. The official drawing is done by randomly choosing a number in [0,10]. If the drawn number matches with your ticket number, then you are the jackpot winner. Write a python function _Winner()_ for choosing the winner of the lottery system. The function should\n",
    "return the lucky number using the random module."
   ]
  },
  {
   "cell_type": "code",
   "execution_count": 14,
   "metadata": {},
   "outputs": [
    {
     "name": "stdout",
     "output_type": "stream",
     "text": [
      "Enter a number between 0 to 10: 4\n",
      "Try Again Later\n"
     ]
    }
   ],
   "source": [
    "import random\n",
    "\n",
    "def Winner():\n",
    "    lottery = random.randint(1,10)\n",
    "    n = int(input('Enter a number between 0 to 10: '))\n",
    "    if n == lottery:\n",
    "        print('YOU ARE THE WINNER!!')\n",
    "    else:\n",
    "        print('Try Again Later')\n",
    "        \n",
    "Winner()"
   ]
  }
 ],
 "metadata": {
  "kernelspec": {
   "display_name": "Python 3",
   "language": "python",
   "name": "python3"
  },
  "language_info": {
   "codemirror_mode": {
    "name": "ipython",
    "version": 3
   },
   "file_extension": ".py",
   "mimetype": "text/x-python",
   "name": "python",
   "nbconvert_exporter": "python",
   "pygments_lexer": "ipython3",
   "version": "3.7.3"
  }
 },
 "nbformat": 4,
 "nbformat_minor": 2
}
