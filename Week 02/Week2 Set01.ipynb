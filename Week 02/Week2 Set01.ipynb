{
 "cells": [
  {
   "cell_type": "markdown",
   "metadata": {},
   "source": [
    "# Week 2 Set 1\n",
    "\n",
    "## Q1\n",
    "Write the python program to add two lists of input [1,2,3,4,5,6] and [4,6,12,3,2,1] using map and lambda and then perform multiplication for the resultant value off add with the input list [4,2,8,3,2,1]"
   ]
  },
  {
   "cell_type": "code",
   "execution_count": 15,
   "metadata": {},
   "outputs": [
    {
     "name": "stdout",
     "output_type": "stream",
     "text": [
      "List after addition: [5, 8, 15, 7, 7, 7]\n",
      "List after multiplication: [20, 16, 120, 21, 14, 7]\n"
     ]
    }
   ],
   "source": [
    "list1 = [1, 2, 3, 4, 5, 6]\n",
    "list2 = [4, 6, 12, 3, 2, 1]\n",
    "list3 = [4, 2, 8, 3, 2, 1]\n",
    "\n",
    "add = lambda a,b : a+b\n",
    "mul = lambda a,b : a*b\n",
    "\n",
    "addList = list(map(add, list1, list2))\n",
    "print('List after addition: ' + str(addList))\n",
    "\n",
    "multiplyList = list(map(mul, addList, list3))\n",
    "print('List after multiplication: ' + str(multiplyList))"
   ]
  },
  {
   "cell_type": "markdown",
   "metadata": {},
   "source": [
    "## Q2\n",
    "Get the List of strings as input and list of strings individually as character using map() function using python program."
   ]
  },
  {
   "cell_type": "code",
   "execution_count": 2,
   "metadata": {},
   "outputs": [
    {
     "name": "stdout",
     "output_type": "stream",
     "text": [
      "Enter the number of strings: 3\n",
      "Enter the string: randome\n",
      "[['r'], ['a'], ['n'], ['d'], ['o'], ['m'], ['e']]\n",
      "Enter the string: name\n",
      "[['n'], ['a'], ['m'], ['e']]\n",
      "Enter the string: cassand\n",
      "[['c'], ['a'], ['s'], ['s'], ['a'], ['n'], ['d']]\n"
     ]
    }
   ],
   "source": [
    "n = int(input('Enter the number of strings: '))\n",
    "\n",
    "for i in range(n):\n",
    "    string = input('Enter the string: ')\n",
    "    list1 = list(map(list,string))\n",
    "    print(list1)"
   ]
  },
  {
   "cell_type": "markdown",
   "metadata": {},
   "source": [
    "## Q3\n",
    "Write the python program the calculate cube of a number by using def () and lambda () function. "
   ]
  },
  {
   "cell_type": "code",
   "execution_count": 18,
   "metadata": {},
   "outputs": [
    {
     "name": "stdout",
     "output_type": "stream",
     "text": [
      "Cube of a number using function:  216\n",
      "Cube of a number using lambda function:  729\n"
     ]
    }
   ],
   "source": [
    "def cube(num):\n",
    "    return num**3\n",
    "\n",
    "cubeLambda = lambda n : n**3\n",
    "\n",
    "print('Cube of a number using function: ', str(cube(6)))\n",
    "print('Cube of a number using lambda function: ', str(cubeLambda(9)))"
   ]
  },
  {
   "cell_type": "markdown",
   "metadata": {},
   "source": [
    "## Q4\n",
    "Write the python program to calculate Fahrenheit and Celsius using map() function and print the temperature in Fahrenheit and Celsius.\n",
    "\n",
    "**WRONG QUESTION: should be lambda instead of map**"
   ]
  },
  {
   "cell_type": "code",
   "execution_count": 8,
   "metadata": {},
   "outputs": [
    {
     "name": "stdout",
     "output_type": "stream",
     "text": [
      "Enter the temperature in Fahrenheit: 32\n",
      "The corresponding temperature in Celsius is: 89.6\n",
      "Enter the temperature in Celsius: 100\n",
      "The corresponding temperature in Fahrenheit is: 37.77777777777778\n"
     ]
    }
   ],
   "source": [
    "fToC = lambda f : (f-32)*(5/9)\n",
    "cToF = lambda c : (c*(9/5)) + 32\n",
    "\n",
    "C = int(input('Enter the temperature in Fahrenheit: '))\n",
    "print('The corresponding temperature in Celsius is: ' + str(cToF(C)))\n",
    "\n",
    "F = int(input('Enter the temperature in Celsius: '))\n",
    "print('The corresponding temperature in Fahrenheit is: ' + str(fToC(F)))"
   ]
  },
  {
   "cell_type": "markdown",
   "metadata": {},
   "source": [
    "## Q5\n",
    "Write the python program to calculate the sequence of the first 11 Fibonacci numbers and filter out first the odd and then the even elements from the sequence of the first 11 Fibonacci numbers."
   ]
  },
  {
   "cell_type": "code",
   "execution_count": 7,
   "metadata": {},
   "outputs": [
    {
     "name": "stdout",
     "output_type": "stream",
     "text": [
      "Odd Numbers: [3, 5, 13, 21, 55, 89]\n",
      "Even Numbers: [2, 8, 34]\n"
     ]
    }
   ],
   "source": [
    "a = 1\n",
    "b = 1\n",
    "\n",
    "odd = lambda a : a%2 != 0\n",
    "even = lambda a : a%2 == 0\n",
    "\n",
    "sum = 0;\n",
    "fibonacciList = []\n",
    "for i in range(9):\n",
    "    sum = a + b\n",
    "    fibonacciList.append(sum)\n",
    "    a = b\n",
    "    b = sum\n",
    "\n",
    "print('Odd Numbers: ' + str(list(filter(odd, fibonacciList))))\n",
    "print('Even Numbers: ' + str(list(filter(even, fibonacciList))))"
   ]
  }
 ],
 "metadata": {
  "kernelspec": {
   "display_name": "Python 3",
   "language": "python",
   "name": "python3"
  },
  "language_info": {
   "codemirror_mode": {
    "name": "ipython",
    "version": 3
   },
   "file_extension": ".py",
   "mimetype": "text/x-python",
   "name": "python",
   "nbconvert_exporter": "python",
   "pygments_lexer": "ipython3",
   "version": "3.7.3"
  }
 },
 "nbformat": 4,
 "nbformat_minor": 2
}
