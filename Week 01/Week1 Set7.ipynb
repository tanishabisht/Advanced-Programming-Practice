{
 "cells": [
  {
   "cell_type": "markdown",
   "metadata": {},
   "source": [
    "# Week1 Set 7\n",
    "\n",
    "### Question No 1\n",
    "Create a class customer with name, address as its member variables. In list of account holder’s information, find the account holder who live nearby (using pincodes). If a name of the person is given then, customers of the same bank lives nearby should be given as output."
   ]
  },
  {
   "cell_type": "code",
   "execution_count": null,
   "metadata": {},
   "outputs": [
    {
     "name": "stdout",
     "output_type": "stream",
     "text": [
      "1. Add members \n",
      "2. Find nearby users \n",
      "3. Exit\n",
      "Enter your choice: 1\n",
      "Enter your name: Shivansh\n",
      "Enter the pin: 1212\n",
      "1. Add members \n",
      "2. Find nearby users \n",
      "3. Exit\n",
      "Enter your choice: 1\n",
      "Enter your name: Prakhar\n",
      "Enter the pin: 1212\n",
      "1. Add members \n",
      "2. Find nearby users \n",
      "3. Exit\n",
      "Enter your choice: 2\n",
      "Enter name: Shivansh\n",
      "Near by users are: \n",
      "\n",
      "Name:  Prakhar \n",
      "Pin:  1212\n",
      "1. Add members \n",
      "2. Find nearby users \n",
      "3. Exit\n",
      "Enter your choice: 3\n",
      "1. Add members \n",
      "2. Find nearby users \n",
      "3. Exit\n"
     ]
    }
   ],
   "source": [
    "class Customer():\n",
    "    \n",
    "    def __init__(self):\n",
    "        self.name = ''\n",
    "        self.pin = 0\n",
    "        \n",
    "    def reg(self):\n",
    "        self.name=input(\"Enter your name: \")\n",
    "        self.pin=int(input(\"Enter the pin: \"))\n",
    "        \n",
    "    def nearby(self, info):\n",
    "        for i in info:\n",
    "            if i.pin == self.pin and i.name != self.name:\n",
    "                print(\"\\nName: \", i.name, \"\\nPin: \", i.pin)\n",
    "\n",
    "\n",
    "info = []\n",
    "while True:\n",
    "    print(\"1. Add members \\n2. Find nearby users \\n3. Exit\")\n",
    "    x = int(input(\"Enter your choice: \"))\n",
    "    if x==1:\n",
    "        a = Customer()\n",
    "        a.reg()\n",
    "        info.append(a)\n",
    "    if x==2:\n",
    "        name = input(\"Enter name: \")\n",
    "        print(\"Near by users are: \")\n",
    "        for i in info:\n",
    "            if i.name == name:\n",
    "                i.nearby(info)\n",
    "            break\n",
    "    if x==3:\n",
    "        exit(0)"
   ]
  },
  {
   "cell_type": "markdown",
   "metadata": {},
   "source": [
    "### Question No 2\n",
    "Create a class that can calculate the IT the based on the loan and saving account transactions by the customer \n",
    "\n",
    "- Take the total amount deposited through out the year in an array \n",
    "- Deduct the expenditure on saving to the maximum of 1.5L. \n",
    "- For the rest of the amount calculate 6% of IT till 10L \n",
    "- 8% till 15L\n",
    "- Above 15L make 10% as IT"
   ]
  },
  {
   "cell_type": "code",
   "execution_count": 1,
   "metadata": {},
   "outputs": [
    {
     "name": "stdout",
     "output_type": "stream",
     "text": [
      "The IT amount for Shivansh is Rs.2400.0 only\n",
      "The IT amount for Prakhar is Rs.200000.0 only\n",
      "The IT amount for Eeshan is Rs.350000.0 only\n",
      "The IT amount for Sudhanshu is Rs.36000.0 only\n",
      "The IT amount for Tanny is Rs.54000.0 only\n"
     ]
    }
   ],
   "source": [
    "class IT():\n",
    "\n",
    "    def __init__(self, name, amt):\n",
    "        self.name = name\n",
    "        self.amt = amt\n",
    "\n",
    "    def calc(self):\n",
    "        if(self.amt <= 1000000):\n",
    "            print(\"The IT amount for {} is Rs.{} only\".format(self.name, (self.amt*0.06)))\n",
    "        elif(self.amt > 1000000 and self.amt <= 1500000):\n",
    "            print(\"The IT amount for {} is Rs.{} only\".format(self.name, (self.amt*0.08)))\n",
    "        else:\n",
    "            print(\"The IT amount for {} is Rs.{} only\".format(self.name, (self.amt*0.1)))\n",
    "\n",
    "\n",
    "b = IT(\"Shivansh\", 40000)\n",
    "c = IT(\"Prakhar\", 2000000)\n",
    "d = IT(\"Eeshan\", 3500000)\n",
    "e = IT(\"Sudhanshu\", 600000)\n",
    "f = IT(\"Tanny\", 900000)\n",
    "\n",
    "\n",
    "b.calc()\n",
    "c.calc()\n",
    "d.calc()\n",
    "e.calc()\n",
    "f.calc()"
   ]
  },
  {
   "cell_type": "markdown",
   "metadata": {},
   "source": [
    "### Question No 3\n",
    "Implement the following scenario using Inheritance. Create a class bank make appropriate variables, assign customer class as child of bank. Create classes Saving and Loan and Current account. Make all these classes as child of bank. Maintain transaction function in all these class to track the tractions"
   ]
  },
  {
   "cell_type": "code",
   "execution_count": 5,
   "metadata": {},
   "outputs": [],
   "source": [
    "class Bank:    \n",
    "    def __init__(self, balnc):\n",
    "        self.balnc = balnc\n",
    "        \n",
    "        \n",
    "        \n",
    "class Customer(Bank):    \n",
    "    def __init__(self, balnc):\n",
    "        self.balnc = balnc\n",
    "        \n",
    "        \n",
    "        \n",
    "class Saving(Bank):    \n",
    "    def __init__(self, balnc):\n",
    "        self.balnc = balnc\n",
    "        \n",
    "    def deposit(self, deposit):\n",
    "        self.balnc += deposit\n",
    "        \n",
    "    def withdraw(self, withdrawl):\n",
    "        self.balnc -= withdrawl\n",
    "        \n",
    "        \n",
    "        \n",
    "class Current(Bank):\n",
    "    def __init__(self, alnc):\n",
    "        self.balnc=balnc\n",
    "        \n",
    "    def deposit(self, deposit):\n",
    "        self.balnc+=deposit\n",
    "        \n",
    "    def withdraw(self, withdrawl):\n",
    "        self.balnc-=withdrawl\n",
    "        \n",
    "        \n",
    "        \n",
    "class Loan(Bank):\n",
    "    def __init__(self, balnc):\n",
    "        self.balnc = balnc\n",
    "        \n",
    "    def deposit(self, deposit):\n",
    "        self.balnc += deposit\n",
    "        \n",
    "    def withdraw(self, withdrawl):\n",
    "        self.balnc -= withdrawl    "
   ]
  },
  {
   "cell_type": "code",
   "execution_count": 6,
   "metadata": {},
   "outputs": [
    {
     "data": {
      "text/plain": [
       "1000"
      ]
     },
     "execution_count": 6,
     "metadata": {},
     "output_type": "execute_result"
    }
   ],
   "source": [
    "customer1 = Saving(1000)\n",
    "customer1.balnc"
   ]
  },
  {
   "cell_type": "code",
   "execution_count": 7,
   "metadata": {},
   "outputs": [
    {
     "data": {
      "text/plain": [
       "1200"
      ]
     },
     "execution_count": 7,
     "metadata": {},
     "output_type": "execute_result"
    }
   ],
   "source": [
    "customer1.deposit(200)\n",
    "customer1.balnc"
   ]
  },
  {
   "cell_type": "markdown",
   "metadata": {},
   "source": [
    "## Q4\n",
    "In continuation with the above bank class. Now create scoreboard for the customers. Function name of score same in all three classes but scores the point according to the account type. \n",
    "\n",
    "Saving account : Score 1 pt for each 2k credit and deduct .25 for each 2k debit, 1 point for consistent balance of 10k \n",
    "\n",
    "Current account: Score 1 pt for each 2k credit 1 point for consistent balance of 10k, reduce 1 pt for overdue more than 25k \n",
    "\n",
    "Loan amount: Give 1 point for each on time repay and reduce 0.5 points for penalty payment."
   ]
  },
  {
   "cell_type": "code",
   "execution_count": 9,
   "metadata": {},
   "outputs": [],
   "source": [
    "class Bank:\n",
    "    \n",
    "    balnc=0\n",
    "    withdrawl=0\n",
    "    deposit=0\n",
    "    \n",
    "    def __init__(self,balnc):\n",
    "        self.balnc=balnc\n",
    "        \n",
    "        \n",
    "        \n",
    "class Customer(Bank):\n",
    "    def __init__(self,balnc):\n",
    "        self.balnc=balnc\n",
    "        \n",
    "        \n",
    "        \n",
    "class Saving(Bank):\n",
    "    score=0\n",
    "    def __init__(self,balnc):\n",
    "        self.balnc=balnc\n",
    "        self.score=0        \n",
    "        \n",
    "    def score1(self,deposit):\n",
    "        if(self.deposit>0):\n",
    "            self.score += deposit/2000\n",
    "        if(self.balnc>=10000):\n",
    "            self.score += 1\n",
    "        print(self.score)\n",
    "        \n",
    "    def score2(self,withdrawl):\n",
    "        if(withdrawl>0):\n",
    "            self.score-=withdrawl/8000\n",
    "        if(self.balnc>=10000):\n",
    "            self.score+=1\n",
    "        print(self.score)\n",
    "        \n",
    "    def deposit(self,deposit):\n",
    "        self.deposit=deposit\n",
    "        self.balnc+=deposit\n",
    "        self.score1(deposit)\n",
    "        \n",
    "    def withdraw(self,withdrawl):\n",
    "        self.withdrawl=withdrawl\n",
    "        self.balnc-=withdrawl\n",
    "        self.score2(withdrawl)\n",
    "        \n",
    "        \n",
    "        \n",
    "class Current(Bank):\n",
    "    score=0\n",
    "    def __init__(self,balnc):\n",
    "        self.balnc=balnc\n",
    "        self.score=0        \n",
    "        \n",
    "    def score1(self,deposit):\n",
    "        if(self.deposit>0):\n",
    "            self.score+=deposit/2000\n",
    "        if(self.balnc>=10000):\n",
    "            self.score+=1\n",
    "        print(self.score)\n",
    "        \n",
    "    def score2(self,withdrawl):\n",
    "        if(self.balnc<25000):\n",
    "            self.score-=1\n",
    "        if(self.balnc>=10000):\n",
    "            self.score+=1\n",
    "        print(self.score)\n",
    "        \n",
    "    def deposit(self,deposit):\n",
    "        self.deposit=deposit\n",
    "        self.balnc+=deposit\n",
    "        self.score1(deposit)\n",
    "        \n",
    "    def withdraw(self,withdrawl):\n",
    "        self.withdrawl=withdrawl\n",
    "        self.balnc-=withdrawl\n",
    "        self.score2(withdrawl)\n",
    "        \n",
    "        \n",
    "        \n",
    "class Loan(Bank):\n",
    "    score=0\n",
    "    def __init__(self,loan_amount):\n",
    "        self.loan_amount=loan_amount\n",
    "        self.score=0\n",
    "        \n",
    "    def repay(self,deposit):\n",
    "        self.deposit=deposit\n",
    "        self.loan_amount-=deposit\n",
    "        self.score1()\n",
    "        \n",
    "    def score1(self):\n",
    "        if(self.loan_amount==0):\n",
    "            self.score+=1\n",
    "        else:\n",
    "            self.score-=0.5\n",
    "        print(self.score)"
   ]
  },
  {
   "cell_type": "code",
   "execution_count": 10,
   "metadata": {},
   "outputs": [
    {
     "name": "stdout",
     "output_type": "stream",
     "text": [
      "0.75\n"
     ]
    }
   ],
   "source": [
    "customer1 = Saving(20000)\n",
    "customer1.withdraw(2000)"
   ]
  },
  {
   "cell_type": "code",
   "execution_count": 11,
   "metadata": {},
   "outputs": [
    {
     "name": "stdout",
     "output_type": "stream",
     "text": [
      "2.75\n"
     ]
    }
   ],
   "source": [
    "customer1.deposit(2000)"
   ]
  },
  {
   "cell_type": "code",
   "execution_count": 12,
   "metadata": {},
   "outputs": [
    {
     "name": "stdout",
     "output_type": "stream",
     "text": [
      "1\n"
     ]
    }
   ],
   "source": [
    "cust2 = Loan(20000)\n",
    "cust2.repay(20000)"
   ]
  },
  {
   "cell_type": "markdown",
   "metadata": {},
   "source": [
    "5. Allow the customers to rate the services of the bank, give (display)customer a choice of service which they want to rate, and allow them to rate. Display the total score given by the particular customer and as the whole. (As an advancement take the score along with date display a chart with sum of scores on each period for each service)."
   ]
  },
  {
   "cell_type": "code",
   "execution_count": 3,
   "metadata": {},
   "outputs": [
    {
     "name": "stdout",
     "output_type": "stream",
     "text": [
      "\n",
      "ENTER THE NUMBER ACCORDING TO THE LIST TO GIVE REVIEWS->\n",
      "1 || DEPOSIT SERVICE\n",
      "2 || WITHDRAWL SERVICE\n",
      "3 || LOAN SANCTION\n",
      "4 || LOAN REPAYMENT\n",
      "EXIT || 0\n",
      "4\n",
      "\n",
      "Enter the rating out of 10  8\n",
      "\n",
      "\n",
      "LOAN REPAYMENT SERVICE GOT THE RATING OF 8/10\n",
      "DATED ON 2021-02-05\n",
      "\n",
      "ENTER THE NUMBER ACCORDING TO THE LIST TO GIVE REVIEWS->\n",
      "1 || DEPOSIT SERVICE\n",
      "2 || WITHDRAWL SERVICE\n",
      "3 || LOAN SANCTION\n",
      "4 || LOAN REPAYMENT\n",
      "EXIT || 0\n",
      "0\n",
      "\n",
      "\n",
      "----------------------------------THE TOTAL SCOREBOARD---------------------------------------------\n",
      "DEPOSIT SERVICE  0\n",
      "WITHDRAWL SERVICE  0\n",
      "LOAN SANCTION SERVICE  0\n",
      "LOAN REPAYMENT SERVICE  8\n"
     ]
    }
   ],
   "source": [
    "from datetime import datetime as d\n",
    "\n",
    "li=[0,0,0,0]\n",
    "choice=0\n",
    "\n",
    "while(True):\n",
    "    choice=int(input(('\\nENTER THE NUMBER ACCORDING TO THE LIST TO GIVE REVIEWS->\\n1 || DEPOSIT SERVICE\\n2 || WITHDRAWL SERVICE\\n3 || LOAN SANCTION\\n4 || LOAN REPAYMENT\\nEXIT || 0\\n')))\n",
    "    if(choice==0):\n",
    "        break\n",
    "    rating=int(input('\\nEnter the rating out of 10  '))\n",
    "    li[choice-1] += rating\n",
    "    num1, num2 = choice, rating\n",
    "    date = d.now()\n",
    "    if(num1==1):\n",
    "        print('\\n\\nDEPOSIT SERVICE GOT THE RATING OF {}/10'.format(num2))\n",
    "    if(num1==2):\n",
    "        print('\\n\\nWITHDRAWL SERVICE GOT THE RATING OF {}/10'.format(num2))\n",
    "    if(num1==3):\n",
    "        print('\\n\\nLOAN SANCTION SERVICE GOT THE RATING OF {}/10'.format(num2))\n",
    "    if(num1==4):\n",
    "        print('\\n\\nLOAN REPAYMENT SERVICE GOT THE RATING OF {}/10'.format(num2))\n",
    "    print(date.strftime(\"DATED ON %Y-%m-%d\"))\n",
    "    \n",
    "print('\\n\\n----------------------------------THE TOTAL SCOREBOARD---------------------------------------------')\n",
    "print('DEPOSIT SERVICE  {}'.format(li[0]))\n",
    "print('WITHDRAWL SERVICE  {}'.format(li[1]))\n",
    "print('LOAN SANCTION SERVICE  {}'.format(li[2]))\n",
    "print('LOAN REPAYMENT SERVICE  {}'.format(li[3]))"
   ]
  },
  {
   "cell_type": "code",
   "execution_count": null,
   "metadata": {},
   "outputs": [],
   "source": []
  }
 ],
 "metadata": {
  "kernelspec": {
   "display_name": "Python 3",
   "language": "python",
   "name": "python3"
  },
  "language_info": {
   "codemirror_mode": {
    "name": "ipython",
    "version": 3
   },
   "file_extension": ".py",
   "mimetype": "text/x-python",
   "name": "python",
   "nbconvert_exporter": "python",
   "pygments_lexer": "ipython3",
   "version": "3.7.3"
  }
 },
 "nbformat": 4,
 "nbformat_minor": 2
}
